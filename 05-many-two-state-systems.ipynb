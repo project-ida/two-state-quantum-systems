{
 "cells": [
  {
   "cell_type": "markdown",
   "metadata": {},
   "source": [
    "<a href=\"https://colab.research.google.com/github/project-ida/two-state-quantum-systems/blob/master/05-many-two-state-systems.ipynb\" target=\"_parent\"><img src=\"https://colab.research.google.com/assets/colab-badge.svg\" alt=\"Open In Colab\"/></a> &nbsp;&nbsp;&nbsp;&nbsp;&nbsp;&nbsp;&nbsp;&nbsp;&nbsp;&nbsp; <a href=\"https://nbviewer.jupyter.org/github/project-ida/two-state-quantum-systems/blob/master/05-many-two-state-systems.ipynb\" target=\"_parent\"><img src=\"https://nbviewer.jupyter.org/static/img/nav_logo.svg\" alt=\"Open In nbviewer\" width=\"100\"/></a>"
   ]
  },
  {
   "cell_type": "markdown",
   "metadata": {},
   "source": [
    "# 5 - Many two state systems"
   ]
  },
  {
   "cell_type": "markdown",
   "metadata": {},
   "source": [
    "> TODO: Intro"
   ]
  },
  {
   "cell_type": "code",
   "execution_count": 2,
   "metadata": {},
   "outputs": [],
   "source": [
    "# Libraries\n",
    "%matplotlib inline\n",
    "import matplotlib.pyplot as plt\n",
    "import matplotlib.ticker as ticker\n",
    "from IPython.display import Image\n",
    "import gif\n",
    "import numpy as np\n",
    "import pandas as pd\n",
    "from qutip import *\n",
    "from qutip.piqs import *\n",
    "from qutip.cy.piqs import j_min, j_vals, m_vals\n",
    "import warnings\n",
    "warnings.filterwarnings('ignore')\n",
    "from itertools import product\n",
    "import os\n",
    "from fractions import Fraction\n",
    "\n",
    "# Functions created in 04 tutorial\n",
    "\n",
    "from libs.helper_05_tutorial import *"
   ]
  },
  {
   "cell_type": "code",
   "execution_count": 3,
   "metadata": {},
   "outputs": [],
   "source": [
    "spins = spin_algebra(2)"
   ]
  },
  {
   "cell_type": "code",
   "execution_count": 4,
   "metadata": {},
   "outputs": [
    {
     "data": {
      "text/latex": [
       "Quantum object: dims = [[2, 2], [2, 2]], shape = (4, 4), type = oper, isherm = True\\begin{equation*}\\left(\\begin{array}{*{11}c}0.500 & 0.0 & 0.0 & 0.0\\\\0.0 & 0.500 & 0.0 & 0.0\\\\0.0 & 0.0 & -0.500 & 0.0\\\\0.0 & 0.0 & 0.0 & -0.500\\\\\\end{array}\\right)\\end{equation*}"
      ],
      "text/plain": [
       "Quantum object: dims = [[2, 2], [2, 2]], shape = (4, 4), type = oper, isherm = True\n",
       "Qobj data =\n",
       "[[ 0.5  0.   0.   0. ]\n",
       " [ 0.   0.5  0.   0. ]\n",
       " [ 0.   0.  -0.5  0. ]\n",
       " [ 0.   0.   0.  -0.5]]"
      ]
     },
     "execution_count": 4,
     "metadata": {},
     "output_type": "execute_result"
    }
   ],
   "source": [
    "spins[2][0]"
   ]
  },
  {
   "cell_type": "code",
   "execution_count": 5,
   "metadata": {},
   "outputs": [
    {
     "data": {
      "text/plain": [
       "[Quantum object: dims = [[2, 2], [2, 2]], shape = (4, 4), type = oper, isherm = True\n",
       " Qobj data =\n",
       " [[ 0.5  0.   0.   0. ]\n",
       "  [ 0.   0.5  0.   0. ]\n",
       "  [ 0.   0.  -0.5  0. ]\n",
       "  [ 0.   0.   0.  -0.5]],\n",
       " Quantum object: dims = [[2, 2], [2, 2]], shape = (4, 4), type = oper, isherm = True\n",
       " Qobj data =\n",
       " [[ 0.5  0.   0.   0. ]\n",
       "  [ 0.  -0.5  0.   0. ]\n",
       "  [ 0.   0.   0.5  0. ]\n",
       "  [ 0.   0.   0.  -0.5]]]"
      ]
     },
     "execution_count": 5,
     "metadata": {},
     "output_type": "execute_result"
    }
   ],
   "source": [
    "spins[2]"
   ]
  },
  {
   "cell_type": "code",
   "execution_count": 6,
   "metadata": {},
   "outputs": [
    {
     "data": {
      "text/latex": [
       "Quantum object: dims = [[2, 2], [1, 1]], shape = (4, 1), type = ket\\begin{equation*}\\left(\\begin{array}{*{11}c}0.0\\\\0.0\\\\0.0\\\\-0.500\\\\\\end{array}\\right)\\end{equation*}"
      ],
      "text/plain": [
       "Quantum object: dims = [[2, 2], [1, 1]], shape = (4, 1), type = ket\n",
       "Qobj data =\n",
       "[[ 0. ]\n",
       " [ 0. ]\n",
       " [ 0. ]\n",
       " [-0.5]]"
      ]
     },
     "execution_count": 6,
     "metadata": {},
     "output_type": "execute_result"
    }
   ],
   "source": [
    "spins[2][0]*tensor(basis(2,1), basis(2,1))"
   ]
  },
  {
   "cell_type": "code",
   "execution_count": 7,
   "metadata": {},
   "outputs": [],
   "source": [
    "A=0.1"
   ]
  },
  {
   "cell_type": "code",
   "execution_count": 8,
   "metadata": {},
   "outputs": [],
   "source": [
    "H = spins[2][0] + spins[2][1] + A*spins[0][0] + A*spins[0][1]"
   ]
  },
  {
   "cell_type": "code",
   "execution_count": 9,
   "metadata": {},
   "outputs": [
    {
     "data": {
      "text/latex": [
       "Quantum object: dims = [[2, 2], [2, 2]], shape = (4, 4), type = oper, isherm = True\\begin{equation*}\\left(\\begin{array}{*{11}c}1.0 & 0.050 & 0.050 & 0.0\\\\0.050 & 0.0 & 0.0 & 0.050\\\\0.050 & 0.0 & 0.0 & 0.050\\\\0.0 & 0.050 & 0.050 & -1.0\\\\\\end{array}\\right)\\end{equation*}"
      ],
      "text/plain": [
       "Quantum object: dims = [[2, 2], [2, 2]], shape = (4, 4), type = oper, isherm = True\n",
       "Qobj data =\n",
       "[[ 1.    0.05  0.05  0.  ]\n",
       " [ 0.05  0.    0.    0.05]\n",
       " [ 0.05  0.    0.    0.05]\n",
       " [ 0.    0.05  0.05 -1.  ]]"
      ]
     },
     "execution_count": 9,
     "metadata": {},
     "output_type": "execute_result"
    }
   ],
   "source": [
    "H"
   ]
  },
  {
   "cell_type": "code",
   "execution_count": 10,
   "metadata": {},
   "outputs": [],
   "source": [
    "df = make_df_for_energy_scan(\"$\\delta$/A\", -40,40, 100, spins[2][0].shape[0])"
   ]
  },
  {
   "cell_type": "code",
   "execution_count": 11,
   "metadata": {},
   "outputs": [
    {
     "data": {
      "text/latex": [
       "Quantum object: dims = [[2, 2], [2, 2]], shape = (4, 4), type = oper, isherm = True\\begin{equation*}\\left(\\begin{array}{*{11}c}1.0 & 0.0 & 0.0 & 0.0\\\\0.0 & 0.0 & 0.0 & 0.0\\\\0.0 & 0.0 & 0.0 & 0.0\\\\0.0 & 0.0 & 0.0 & -1.0\\\\\\end{array}\\right)\\end{equation*}"
      ],
      "text/plain": [
       "Quantum object: dims = [[2, 2], [2, 2]], shape = (4, 4), type = oper, isherm = True\n",
       "Qobj data =\n",
       "[[ 1.  0.  0.  0.]\n",
       " [ 0.  0.  0.  0.]\n",
       " [ 0.  0.  0.  0.]\n",
       " [ 0.  0.  0. -1.]]"
      ]
     },
     "execution_count": 11,
     "metadata": {},
     "output_type": "execute_result"
    }
   ],
   "source": [
    "spins[2][1]+spins[2][0]\n"
   ]
  },
  {
   "cell_type": "code",
   "execution_count": 12,
   "metadata": {},
   "outputs": [],
   "source": [
    "A=0.1\n",
    "for i, row in df.iterrows():\n",
    "    H =  row[ \"$\\delta$/A\"]*A*spins[2][0] + row[ \"$\\delta$/A\"]*A*spins[2][1] + A*spins[0][0] + A*spins[0][1]\n",
    "    evals, ekets = H.eigenstates()\n",
    "    df.iloc[i,1:] = evals"
   ]
  },
  {
   "cell_type": "code",
   "execution_count": 13,
   "metadata": {},
   "outputs": [
    {
     "data": {
      "image/png": "[encoded data removed]",
      "text/plain": [
       "<Figure size 720x576 with 1 Axes>"
      ]
     },
     "metadata": {
      "needs_background": "light"
     },
     "output_type": "display_data"
    }
   ],
   "source": [
    "df.plot(x=\"$\\delta$/A\",figsize=(10,8),legend=True, \n",
    "        title=\"Stationary states ($\\omega=1$, $U=0.2$)     (Fig 2)\");\n",
    "plt.ylabel(\"Energy\");"
   ]
  },
  {
   "cell_type": "code",
   "execution_count": 14,
   "metadata": {},
   "outputs": [],
   "source": [
    "delE = 1"
   ]
  },
  {
   "cell_type": "code",
   "execution_count": 15,
   "metadata": {},
   "outputs": [],
   "source": [
    "A = 0.01"
   ]
  },
  {
   "cell_type": "code",
   "execution_count": 16,
   "metadata": {},
   "outputs": [],
   "source": [
    "H = delE*spins[2][0] + delE*spins[2][1] + A*spins[0][0] + A*spins[0][1]"
   ]
  },
  {
   "cell_type": "code",
   "execution_count": 17,
   "metadata": {},
   "outputs": [
    {
     "data": {
      "text/latex": [
       "Quantum object: dims = [[2, 2], [2, 2]], shape = (4, 4), type = oper, isherm = True\\begin{equation*}\\left(\\begin{array}{*{11}c}1.0 & 0.005 & 0.005 & 0.0\\\\0.005 & 0.0 & 0.0 & 0.005\\\\0.005 & 0.0 & 0.0 & 0.005\\\\0.0 & 0.005 & 0.005 & -1.0\\\\\\end{array}\\right)\\end{equation*}"
      ],
      "text/plain": [
       "Quantum object: dims = [[2, 2], [2, 2]], shape = (4, 4), type = oper, isherm = True\n",
       "Qobj data =\n",
       "[[ 1.     0.005  0.005  0.   ]\n",
       " [ 0.005  0.     0.     0.005]\n",
       " [ 0.005  0.     0.     0.005]\n",
       " [ 0.     0.005  0.005 -1.   ]]"
      ]
     },
     "execution_count": 17,
     "metadata": {},
     "output_type": "execute_result"
    }
   ],
   "source": [
    "H"
   ]
  },
  {
   "cell_type": "code",
   "execution_count": 18,
   "metadata": {},
   "outputs": [],
   "source": [
    "evals, ekets = H.eigenstates()"
   ]
  },
  {
   "cell_type": "code",
   "execution_count": 19,
   "metadata": {},
   "outputs": [
    {
     "data": {
      "text/plain": [
       "array([-1.0000500e+00, -8.8817842e-16,  0.0000000e+00,  1.0000500e+00])"
      ]
     },
     "execution_count": 19,
     "metadata": {},
     "output_type": "execute_result"
    }
   ],
   "source": [
    "evals"
   ]
  },
  {
   "cell_type": "code",
   "execution_count": 20,
   "metadata": {},
   "outputs": [
    {
     "data": {
      "text/plain": [
       "array([Quantum object: dims = [[2, 2], [1, 1]], shape = (4, 1), type = ket\n",
       "Qobj data =\n",
       "[[ 2.49981252e-05]\n",
       " [-4.99975002e-03]\n",
       " [-4.99975002e-03]\n",
       " [ 9.99975002e-01]],\n",
       "       Quantum object: dims = [[2, 2], [1, 1]], shape = (4, 1), type = ket\n",
       "Qobj data =\n",
       "[[ 0.00707071]\n",
       " [-0.70707143]\n",
       " [-0.70707143]\n",
       " [-0.00707071]],\n",
       "       Quantum object: dims = [[2, 2], [1, 1]], shape = (4, 1), type = ket\n",
       "Qobj data =\n",
       "[[ 0.        ]\n",
       " [-0.70710678]\n",
       " [ 0.70710678]\n",
       " [ 0.        ]],\n",
       "       Quantum object: dims = [[2, 2], [1, 1]], shape = (4, 1), type = ket\n",
       "Qobj data =\n",
       "[[9.99975002e-01]\n",
       " [4.99975002e-03]\n",
       " [4.99975002e-03]\n",
       " [2.49981252e-05]]], dtype=object)"
      ]
     },
     "execution_count": 20,
     "metadata": {},
     "output_type": "execute_result"
    }
   ],
   "source": [
    "ekets"
   ]
  },
  {
   "cell_type": "code",
   "execution_count": 21,
   "metadata": {},
   "outputs": [],
   "source": [
    "Jx = spins[0][0] + spins[0][1]\n",
    "Jy = spins[1][0] + spins[1][1]\n",
    "Jz = spins[2][0] + spins[2][1]"
   ]
  },
  {
   "cell_type": "code",
   "execution_count": 22,
   "metadata": {},
   "outputs": [],
   "source": [
    "H = delE*Jz + A*Jx"
   ]
  },
  {
   "cell_type": "code",
   "execution_count": 23,
   "metadata": {},
   "outputs": [
    {
     "data": {
      "text/latex": [
       "Quantum object: dims = [[2, 2], [2, 2]], shape = (4, 4), type = oper, isherm = True\\begin{equation*}\\left(\\begin{array}{*{11}c}1.0 & 0.005 & 0.005 & 0.0\\\\0.005 & 0.0 & 0.0 & 0.005\\\\0.005 & 0.0 & 0.0 & 0.005\\\\0.0 & 0.005 & 0.005 & -1.0\\\\\\end{array}\\right)\\end{equation*}"
      ],
      "text/plain": [
       "Quantum object: dims = [[2, 2], [2, 2]], shape = (4, 4), type = oper, isherm = True\n",
       "Qobj data =\n",
       "[[ 1.     0.005  0.005  0.   ]\n",
       " [ 0.005  0.     0.     0.005]\n",
       " [ 0.005  0.     0.     0.005]\n",
       " [ 0.     0.005  0.005 -1.   ]]"
      ]
     },
     "execution_count": 23,
     "metadata": {},
     "output_type": "execute_result"
    }
   ],
   "source": [
    "H"
   ]
  },
  {
   "cell_type": "code",
   "execution_count": 24,
   "metadata": {},
   "outputs": [],
   "source": [
    "J2 = Jx**2 + Jy**2 + Jz**2"
   ]
  },
  {
   "cell_type": "code",
   "execution_count": 25,
   "metadata": {},
   "outputs": [
    {
     "data": {
      "text/latex": [
       "Quantum object: dims = [[2, 2], [2, 2]], shape = (4, 4), type = oper, isherm = True\\begin{equation*}\\left(\\begin{array}{*{11}c}2.0 & 0.0 & 0.0 & 0.0\\\\0.0 & 1.0 & 1.0 & 0.0\\\\0.0 & 1.0 & 1.0 & 0.0\\\\0.0 & 0.0 & 0.0 & 2.0\\\\\\end{array}\\right)\\end{equation*}"
      ],
      "text/plain": [
       "Quantum object: dims = [[2, 2], [2, 2]], shape = (4, 4), type = oper, isherm = True\n",
       "Qobj data =\n",
       "[[2. 0. 0. 0.]\n",
       " [0. 1. 1. 0.]\n",
       " [0. 1. 1. 0.]\n",
       " [0. 0. 0. 2.]]"
      ]
     },
     "execution_count": 25,
     "metadata": {},
     "output_type": "execute_result"
    }
   ],
   "source": [
    "J2"
   ]
  },
  {
   "cell_type": "code",
   "execution_count": 26,
   "metadata": {},
   "outputs": [
    {
     "data": {
      "text/latex": [
       "Quantum object: dims = [[2, 2], [2, 2]], shape = (4, 4), type = oper, isherm = True\\begin{equation*}\\left(\\begin{array}{*{11}c}0.0 & 0.0 & 0.0 & 0.0\\\\0.0 & 0.0 & 0.0 & 0.0\\\\0.0 & 0.0 & 0.0 & 0.0\\\\0.0 & 0.0 & 0.0 & 0.0\\\\\\end{array}\\right)\\end{equation*}"
      ],
      "text/plain": [
       "Quantum object: dims = [[2, 2], [2, 2]], shape = (4, 4), type = oper, isherm = True\n",
       "Qobj data =\n",
       "[[0. 0. 0. 0.]\n",
       " [0. 0. 0. 0.]\n",
       " [0. 0. 0. 0.]\n",
       " [0. 0. 0. 0.]]"
      ]
     },
     "execution_count": 26,
     "metadata": {},
     "output_type": "execute_result"
    }
   ],
   "source": [
    "commutator(H,J2)"
   ]
  },
  {
   "cell_type": "code",
   "execution_count": 27,
   "metadata": {},
   "outputs": [
    {
     "data": {
      "text/latex": [
       "Quantum object: dims = [[2, 2], [2, 2]], shape = (4, 4), type = oper, isherm = True\\begin{equation*}\\left(\\begin{array}{*{11}c}2.0 & 0.0 & 0.0 & 0.0\\\\0.0 & 2.0 & 0.0 & 0.0\\\\0.0 & 0.0 & 0.0 & 0.0\\\\0.0 & 0.0 & 0.0 & 2.0\\\\\\end{array}\\right)\\end{equation*}"
      ],
      "text/plain": [
       "Quantum object: dims = [[2, 2], [2, 2]], shape = (4, 4), type = oper, isherm = True\n",
       "Qobj data =\n",
       "[[2. 0. 0. 0.]\n",
       " [0. 2. 0. 0.]\n",
       " [0. 0. 0. 0.]\n",
       " [0. 0. 0. 2.]]"
      ]
     },
     "execution_count": 27,
     "metadata": {},
     "output_type": "execute_result"
    }
   ],
   "source": [
    "J2.transform(ekets)"
   ]
  },
  {
   "cell_type": "code",
   "execution_count": 28,
   "metadata": {},
   "outputs": [],
   "source": [
    "J = jspin(2)"
   ]
  },
  {
   "cell_type": "code",
   "execution_count": 29,
   "metadata": {},
   "outputs": [],
   "source": [
    "Jx = J[0]\n",
    "Jy = J[1]\n",
    "Jz = J[2]"
   ]
  },
  {
   "cell_type": "code",
   "execution_count": 30,
   "metadata": {},
   "outputs": [],
   "source": [
    "A = 0.01"
   ]
  },
  {
   "cell_type": "code",
   "execution_count": 31,
   "metadata": {},
   "outputs": [],
   "source": [
    "H = delE*Jz + A*Jx"
   ]
  },
  {
   "cell_type": "code",
   "execution_count": 32,
   "metadata": {},
   "outputs": [
    {
     "data": {
      "text/latex": [
       "Quantum object: dims = [[4], [4]], shape = (4, 4), type = oper, isherm = True\\begin{equation*}\\left(\\begin{array}{*{11}c}1.0 & 0.007 & 0.0 & 0.0\\\\0.007 & 0.0 & 0.007 & 0.0\\\\0.0 & 0.007 & -1.0 & 0.0\\\\0.0 & 0.0 & 0.0 & 0.0\\\\\\end{array}\\right)\\end{equation*}"
      ],
      "text/plain": [
       "Quantum object: dims = [[4], [4]], shape = (4, 4), type = oper, isherm = True\n",
       "Qobj data =\n",
       "[[ 1.          0.00707107  0.          0.        ]\n",
       " [ 0.00707107  0.          0.00707107  0.        ]\n",
       " [ 0.          0.00707107 -1.          0.        ]\n",
       " [ 0.          0.          0.          0.        ]]"
      ]
     },
     "execution_count": 32,
     "metadata": {},
     "output_type": "execute_result"
    }
   ],
   "source": [
    "H"
   ]
  },
  {
   "cell_type": "code",
   "execution_count": 33,
   "metadata": {},
   "outputs": [],
   "source": [
    "J2 = Jx**2 + Jy**2 + Jz**2"
   ]
  },
  {
   "cell_type": "code",
   "execution_count": 34,
   "metadata": {},
   "outputs": [
    {
     "data": {
      "text/latex": [
       "Quantum object: dims = [[4], [4]], shape = (4, 4), type = oper, isherm = True\\begin{equation*}\\left(\\begin{array}{*{11}c}2.0 & 0.0 & 0.0 & 0.0\\\\0.0 & 2.0 & 0.0 & 0.0\\\\0.0 & 0.0 & 2.0 & 0.0\\\\0.0 & 0.0 & 0.0 & 0.0\\\\\\end{array}\\right)\\end{equation*}"
      ],
      "text/plain": [
       "Quantum object: dims = [[4], [4]], shape = (4, 4), type = oper, isherm = True\n",
       "Qobj data =\n",
       "[[2. 0. 0. 0.]\n",
       " [0. 2. 0. 0.]\n",
       " [0. 0. 2. 0.]\n",
       " [0. 0. 0. 0.]]"
      ]
     },
     "execution_count": 34,
     "metadata": {},
     "output_type": "execute_result"
    }
   ],
   "source": [
    "J2"
   ]
  },
  {
   "cell_type": "code",
   "execution_count": null,
   "metadata": {},
   "outputs": [],
   "source": []
  },
  {
   "cell_type": "code",
   "execution_count": null,
   "metadata": {},
   "outputs": [],
   "source": []
  },
  {
   "cell_type": "markdown",
   "metadata": {},
   "source": [
    "[Wolfram alpha eigenvalues](https://www.wolframalpha.com/input/?i=%7B%7B1%2Ca%2C0%7D%2C%7Ba%2C0%2Ca%7D%2C%7B0%2Ca%2C-1%7D%7D+eigenvalues)"
   ]
  },
  {
   "cell_type": "code",
   "execution_count": null,
   "metadata": {},
   "outputs": [],
   "source": []
  },
  {
   "cell_type": "code",
   "execution_count": null,
   "metadata": {},
   "outputs": [],
   "source": []
  },
  {
   "cell_type": "code",
   "execution_count": 35,
   "metadata": {},
   "outputs": [],
   "source": [
    "def j_states_list(num_tss):\n",
    "    i=0\n",
    "    \n",
    "    jm_list = []\n",
    "    j_index = {}\n",
    "\n",
    "    js = j_vals(num_tss)[::-1]\n",
    "    \n",
    "    for j in js:\n",
    "        j_index[j] = []\n",
    "        ms = m_vals(j)[::-1]\n",
    "        for m in ms:\n",
    "            j_index[j].append(i)\n",
    "            jm_list.append((j,m))\n",
    "            i+=1\n",
    "    return j_index, jm_list"
   ]
  },
  {
   "cell_type": "code",
   "execution_count": null,
   "metadata": {},
   "outputs": [],
   "source": []
  },
  {
   "cell_type": "code",
   "execution_count": null,
   "metadata": {},
   "outputs": [],
   "source": []
  },
  {
   "cell_type": "code",
   "execution_count": 168,
   "metadata": {},
   "outputs": [],
   "source": [
    "def make_braket_labels(jm_list):\n",
    "    bra_labels = [\"$\\langle$\"+str(Fraction(j))+\", \"+str(Fraction(m))+\" |\" for (j,m) in jm_list]\n",
    "    ket_labels = [\"| \"+str(Fraction(j))+\", \"+str(Fraction(m))+\"$\\\\rangle$\" for (j,m) in jm_list]\n",
    "    return bra_labels, ket_labels"
   ]
  },
  {
   "cell_type": "code",
   "execution_count": null,
   "metadata": {},
   "outputs": [],
   "source": []
  },
  {
   "cell_type": "code",
   "execution_count": null,
   "metadata": {},
   "outputs": [],
   "source": []
  },
  {
   "cell_type": "code",
   "execution_count": null,
   "metadata": {},
   "outputs": [],
   "source": []
  },
  {
   "cell_type": "code",
   "execution_count": 178,
   "metadata": {},
   "outputs": [],
   "source": [
    "def make_operators(num_tss, j):\n",
    "    \n",
    "    j_index, jm_list = j_states_list(num_tss)\n",
    "    \n",
    "    try:\n",
    "        j_index[j]\n",
    "    except:\n",
    "        raise Exception(f\"j needs to be one of {j_vals(num_tss)}\")\n",
    "    \n",
    "    Js = jspin(num_tss)\n",
    "    Jx = Js[0]\n",
    "    Jz = Js[2]\n",
    "    \n",
    "\n",
    "    \n",
    "    num_ms = len(m_vals(j))\n",
    "    Jz = Jz.extract_states(j_index[j])\n",
    "    Jx = Jx.extract_states(j_index[j])\n",
    "    jm_list = [jm_list[i] for i in j_index[j]]\n",
    "    \n",
    "    \n",
    "    \n",
    "    return Jz, Jx, jm_list"
   ]
  },
  {
   "cell_type": "code",
   "execution_count": 179,
   "metadata": {},
   "outputs": [],
   "source": [
    "Jz, Jx, jm_list = make_operators(6, 3)"
   ]
  },
  {
   "cell_type": "code",
   "execution_count": 263,
   "metadata": {},
   "outputs": [],
   "source": [
    "df = make_df_for_energy_scan(\"$\\Delta E$/A\", -4,4, 100, Jz.shape[0])"
   ]
  },
  {
   "cell_type": "code",
   "execution_count": 264,
   "metadata": {},
   "outputs": [],
   "source": [
    "A=0.1\n",
    "for i, row in df.iterrows():\n",
    "    H =  row[ \"$\\Delta E$/A\"]*A*Jz +  A*Jx\n",
    "    evals, ekets = H.eigenstates()\n",
    "    df.iloc[i,1:] = evals"
   ]
  },
  {
   "cell_type": "code",
   "execution_count": 265,
   "metadata": {},
   "outputs": [
    {
     "data": {
      "image/png": "[encoded data removed]",
      "text/plain": [
       "<Figure size 720x576 with 1 Axes>"
      ]
     },
     "metadata": {
      "needs_background": "light"
     },
     "output_type": "display_data"
    }
   ],
   "source": [
    "df.plot(x=\"$\\Delta E$/A\",figsize=(10,8),legend=True, \n",
    "        title=\"$H=\\Delta E \\ J_z + A \\ J_x$    (N=6, J=3, A=0.1) \");\n",
    "plt.ylabel(\"Energy\");"
   ]
  },
  {
   "cell_type": "code",
   "execution_count": 169,
   "metadata": {},
   "outputs": [],
   "source": [
    "bra_labels, ket_labels = make_braket_labels(jm_list)"
   ]
  },
  {
   "cell_type": "code",
   "execution_count": null,
   "metadata": {},
   "outputs": [],
   "source": [
    "# Function created in 01 tutorial to make plotting of states calculated from `sesolve` easier\n",
    "def states_to_df(states,times):\n",
    "    psi_plus = np.zeros(len(times),dtype=\"complex128\")  # To store the amplitude of the |+> state\n",
    "    psi_minus = np.zeros(len(times),dtype=\"complex128\") # To store the amplitude of the |-> state\n",
    "\n",
    "    for i, state in enumerate(states):\n",
    "        psi_plus[i] = state[0][0][0]\n",
    "        psi_minus[i] = state[1][0][0]\n",
    "\n",
    "    return pd.DataFrame(data={\"+\":psi_plus, \"-\":psi_minus}, index=times)"
   ]
  },
  {
   "cell_type": "code",
   "execution_count": 307,
   "metadata": {},
   "outputs": [],
   "source": [
    "delta = 0.001\n",
    "A = 0.1\n",
    "\n",
    "H0 = A*Jx\n",
    "\n",
    "evals, estates = H0.eigenstates()\n",
    "\n",
    "H1 =  delta*Jz\n",
    "\n",
    "H = [H0,[H1,'cos(w*t)']]\n",
    "\n",
    "times = np.linspace(0.0, 10000.0, 1000) \n",
    "\n",
    "# psi0=basis(7,0)\n",
    "psi0 = estates[6]\n",
    "\n",
    "result = sesolve(H, psi0, times, args={'w':A})\n",
    "\n",
    "# result = sesolve(H0, basis(7,0), times)\n",
    "\n"
   ]
  },
  {
   "cell_type": "code",
   "execution_count": 308,
   "metadata": {},
   "outputs": [],
   "source": [
    "num_states = result.states[0].shape[0]\n",
    "psi = np.zeros([num_states,times.size], dtype=\"complex128\")\n",
    "P = np.zeros([num_states,times.size], dtype=\"complex128\")\n",
    "\n",
    "for i, state in enumerate(result.states):\n",
    "    transformed_state = state.transform(estates)\n",
    "    psi[:,i] = np.transpose(transformed_state)\n",
    "    P[:,i] = np.abs(psi[:,i]*np.conj(psi[:,i]))"
   ]
  },
  {
   "cell_type": "code",
   "execution_count": 316,
   "metadata": {},
   "outputs": [
    {
     "data": {
      "image/png": "[encoded data removed]",
      "text/plain": [
       "<Figure size 720x576 with 1 Axes>"
      ]
     },
     "metadata": {
      "needs_background": "light"
     },
     "output_type": "display_data"
    }
   ],
   "source": [
    "plt.figure(figsize=(10,8))\n",
    "for i in range(0,P.shape[0]):\n",
    "    plt.plot(times, P[i,:], label=f\"E_level_{i}\")\n",
    "plt.ylabel(\"Probability\")\n",
    "plt.xlabel(\"Time\")\n",
    "plt.legend(loc=\"right\")\n",
    "plt.title(\"$H =A \\ J_x + \\delta \\ J_z \\  \\cos (\\omega t)$     (N=6, J=3, A=0.1, $\\omega = 0.1$, $\\delta=0.001$)\")\n",
    "plt.show();"
   ]
  },
  {
   "cell_type": "code",
   "execution_count": 266,
   "metadata": {},
   "outputs": [],
   "source": [
    "H0 = A*Jx"
   ]
  },
  {
   "cell_type": "code",
   "execution_count": 267,
   "metadata": {},
   "outputs": [],
   "source": [
    "evals, estates = H0.eigenstates()"
   ]
  },
  {
   "cell_type": "code",
   "execution_count": 269,
   "metadata": {},
   "outputs": [
    {
     "data": {
      "text/plain": [
       "array([-3.00000000e-01, -2.00000000e-01, -1.00000000e-01,  2.22044605e-16,\n",
       "        1.00000000e-01,  2.00000000e-01,  3.00000000e-01])"
      ]
     },
     "execution_count": 269,
     "metadata": {},
     "output_type": "execute_result"
    }
   ],
   "source": [
    "evals"
   ]
  },
  {
   "cell_type": "code",
   "execution_count": 268,
   "metadata": {},
   "outputs": [
    {
     "data": {
      "text/plain": [
       "array([Quantum object: dims = [[7], [1]], shape = (7, 1), type = ket\n",
       "Qobj data =\n",
       "[[ 0.125     ]\n",
       " [-0.30618622]\n",
       " [ 0.48412292]\n",
       " [-0.55901699]\n",
       " [ 0.48412292]\n",
       " [-0.30618622]\n",
       " [ 0.125     ]],\n",
       "       Quantum object: dims = [[7], [1]], shape = (7, 1), type = ket\n",
       "Qobj data =\n",
       "[[-0.30618622]\n",
       " [ 0.5       ]\n",
       " [-0.39528471]\n",
       " [ 0.        ]\n",
       " [ 0.39528471]\n",
       " [-0.5       ]\n",
       " [ 0.30618622]],\n",
       "       Quantum object: dims = [[7], [1]], shape = (7, 1), type = ket\n",
       "Qobj data =\n",
       "[[ 0.48412292]\n",
       " [-0.39528471]\n",
       " [-0.125     ]\n",
       " [ 0.4330127 ]\n",
       " [-0.125     ]\n",
       " [-0.39528471]\n",
       " [ 0.48412292]],\n",
       "       Quantum object: dims = [[7], [1]], shape = (7, 1), type = ket\n",
       "Qobj data =\n",
       "[[-0.55901699]\n",
       " [ 0.        ]\n",
       " [ 0.4330127 ]\n",
       " [ 0.        ]\n",
       " [-0.4330127 ]\n",
       " [ 0.        ]\n",
       " [ 0.55901699]],\n",
       "       Quantum object: dims = [[7], [1]], shape = (7, 1), type = ket\n",
       "Qobj data =\n",
       "[[ 0.48412292]\n",
       " [ 0.39528471]\n",
       " [-0.125     ]\n",
       " [-0.4330127 ]\n",
       " [-0.125     ]\n",
       " [ 0.39528471]\n",
       " [ 0.48412292]],\n",
       "       Quantum object: dims = [[7], [1]], shape = (7, 1), type = ket\n",
       "Qobj data =\n",
       "[[-0.30618622]\n",
       " [-0.5       ]\n",
       " [-0.39528471]\n",
       " [ 0.        ]\n",
       " [ 0.39528471]\n",
       " [ 0.5       ]\n",
       " [ 0.30618622]],\n",
       "       Quantum object: dims = [[7], [1]], shape = (7, 1), type = ket\n",
       "Qobj data =\n",
       "[[0.125     ]\n",
       " [0.30618622]\n",
       " [0.48412292]\n",
       " [0.55901699]\n",
       " [0.48412292]\n",
       " [0.30618622]\n",
       " [0.125     ]]], dtype=object)"
      ]
     },
     "execution_count": 268,
     "metadata": {},
     "output_type": "execute_result"
    }
   ],
   "source": [
    "estates"
   ]
  },
  {
   "cell_type": "code",
   "execution_count": 278,
   "metadata": {},
   "outputs": [
    {
     "data": {
      "text/plain": [
       "(<Figure size 576x432 with 1 Axes>,\n",
       " <matplotlib.axes._subplots.AxesSubplot at 0x1826110f98>)"
      ]
     },
     "execution_count": 278,
     "metadata": {},
     "output_type": "execute_result"
    },
    {
     "data": {
      "image/png": "[encoded data removed]",
      "text/plain": [
       "<Figure size 576x432 with 1 Axes>"
      ]
     },
     "metadata": {
      "needs_background": "light"
     },
     "output_type": "display_data"
    }
   ],
   "source": [
    "plot_fock_distribution(estates[2])"
   ]
  },
  {
   "cell_type": "code",
   "execution_count": 271,
   "metadata": {},
   "outputs": [
    {
     "data": {
      "text/latex": [
       "Quantum object: dims = [[7], [1]], shape = (7, 1), type = ket\\begin{equation*}\\left(\\begin{array}{*{11}c}0.125\\\\0.306\\\\0.484\\\\0.559\\\\0.484\\\\0.306\\\\0.125\\\\\\end{array}\\right)\\end{equation*}"
      ],
      "text/plain": [
       "Quantum object: dims = [[7], [1]], shape = (7, 1), type = ket\n",
       "Qobj data =\n",
       "[[0.125     ]\n",
       " [0.30618622]\n",
       " [0.48412292]\n",
       " [0.55901699]\n",
       " [0.48412292]\n",
       " [0.30618622]\n",
       " [0.125     ]]"
      ]
     },
     "execution_count": 271,
     "metadata": {},
     "output_type": "execute_result"
    }
   ],
   "source": []
  },
  {
   "cell_type": "code",
   "execution_count": 273,
   "metadata": {},
   "outputs": [
    {
     "data": {
      "text/plain": [
       "[(3.0, 3.0),\n",
       " (3.0, 2.0),\n",
       " (3.0, 1.0),\n",
       " (3.0, 0.0),\n",
       " (3.0, -1.0),\n",
       " (3.0, -2.0),\n",
       " (3.0, -3.0)]"
      ]
     },
     "execution_count": 273,
     "metadata": {},
     "output_type": "execute_result"
    }
   ],
   "source": [
    "jm_list"
   ]
  },
  {
   "cell_type": "code",
   "execution_count": null,
   "metadata": {},
   "outputs": [],
   "source": []
  }
 ],
 "metadata": {
  "jupytext": {
   "formats": "ipynb,src//md"
  },
  "kernelspec": {
   "display_name": "Python 3",
   "language": "python",
   "name": "python3"
  },
  "language_info": {
   "codemirror_mode": {
    "name": "ipython",
    "version": 3
   },
   "file_extension": ".py",
   "mimetype": "text/x-python",
   "name": "python",
   "nbconvert_exporter": "python",
   "pygments_lexer": "ipython3",
   "version": "3.7.1"
  }
 },
 "nbformat": 4,
 "nbformat_minor": 4
}
