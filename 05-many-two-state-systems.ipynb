{
 "cells": [
  {
   "cell_type": "markdown",
   "metadata": {},
   "source": [
    "<a href=\"https://colab.research.google.com/github/project-ida/two-state-quantum-systems/blob/master/05-many-two-state-systems.ipynb\" target=\"_parent\"><img src=\"https://colab.research.google.com/assets/colab-badge.svg\" alt=\"Open In Colab\"/></a> &nbsp;&nbsp;&nbsp;&nbsp;&nbsp;&nbsp;&nbsp;&nbsp;&nbsp;&nbsp; <a href=\"https://nbviewer.jupyter.org/github/project-ida/two-state-quantum-systems/blob/master/05-many-two-state-systems.ipynb\" target=\"_parent\"><img src=\"https://nbviewer.jupyter.org/static/img/nav_logo.svg\" alt=\"Open In nbviewer\" width=\"100\"/></a>"
   ]
  },
  {
   "cell_type": "markdown",
   "metadata": {},
   "source": [
    "# 5 - Many two state systems"
   ]
  },
  {
   "cell_type": "markdown",
   "metadata": {},
   "source": [
    "> TODO: Intro"
   ]
  },
  {
   "cell_type": "code",
   "execution_count": 219,
   "metadata": {},
   "outputs": [],
   "source": [
    "# Libraries\n",
    "%matplotlib inline\n",
    "import matplotlib.pyplot as plt\n",
    "import matplotlib.ticker as ticker\n",
    "from IPython.display import Image, Math\n",
    "import gif\n",
    "import numpy as np\n",
    "import pandas as pd\n",
    "from qutip import *\n",
    "from qutip.piqs import *\n",
    "from qutip.cy.piqs import j_min, j_vals, m_vals\n",
    "import warnings\n",
    "warnings.filterwarnings('ignore')\n",
    "from itertools import product\n",
    "import os\n",
    "from fractions import Fraction\n",
    "\n",
    "# Functions created in 04 tutorial\n",
    "\n",
    "from libs.helper_05_tutorial import *\n",
    "\n",
    "def prettify_states(states, mm_list):\n",
    "    pretty_states = np.zeros([len(mm_list),len(states)], dtype=\"object\")\n",
    "    \n",
    "    for j, state in enumerate(states):\n",
    "        x = []\n",
    "        for i, val in enumerate(state):\n",
    "            pretty_states[i,j] = f\"{val[0,0]:.1f}\"\n",
    "        \n",
    "    return pd.DataFrame(data=pretty_states, index=mm_list)"
   ]
  },
  {
   "cell_type": "markdown",
   "metadata": {},
   "source": [
    "As soon as we start adding more than one TSS things get quite complicated. In order to give us an intuition for how such systems behave, we will take inspiration from Tutorials 1 and 2.\n",
    "\n",
    "Recall that when we started in [Tutortial 2](https://nbviewer.jupyter.org/github/project-ida/two-state-quantum-systems/blob/master/02-perturbing-a-two-state-system.ipynb#2.1-Static-perturbation) we motivated that a single TSS whose states have the same energy $E_0$, are coupled together with strength $A$ and are subject to some kind of external perturbation $\\delta$ can be described by a Hamiltonian\n",
    "\n",
    "$$\n",
    "H = \\begin{bmatrix}\n",
    " E_0 + \\delta  &  -A  \\\\\n",
    " -A  &  E_0 - \\delta  \\\\\n",
    "\\end{bmatrix} = E_0 I - A \\sigma_x + \\delta\\sigma_z\n",
    "$$\n",
    "\n",
    "\n",
    "We now recognise that we can always shift all energies in the Hamiltonian by a constant amount so, without loss of generality, we can set $E_0=0$ leaving us with the following Hamiltonian\n",
    "\n",
    "$$\n",
    "H = - A \\sigma_x + \\delta\\sigma_z\n",
    "$$\n"
   ]
  },
  {
   "cell_type": "markdown",
   "metadata": {},
   "source": [
    "A natural starting point for the Hamiltonian of $N$ of these TSS is then\n",
    "\n",
    "$$\n",
    "H = - A \\overset{N}{\\underset{n=1}{\\Sigma}} \\sigma_{n x} + \\delta \\overset{N}{\\underset{n=1}{\\Sigma}} \\sigma_{n z}\n",
    "$$\n",
    "\n",
    "where the index $n$ refers to a particular TSS.\n",
    "\n",
    "You may recall that there are mathematical similarities between a TSS and a spin $1/2$ particle. When considering many TSS, we will find it invaluable to refer to well known spin results, such as conservation of angular momentum, to help us solve problems. In light of this, we will introduce a factor of $1/2$ into the Hamiltonian:\n",
    "\n",
    "$$\n",
    "H = - A \\frac{1}{2}\\overset{N}{\\underset{n=1}{\\Sigma}} \\sigma_{n x} + \\frac{1}{2}\\delta \\overset{N}{\\underset{n=1}{\\Sigma}} \\sigma_{n z}\n",
    "$$\n",
    "\n",
    "so that we can rewrite our operators as spin operators, (denoted by $S$), for a [spin $1/2$ particle](https://en.wikipedia.org/wiki/Spin-%C2%BD#Observables), i.e.\n",
    "\n",
    "$$\n",
    "H = - A \\overset{N}{\\underset{n=1}{\\Sigma}} S_{n x} + \\delta \\overset{N}{\\underset{n=1}{\\Sigma}} S_{n z}\n",
    "$$\n",
    "\n",
    "Because spin represents angular momentum, the combination of spin operators above is mathematically the same as how one would create the [total angular momentum operators](https://www2.ph.ed.ac.uk/~ldeldebb/docs/QM/lect15.pdf) - denoted by $J$, e.g. $Jx = \\overset{N}{\\underset{n=1}{\\Sigma}} S_{n x}$. The Hamiltonian can then be written more compactly as:\n",
    "\n",
    "$$\n",
    "H = - A J_{x} + \\delta J_{z}\n",
    "$$\n",
    "\n",
    "Let's see what we can learn from this."
   ]
  },
  {
   "cell_type": "markdown",
   "metadata": {},
   "source": [
    "## 5.2 - 2 two-state systems\n",
    "\n",
    "Let's start simple and look at 2 TSS, i.e. $N=2$. In this coupled system we have 4 states:\n",
    "- |+,+>\n",
    "- |+,->\n",
    "- |-,+>\n",
    "- |-,->"
   ]
  },
  {
   "cell_type": "markdown",
   "metadata": {},
   "source": [
    "In [Tutorial 3](https://nbviewer.jupyter.org/github/project-ida/two-state-quantum-systems/blob/master/03-a-two-state-system-in-a-quantised-field.ipynb#3.5---Describing-coupled-systems-in-QuTiP) we learnt how to describe such coupled states in QuTiP by using the tensor product.\n",
    "\n",
    "Specifically, we would create the |+,-> state by doing:"
   ]
  },
  {
   "cell_type": "code",
   "execution_count": 10,
   "metadata": {},
   "outputs": [
    {
     "data": {
      "text/latex": [
       "Quantum object: dims = [[2, 2], [1, 1]], shape = (4, 1), type = ket\\begin{equation*}\\left(\\begin{array}{*{11}c}0.0\\\\1.0\\\\0.0\\\\0.0\\\\\\end{array}\\right)\\end{equation*}"
      ],
      "text/plain": [
       "Quantum object: dims = [[2, 2], [1, 1]], shape = (4, 1), type = ket\n",
       "Qobj data =\n",
       "[[0.]\n",
       " [1.]\n",
       " [0.]\n",
       " [0.]]"
      ]
     },
     "execution_count": 10,
     "metadata": {},
     "output_type": "execute_result"
    }
   ],
   "source": [
    "tensor(basis(2,0), basis(2,1))"
   ]
  },
  {
   "cell_type": "markdown",
   "metadata": {},
   "source": [
    "We can keep track of which state corresponds to which row by using the `product` function that we introduced in the previous tutorial. Specifically:"
   ]
  },
  {
   "cell_type": "code",
   "execution_count": 11,
   "metadata": {},
   "outputs": [
    {
     "data": {
      "text/plain": [
       "[('+', '+'), ('+', '-'), ('-', '+'), ('-', '-')]"
      ]
     },
     "execution_count": 11,
     "metadata": {},
     "output_type": "execute_result"
    }
   ],
   "source": [
    "possible_ms = [\"+\",\"-\"]\n",
    "mm_list = [m for m in product(possible_ms, possible_ms)]\n",
    "mm_list"
   ]
  },
  {
   "cell_type": "markdown",
   "metadata": {},
   "source": [
    "And so, the row number 1 of the state vector corresponds to the state:"
   ]
  },
  {
   "cell_type": "code",
   "execution_count": 12,
   "metadata": {},
   "outputs": [
    {
     "data": {
      "text/plain": [
       "('+', '-')"
      ]
     },
     "execution_count": 12,
     "metadata": {},
     "output_type": "execute_result"
    }
   ],
   "source": [
    "mm_list[1]"
   ]
  },
  {
   "cell_type": "markdown",
   "metadata": {},
   "source": [
    "The tensor product could also be used for operators. For 2 TSS without a quantised field, we can create the tensorised $S_{x1}$ and $S_{x2}$ operators by doing:"
   ]
  },
  {
   "cell_type": "code",
   "execution_count": 13,
   "metadata": {},
   "outputs": [],
   "source": [
    "Sx1 = tensor(sigmax()/2, qeye(2))\n",
    "Sx2 = tensor(qeye(2), sigmax()/2)"
   ]
  },
  {
   "cell_type": "code",
   "execution_count": 14,
   "metadata": {},
   "outputs": [
    {
     "data": {
      "text/latex": [
       "Quantum object: dims = [[2, 2], [2, 2]], shape = (4, 4), type = oper, isherm = True\\begin{equation*}\\left(\\begin{array}{*{11}c}0.0 & 0.0 & 0.500 & 0.0\\\\0.0 & 0.0 & 0.0 & 0.500\\\\0.500 & 0.0 & 0.0 & 0.0\\\\0.0 & 0.500 & 0.0 & 0.0\\\\\\end{array}\\right)\\end{equation*}"
      ],
      "text/plain": [
       "Quantum object: dims = [[2, 2], [2, 2]], shape = (4, 4), type = oper, isherm = True\n",
       "Qobj data =\n",
       "[[0.  0.  0.5 0. ]\n",
       " [0.  0.  0.  0.5]\n",
       " [0.5 0.  0.  0. ]\n",
       " [0.  0.5 0.  0. ]]"
      ]
     },
     "execution_count": 14,
     "metadata": {},
     "output_type": "execute_result"
    }
   ],
   "source": [
    "Sx1"
   ]
  },
  {
   "cell_type": "code",
   "execution_count": 15,
   "metadata": {},
   "outputs": [
    {
     "data": {
      "text/latex": [
       "Quantum object: dims = [[2, 2], [2, 2]], shape = (4, 4), type = oper, isherm = True\\begin{equation*}\\left(\\begin{array}{*{11}c}0.0 & 0.500 & 0.0 & 0.0\\\\0.500 & 0.0 & 0.0 & 0.0\\\\0.0 & 0.0 & 0.0 & 0.500\\\\0.0 & 0.0 & 0.500 & 0.0\\\\\\end{array}\\right)\\end{equation*}"
      ],
      "text/plain": [
       "Quantum object: dims = [[2, 2], [2, 2]], shape = (4, 4), type = oper, isherm = True\n",
       "Qobj data =\n",
       "[[0.  0.5 0.  0. ]\n",
       " [0.5 0.  0.  0. ]\n",
       " [0.  0.  0.  0.5]\n",
       " [0.  0.  0.5 0. ]]"
      ]
     },
     "execution_count": 15,
     "metadata": {},
     "output_type": "execute_result"
    }
   ],
   "source": [
    "Sx2"
   ]
  },
  {
   "cell_type": "markdown",
   "metadata": {},
   "source": [
    "This way of creating operators is fine for a few TSS, but the process of making these tensor products can get a bit laborious. Luckily, QuTiP has a function that can generate all of the $S$ operators for $N$ TSS with a single line of code - [`spin_algebra(N)`](http://qutip.org/docs/latest/apidoc/functions.html#qutip.piqs.spin_algebra).\n",
    "\n",
    "Let's try it it out."
   ]
  },
  {
   "cell_type": "code",
   "execution_count": 16,
   "metadata": {},
   "outputs": [],
   "source": [
    "S = spin_algebra(2)"
   ]
  },
  {
   "cell_type": "code",
   "execution_count": 17,
   "metadata": {},
   "outputs": [
    {
     "data": {
      "text/plain": [
       "3"
      ]
     },
     "execution_count": 17,
     "metadata": {},
     "output_type": "execute_result"
    }
   ],
   "source": [
    "len(S)"
   ]
  },
  {
   "cell_type": "markdown",
   "metadata": {},
   "source": [
    "Now looking at the 0th entry in the `spin_algebra` list we find that it's equal to $[S_{1x}, S_{2x}]$ (we would find a equivalent for $S_{y}$ and $S_{z}$)"
   ]
  },
  {
   "cell_type": "code",
   "execution_count": 18,
   "metadata": {},
   "outputs": [
    {
     "data": {
      "text/plain": [
       "[Quantum object: dims = [[2, 2], [2, 2]], shape = (4, 4), type = oper, isherm = True\n",
       " Qobj data =\n",
       " [[0.  0.  0.5 0. ]\n",
       "  [0.  0.  0.  0.5]\n",
       "  [0.5 0.  0.  0. ]\n",
       "  [0.  0.5 0.  0. ]],\n",
       " Quantum object: dims = [[2, 2], [2, 2]], shape = (4, 4), type = oper, isherm = True\n",
       " Qobj data =\n",
       " [[0.  0.5 0.  0. ]\n",
       "  [0.5 0.  0.  0. ]\n",
       "  [0.  0.  0.  0.5]\n",
       "  [0.  0.  0.5 0. ]]]"
      ]
     },
     "execution_count": 18,
     "metadata": {},
     "output_type": "execute_result"
    }
   ],
   "source": [
    "S[0]"
   ]
  },
  {
   "cell_type": "markdown",
   "metadata": {},
   "source": [
    "This is very convenient! We can then write our $J$ operators as:"
   ]
  },
  {
   "cell_type": "code",
   "execution_count": 19,
   "metadata": {},
   "outputs": [],
   "source": [
    "Jx = S[0][0] + S[0][1]\n",
    "Jy = S[1][0] + S[1][1]\n",
    "Jz = S[2][0] + S[2][1]"
   ]
  },
  {
   "cell_type": "markdown",
   "metadata": {},
   "source": [
    "\n",
    "We proceed as we have done several times by looking for the stationary states of the system. When the system is in one of these states it will remain there for all time. Such states are described by a single constant energy.\n",
    "\n",
    "To find the states of constant energy, we'll follow what we did in Tutorial 1 and calculate the eigenvalues and eigenvectors of the Hamiltonian."
   ]
  },
  {
   "cell_type": "code",
   "execution_count": 198,
   "metadata": {},
   "outputs": [],
   "source": [
    "A=0.1"
   ]
  },
  {
   "cell_type": "code",
   "execution_count": 199,
   "metadata": {},
   "outputs": [],
   "source": [
    "H = - A*Jx"
   ]
  },
  {
   "cell_type": "code",
   "execution_count": 200,
   "metadata": {},
   "outputs": [],
   "source": [
    "evals, ekets = H.eigenstates()"
   ]
  },
  {
   "cell_type": "code",
   "execution_count": 201,
   "metadata": {},
   "outputs": [
    {
     "data": {
      "text/plain": [
       "array([-1.00000000e-01,  0.00000000e+00,  9.71445147e-17,  1.00000000e-01])"
      ]
     },
     "execution_count": 201,
     "metadata": {},
     "output_type": "execute_result"
    }
   ],
   "source": [
    "evals"
   ]
  },
  {
   "cell_type": "code",
   "execution_count": 204,
   "metadata": {},
   "outputs": [
    {
     "data": {
      "text/html": [
       "<div>\n",
       "<style scoped>\n",
       "    .dataframe tbody tr th:only-of-type {\n",
       "        vertical-align: middle;\n",
       "    }\n",
       "\n",
       "    .dataframe tbody tr th {\n",
       "        vertical-align: top;\n",
       "    }\n",
       "\n",
       "    .dataframe thead th {\n",
       "        text-align: right;\n",
       "    }\n",
       "</style>\n",
       "<table border=\"1\" class=\"dataframe\">\n",
       "  <thead>\n",
       "    <tr style=\"text-align: right;\">\n",
       "      <th></th>\n",
       "      <th>0</th>\n",
       "      <th>1</th>\n",
       "      <th>2</th>\n",
       "      <th>3</th>\n",
       "    </tr>\n",
       "  </thead>\n",
       "  <tbody>\n",
       "    <tr>\n",
       "      <th>(+, +)</th>\n",
       "      <td>0.5+0.0j</td>\n",
       "      <td>0.0+0.0j</td>\n",
       "      <td>0.7+0.0j</td>\n",
       "      <td>0.5+0.0j</td>\n",
       "    </tr>\n",
       "    <tr>\n",
       "      <th>(+, -)</th>\n",
       "      <td>0.5+0.0j</td>\n",
       "      <td>0.7+0.0j</td>\n",
       "      <td>0.0+0.0j</td>\n",
       "      <td>-0.5+0.0j</td>\n",
       "    </tr>\n",
       "    <tr>\n",
       "      <th>(-, +)</th>\n",
       "      <td>0.5+0.0j</td>\n",
       "      <td>-0.7+0.0j</td>\n",
       "      <td>0.0+0.0j</td>\n",
       "      <td>-0.5+0.0j</td>\n",
       "    </tr>\n",
       "    <tr>\n",
       "      <th>(-, -)</th>\n",
       "      <td>0.5+0.0j</td>\n",
       "      <td>0.0+0.0j</td>\n",
       "      <td>-0.7+0.0j</td>\n",
       "      <td>0.5+0.0j</td>\n",
       "    </tr>\n",
       "  </tbody>\n",
       "</table>\n",
       "</div>"
      ],
      "text/plain": [
       "               0          1          2          3\n",
       "(+, +)  0.5+0.0j   0.0+0.0j   0.7+0.0j   0.5+0.0j\n",
       "(+, -)  0.5+0.0j   0.7+0.0j   0.0+0.0j  -0.5+0.0j\n",
       "(-, +)  0.5+0.0j  -0.7+0.0j   0.0+0.0j  -0.5+0.0j\n",
       "(-, -)  0.5+0.0j   0.0+0.0j  -0.7+0.0j   0.5+0.0j"
      ]
     },
     "execution_count": 204,
     "metadata": {},
     "output_type": "execute_result"
    }
   ],
   "source": [
    "prettify_states(ekets, mm_list)"
   ]
  },
  {
   "cell_type": "markdown",
   "metadata": {},
   "source": [
    "Similar to Tutorial 1, because we have coupled the states together the stationary states are now mixtures of the + and - states.\n",
    "\n",
    "The lowest energy eigenstate (column 0) is an \"in phase\" mixture of all the different states and the highest energy eigenstate (column 3) is an \"out of phase\" mixture. \n",
    "\n",
    "We also have 2 zero energy engenstates that are either mixtures of |+,+> and |-,-> or |+,-> and |-,+>.\n",
    "\n",
    ">TODO what is the classial analogy here"
   ]
  },
  {
   "cell_type": "code",
   "execution_count": 320,
   "metadata": {},
   "outputs": [],
   "source": [
    "# J = jspin(3, basis=\"uncoupled\")"
   ]
  },
  {
   "cell_type": "code",
   "execution_count": 329,
   "metadata": {},
   "outputs": [],
   "source": [
    "A = 0.1\n",
    "\n",
    "H = A*Jx\n",
    "\n",
    "times = np.linspace(0.0, 100.0, 1000) \n",
    "\n",
    "psi0=basis(4,0)\n",
    "#psi0 = estates[3]\n",
    "\n",
    "result = sesolve(H, psi0, times)\n",
    "\n",
    "# result = sesolve(H0, basis(7,0), times)"
   ]
  },
  {
   "cell_type": "code",
   "execution_count": 330,
   "metadata": {},
   "outputs": [],
   "source": [
    "num_states = result.states[0].shape[0]\n",
    "psi = np.zeros([num_states,times.size], dtype=\"complex128\")\n",
    "P = np.zeros([num_states,times.size], dtype=\"complex128\")\n",
    "\n",
    "for i, state in enumerate(result.states):\n",
    "    psi[:,i] = np.transpose(state)\n",
    "    P[:,i] = np.abs(psi[:,i]*np.conj(psi[:,i]))"
   ]
  },
  {
   "cell_type": "code",
   "execution_count": 331,
   "metadata": {},
   "outputs": [],
   "source": [
    "bra_labels, ket_labels = make_braket_labels(mm_list)"
   ]
  },
  {
   "cell_type": "code",
   "execution_count": 333,
   "metadata": {},
   "outputs": [
    {
     "data": {
      "image/png": "[encoded data removed]",
      "text/plain": [
       "<Figure size 720x576 with 1 Axes>"
      ]
     },
     "metadata": {
      "needs_background": "light"
     },
     "output_type": "display_data"
    }
   ],
   "source": [
    "plt.figure(figsize=(10,8))\n",
    "for i in range(0,P.shape[0]):\n",
    "    plt.plot(times, P[i,:], label=f\"{ket_labels[i]}\")\n",
    "plt.ylabel(\"Probability\")\n",
    "plt.xlabel(\"Time\")\n",
    "plt.legend(loc=\"right\")\n",
    "plt.title(\"$H =A \\ J_x + \\delta \\ J_z \\  \\cos (\\omega t)$     (N=6, J=3, A=0.1, $\\omega = 0.1$, $\\delta=0.001$)\")\n",
    "plt.show();"
   ]
  },
  {
   "cell_type": "markdown",
   "metadata": {},
   "source": [
    "\n",
    "We'll then calculate the eigenvalues of the Hamiltonian (i.e the energies) and see how they depend on the perturbation strength $\\delta$. When we did this in Tutorial 2 we discovered an avoided crossing (aka anti-crossing) when the perturbation was zero - this was due to the coupling between the states splitting the energy levels apart.\n",
    "\n",
    "Let's see what we find."
   ]
  },
  {
   "cell_type": "code",
   "execution_count": 451,
   "metadata": {},
   "outputs": [],
   "source": [
    "df = make_df_for_energy_scan(\"$\\delta$/A\", -4,4, 100, Jx.shape[0]) "
   ]
  },
  {
   "cell_type": "code",
   "execution_count": 452,
   "metadata": {},
   "outputs": [],
   "source": [
    "for i, row in df.iterrows():\n",
    "    H = - A*Jx + row[ \"$\\delta$/A\"]*A*Jz\n",
    "    evals, ekets = H.eigenstates()\n",
    "    df.iloc[i,1:] = evals"
   ]
  },
  {
   "cell_type": "code",
   "execution_count": 453,
   "metadata": {},
   "outputs": [
    {
     "data": {
      "image/png": "[encoded data removed]",
      "text/plain": [
       "<Figure size 720x576 with 1 Axes>"
      ]
     },
     "metadata": {
      "needs_background": "light"
     },
     "output_type": "display_data"
    }
   ],
   "source": [
    "df.plot(x=\"$\\delta$/A\",figsize=(10,8),legend=True, \n",
    "        title=\"Stationary states for $H=-A\\Sigma S_{nx} + \\delta \\Sigma S_{nz}$   (A=0.1)     (Fig 1)\");\n",
    "plt.ylabel(\"Energy\");"
   ]
  },
  {
   "cell_type": "markdown",
   "metadata": {},
   "source": [
    "> TODO: Comment on two degenerate levels and see what the eigenfunctions look like as a function of delta. Use this to motivate different universes that dont talk to each other"
   ]
  },
  {
   "cell_type": "code",
   "execution_count": null,
   "metadata": {},
   "outputs": [],
   "source": []
  },
  {
   "cell_type": "code",
   "execution_count": 456,
   "metadata": {},
   "outputs": [
    {
     "data": {
      "text/plain": [
       "array([Quantum object: dims = [[2, 2], [1, 1]], shape = (4, 1), type = ket\n",
       "Qobj data =\n",
       "[[-0.01492875]\n",
       " [-0.12126781]\n",
       " [-0.12126781]\n",
       " [-0.98507125]],\n",
       "       Quantum object: dims = [[2, 2], [1, 1]], shape = (4, 1), type = ket\n",
       "Qobj data =\n",
       "[[-0.17149859]\n",
       " [-0.68599434]\n",
       " [-0.68599434]\n",
       " [ 0.17149859]],\n",
       "       Quantum object: dims = [[2, 2], [1, 1]], shape = (4, 1), type = ket\n",
       "Qobj data =\n",
       "[[ 0.        ]\n",
       " [ 0.70710678]\n",
       " [-0.70710678]\n",
       " [ 0.        ]],\n",
       "       Quantum object: dims = [[2, 2], [1, 1]], shape = (4, 1), type = ket\n",
       "Qobj data =\n",
       "[[ 0.98507125]\n",
       " [-0.12126781]\n",
       " [-0.12126781]\n",
       " [ 0.01492875]]], dtype=object)"
      ]
     },
     "execution_count": 456,
     "metadata": {},
     "output_type": "execute_result"
    }
   ],
   "source": [
    "ekets"
   ]
  },
  {
   "cell_type": "markdown",
   "metadata": {},
   "source": [
    "> TODO: link back to conservation of angular momentum and motivate J^2 operator"
   ]
  },
  {
   "cell_type": "code",
   "execution_count": 457,
   "metadata": {},
   "outputs": [],
   "source": [
    "J2 = Jx**2 + Jy**2 + Jz**2"
   ]
  },
  {
   "cell_type": "code",
   "execution_count": 458,
   "metadata": {},
   "outputs": [
    {
     "data": {
      "text/latex": [
       "Quantum object: dims = [[2, 2], [2, 2]], shape = (4, 4), type = oper, isherm = True\\begin{equation*}\\left(\\begin{array}{*{11}c}2.0 & 0.0 & 0.0 & 0.0\\\\0.0 & 1.0 & 1.0 & 0.0\\\\0.0 & 1.0 & 1.0 & 0.0\\\\0.0 & 0.0 & 0.0 & 2.0\\\\\\end{array}\\right)\\end{equation*}"
      ],
      "text/plain": [
       "Quantum object: dims = [[2, 2], [2, 2]], shape = (4, 4), type = oper, isherm = True\n",
       "Qobj data =\n",
       "[[2. 0. 0. 0.]\n",
       " [0. 1. 1. 0.]\n",
       " [0. 1. 1. 0.]\n",
       " [0. 0. 0. 2.]]"
      ]
     },
     "execution_count": 458,
     "metadata": {},
     "output_type": "execute_result"
    }
   ],
   "source": [
    "J2"
   ]
  },
  {
   "cell_type": "markdown",
   "metadata": {},
   "source": [
    "> TODO: See that J2 is indeed conserved by commutator with the last Hamiltonian we just calculated"
   ]
  },
  {
   "cell_type": "code",
   "execution_count": 459,
   "metadata": {},
   "outputs": [
    {
     "data": {
      "text/latex": [
       "Quantum object: dims = [[2, 2], [2, 2]], shape = (4, 4), type = oper, isherm = True\\begin{equation*}\\left(\\begin{array}{*{11}c}0.0 & 0.0 & 0.0 & 0.0\\\\0.0 & 0.0 & 0.0 & 0.0\\\\0.0 & 0.0 & 0.0 & 0.0\\\\0.0 & 0.0 & 0.0 & 0.0\\\\\\end{array}\\right)\\end{equation*}"
      ],
      "text/plain": [
       "Quantum object: dims = [[2, 2], [2, 2]], shape = (4, 4), type = oper, isherm = True\n",
       "Qobj data =\n",
       "[[0. 0. 0. 0.]\n",
       " [0. 0. 0. 0.]\n",
       " [0. 0. 0. 0.]\n",
       " [0. 0. 0. 0.]]"
      ]
     },
     "execution_count": 459,
     "metadata": {},
     "output_type": "execute_result"
    }
   ],
   "source": [
    "commutator(H,J2)"
   ]
  },
  {
   "cell_type": "markdown",
   "metadata": {},
   "source": [
    "> TODO: Transform to basis of constant energy reveals level 3 has a different J^2 - this is why it cannot mix with the -- and ++ states which have J^2 of 2"
   ]
  },
  {
   "cell_type": "code",
   "execution_count": 27,
   "metadata": {},
   "outputs": [
    {
     "data": {
      "text/latex": [
       "Quantum object: dims = [[2, 2], [2, 2]], shape = (4, 4), type = oper, isherm = True\\begin{equation*}\\left(\\begin{array}{*{11}c}2.0 & 0.0 & 0.0 & 0.0\\\\0.0 & 2.0 & 0.0 & 0.0\\\\0.0 & 0.0 & 0.0 & 0.0\\\\0.0 & 0.0 & 0.0 & 2.0\\\\\\end{array}\\right)\\end{equation*}"
      ],
      "text/plain": [
       "Quantum object: dims = [[2, 2], [2, 2]], shape = (4, 4), type = oper, isherm = True\n",
       "Qobj data =\n",
       "[[2. 0. 0. 0.]\n",
       " [0. 2. 0. 0.]\n",
       " [0. 0. 0. 0.]\n",
       " [0. 0. 0. 2.]]"
      ]
     },
     "execution_count": 27,
     "metadata": {},
     "output_type": "execute_result"
    }
   ],
   "source": [
    "J2.transform(ekets)"
   ]
  },
  {
   "cell_type": "markdown",
   "metadata": {},
   "source": [
    "> TODO: Better to work in a basis of constant \"angular momentum\""
   ]
  },
  {
   "cell_type": "code",
   "execution_count": 479,
   "metadata": {},
   "outputs": [],
   "source": [
    "J = jspin(2)"
   ]
  },
  {
   "cell_type": "code",
   "execution_count": 480,
   "metadata": {},
   "outputs": [
    {
     "data": {
      "text/plain": [
       "[Quantum object: dims = [[4], [4]], shape = (4, 4), type = oper, isherm = True\n",
       " Qobj data =\n",
       " [[0.         0.70710678 0.         0.        ]\n",
       "  [0.70710678 0.         0.70710678 0.        ]\n",
       "  [0.         0.70710678 0.         0.        ]\n",
       "  [0.         0.         0.         0.        ]],\n",
       " Quantum object: dims = [[4], [4]], shape = (4, 4), type = oper, isherm = True\n",
       " Qobj data =\n",
       " [[0.+0.j         0.-0.70710678j 0.+0.j         0.+0.j        ]\n",
       "  [0.+0.70710678j 0.+0.j         0.-0.70710678j 0.+0.j        ]\n",
       "  [0.+0.j         0.+0.70710678j 0.+0.j         0.+0.j        ]\n",
       "  [0.+0.j         0.+0.j         0.+0.j         0.+0.j        ]],\n",
       " Quantum object: dims = [[4], [4]], shape = (4, 4), type = oper, isherm = True\n",
       " Qobj data =\n",
       " [[ 1.  0.  0.  0.]\n",
       "  [ 0.  0.  0.  0.]\n",
       "  [ 0.  0. -1.  0.]\n",
       "  [ 0.  0.  0.  0.]]]"
      ]
     },
     "execution_count": 480,
     "metadata": {},
     "output_type": "execute_result"
    }
   ],
   "source": [
    "J"
   ]
  },
  {
   "cell_type": "code",
   "execution_count": 481,
   "metadata": {},
   "outputs": [],
   "source": [
    "Jx = J[0]\n",
    "Jy = J[1]\n",
    "Jz = J[2]"
   ]
  },
  {
   "cell_type": "code",
   "execution_count": 466,
   "metadata": {},
   "outputs": [],
   "source": [
    "A = 0.01"
   ]
  },
  {
   "cell_type": "code",
   "execution_count": 467,
   "metadata": {},
   "outputs": [],
   "source": [
    "H =  A*Jx"
   ]
  },
  {
   "cell_type": "code",
   "execution_count": 482,
   "metadata": {},
   "outputs": [],
   "source": [
    "J2 = Jx**2 + Jy**2 + Jz**2"
   ]
  },
  {
   "cell_type": "code",
   "execution_count": 483,
   "metadata": {},
   "outputs": [
    {
     "data": {
      "text/latex": [
       "Quantum object: dims = [[4], [4]], shape = (4, 4), type = oper, isherm = True\\begin{equation*}\\left(\\begin{array}{*{11}c}2.0 & 0.0 & 0.0 & 0.0\\\\0.0 & 2.0 & 0.0 & 0.0\\\\0.0 & 0.0 & 2.0 & 0.0\\\\0.0 & 0.0 & 0.0 & 0.0\\\\\\end{array}\\right)\\end{equation*}"
      ],
      "text/plain": [
       "Quantum object: dims = [[4], [4]], shape = (4, 4), type = oper, isherm = True\n",
       "Qobj data =\n",
       "[[2. 0. 0. 0.]\n",
       " [0. 2. 0. 0.]\n",
       " [0. 0. 2. 0.]\n",
       " [0. 0. 0. 0.]]"
      ]
     },
     "execution_count": 483,
     "metadata": {},
     "output_type": "execute_result"
    }
   ],
   "source": [
    "J2"
   ]
  },
  {
   "cell_type": "markdown",
   "metadata": {},
   "source": [
    "> TOTO: moivate where j comes in and how it's related to j(j+1). QuTiP has functions for this stuff"
   ]
  },
  {
   "cell_type": "code",
   "execution_count": 491,
   "metadata": {},
   "outputs": [
    {
     "data": {
      "text/plain": [
       "array([ 0.,  1.,  2.,  3.,  4.,  5.,  6.,  7.,  8.,  9., 10., 11., 12.,\n",
       "       13., 14., 15., 16., 17., 18., 19., 20., 21., 22., 23., 24., 25.,\n",
       "       26., 27., 28., 29., 30., 31., 32., 33., 34., 35., 36., 37., 38.,\n",
       "       39., 40., 41., 42., 43., 44., 45., 46., 47., 48., 49., 50.])"
      ]
     },
     "execution_count": 491,
     "metadata": {},
     "output_type": "execute_result"
    }
   ],
   "source": [
    "N=100\n",
    "\n",
    "j_vals(N)"
   ]
  },
  {
   "cell_type": "code",
   "execution_count": 493,
   "metadata": {},
   "outputs": [
    {
     "data": {
      "text/plain": [
       "array([-41, -40, -39, -38, -37, -36, -35, -34, -33, -32, -31, -30, -29,\n",
       "       -28, -27, -26, -25, -24, -23, -22, -21, -20, -19, -18, -17, -16,\n",
       "       -15, -14, -13, -12, -11, -10,  -9,  -8,  -7,  -6,  -5,  -4,  -3,\n",
       "        -2,  -1,   0,   1,   2,   3,   4,   5,   6,   7,   8,   9,  10,\n",
       "        11,  12,  13,  14,  15,  16,  17,  18,  19,  20,  21,  22,  23,\n",
       "        24,  25,  26,  27,  28,  29,  30,  31,  32,  33,  34,  35,  36,\n",
       "        37,  38,  39,  40,  41])"
      ]
     },
     "execution_count": 493,
     "metadata": {},
     "output_type": "execute_result"
    }
   ],
   "source": [
    "m_vals(41)"
   ]
  },
  {
   "cell_type": "code",
   "execution_count": 494,
   "metadata": {},
   "outputs": [
    {
     "data": {
      "text/plain": [
       "47"
      ]
     },
     "execution_count": 494,
     "metadata": {},
     "output_type": "execute_result"
    }
   ],
   "source": [
    "m_degeneracy(N,4)"
   ]
  },
  {
   "cell_type": "code",
   "execution_count": null,
   "metadata": {},
   "outputs": [],
   "source": []
  },
  {
   "cell_type": "code",
   "execution_count": 495,
   "metadata": {},
   "outputs": [],
   "source": [
    "def j_states_list(num_tss):\n",
    "    i=0\n",
    "    \n",
    "    jm_list = []\n",
    "    j_index = {}\n",
    "\n",
    "    js = j_vals(num_tss)[::-1]\n",
    "    \n",
    "    for j in js:\n",
    "        j_index[j] = []\n",
    "        ms = m_vals(j)[::-1]\n",
    "        for m in ms:\n",
    "            j_index[j].append(i)\n",
    "            jm_list.append((j,m))\n",
    "            i+=1\n",
    "    return j_index, jm_list"
   ]
  },
  {
   "cell_type": "code",
   "execution_count": 505,
   "metadata": {},
   "outputs": [],
   "source": [
    "def make_braket_labels(jm_list):\n",
    "    bra_labels = [\"$\\langle$\"+str(Fraction(j))+\", \"+str(Fraction(m))+\" |\" for (j,m) in jm_list]\n",
    "    ket_labels = [\"| \"+str(Fraction(j))+\", \"+str(Fraction(m))+\"$\\\\rangle$\" for (j,m) in jm_list]\n",
    "    return bra_labels, ket_labels"
   ]
  },
  {
   "cell_type": "code",
   "execution_count": null,
   "metadata": {},
   "outputs": [],
   "source": []
  },
  {
   "cell_type": "code",
   "execution_count": 178,
   "metadata": {},
   "outputs": [],
   "source": [
    "def make_operators(num_tss, j):\n",
    "    \n",
    "    j_index, jm_list = j_states_list(num_tss)\n",
    "    \n",
    "    try:\n",
    "        j_index[j]\n",
    "    except:\n",
    "        raise Exception(f\"j needs to be one of {j_vals(num_tss)}\")\n",
    "    \n",
    "    Js = jspin(num_tss)\n",
    "    Jx = Js[0]\n",
    "    Jz = Js[2]\n",
    "    \n",
    "\n",
    "    \n",
    "    num_ms = len(m_vals(j))\n",
    "    Jz = Jz.extract_states(j_index[j])\n",
    "    Jx = Jx.extract_states(j_index[j])\n",
    "    jm_list = [jm_list[i] for i in j_index[j]]\n",
    "    \n",
    "    \n",
    "    \n",
    "    return Jz, Jx, jm_list"
   ]
  },
  {
   "cell_type": "code",
   "execution_count": 543,
   "metadata": {},
   "outputs": [],
   "source": [
    "Jz, Jx, jm_list = make_operators(6, 3)"
   ]
  },
  {
   "cell_type": "code",
   "execution_count": 544,
   "metadata": {},
   "outputs": [],
   "source": [
    "df = make_df_for_energy_scan(\"$\\Delta E$/A\", -4,4, 100, Jz.shape[0])"
   ]
  },
  {
   "cell_type": "code",
   "execution_count": 545,
   "metadata": {},
   "outputs": [],
   "source": [
    "A=0.1\n",
    "for i, row in df.iterrows():\n",
    "    H =  row[ \"$\\Delta E$/A\"]*A*Jz +  A*Jx\n",
    "    evals, ekets = H.eigenstates()\n",
    "    df.iloc[i,1:] = evals"
   ]
  },
  {
   "cell_type": "code",
   "execution_count": 546,
   "metadata": {},
   "outputs": [
    {
     "data": {
      "image/png": "[encoded data removed]",
      "text/plain": [
       "<Figure size 720x576 with 1 Axes>"
      ]
     },
     "metadata": {
      "needs_background": "light"
     },
     "output_type": "display_data"
    }
   ],
   "source": [
    "df.plot(x=\"$\\Delta E$/A\",figsize=(10,8),legend=True, \n",
    "        title=\"$H=\\Delta E \\ J_z + A \\ J_x$    (N=6, J=3, A=0.1) \");\n",
    "plt.ylabel(\"Energy\");"
   ]
  },
  {
   "cell_type": "code",
   "execution_count": 169,
   "metadata": {},
   "outputs": [],
   "source": [
    "bra_labels, ket_labels = make_braket_labels(jm_list)"
   ]
  },
  {
   "cell_type": "code",
   "execution_count": 353,
   "metadata": {},
   "outputs": [],
   "source": [
    "delta = 0.001\n",
    "A = 0.1\n",
    "\n",
    "H0 = A*Jx\n",
    "\n",
    "evals, estates = H0.eigenstates()\n",
    "\n",
    "H1 =  delta*Jz\n",
    "\n",
    "H = [H0,[H1,'cos(w*t)']]\n",
    "\n",
    "times = np.linspace(0.0, 20000.0, 1000) \n",
    "\n",
    "#psi0=basis(4,0)\n",
    "psi0 = estates[0]\n",
    "\n",
    "result = sesolve(H, psi0, times, args={'w':A})\n",
    "\n",
    "# result = sesolve(H0, basis(7,0), times)\n",
    "\n"
   ]
  },
  {
   "cell_type": "code",
   "execution_count": 354,
   "metadata": {},
   "outputs": [],
   "source": [
    "num_states = result.states[0].shape[0]\n",
    "psi = np.zeros([num_states,times.size], dtype=\"complex128\")\n",
    "P = np.zeros([num_states,times.size], dtype=\"complex128\")\n",
    "\n",
    "for i, state in enumerate(result.states):\n",
    "    transformed_state = state.transform(estates)\n",
    "    psi[:,i] = np.transpose(transformed_state)\n",
    "    P[:,i] = np.abs(psi[:,i]*np.conj(psi[:,i]))"
   ]
  },
  {
   "cell_type": "code",
   "execution_count": 355,
   "metadata": {},
   "outputs": [
    {
     "data": {
      "image/png": "[encoded data removed]",
      "text/plain": [
       "<Figure size 720x576 with 1 Axes>"
      ]
     },
     "metadata": {
      "needs_background": "light"
     },
     "output_type": "display_data"
    }
   ],
   "source": [
    "plt.figure(figsize=(10,8))\n",
    "for i in range(0,P.shape[0]):\n",
    "    plt.plot(times, P[i,:], label=f\"E_level_{i}\")\n",
    "plt.ylabel(\"Probability\")\n",
    "plt.xlabel(\"Time\")\n",
    "plt.legend(loc=\"right\")\n",
    "plt.title(\"$H =A \\ J_x + \\delta \\ J_z \\  \\cos (\\omega t)$     (N=6, J=3, A=0.1, $\\omega = 0.1$, $\\delta=0.001$)\")\n",
    "plt.show();"
   ]
  },
  {
   "cell_type": "code",
   "execution_count": 548,
   "metadata": {},
   "outputs": [],
   "source": [
    "H0 = A*Jx"
   ]
  },
  {
   "cell_type": "code",
   "execution_count": 549,
   "metadata": {},
   "outputs": [],
   "source": [
    "evals, estates = H0.eigenstates()"
   ]
  },
  {
   "cell_type": "code",
   "execution_count": 550,
   "metadata": {},
   "outputs": [
    {
     "data": {
      "text/plain": [
       "array([-3.00000000e-01, -2.00000000e-01, -1.00000000e-01,  2.22044605e-16,\n",
       "        1.00000000e-01,  2.00000000e-01,  3.00000000e-01])"
      ]
     },
     "execution_count": 550,
     "metadata": {},
     "output_type": "execute_result"
    }
   ],
   "source": [
    "evals"
   ]
  },
  {
   "cell_type": "code",
   "execution_count": 551,
   "metadata": {},
   "outputs": [
    {
     "data": {
      "text/plain": [
       "array([Quantum object: dims = [[7], [1]], shape = (7, 1), type = ket\n",
       "Qobj data =\n",
       "[[ 0.125     ]\n",
       " [-0.30618622]\n",
       " [ 0.48412292]\n",
       " [-0.55901699]\n",
       " [ 0.48412292]\n",
       " [-0.30618622]\n",
       " [ 0.125     ]],\n",
       "       Quantum object: dims = [[7], [1]], shape = (7, 1), type = ket\n",
       "Qobj data =\n",
       "[[-0.30618622]\n",
       " [ 0.5       ]\n",
       " [-0.39528471]\n",
       " [ 0.        ]\n",
       " [ 0.39528471]\n",
       " [-0.5       ]\n",
       " [ 0.30618622]],\n",
       "       Quantum object: dims = [[7], [1]], shape = (7, 1), type = ket\n",
       "Qobj data =\n",
       "[[ 0.48412292]\n",
       " [-0.39528471]\n",
       " [-0.125     ]\n",
       " [ 0.4330127 ]\n",
       " [-0.125     ]\n",
       " [-0.39528471]\n",
       " [ 0.48412292]],\n",
       "       Quantum object: dims = [[7], [1]], shape = (7, 1), type = ket\n",
       "Qobj data =\n",
       "[[-0.55901699]\n",
       " [ 0.        ]\n",
       " [ 0.4330127 ]\n",
       " [ 0.        ]\n",
       " [-0.4330127 ]\n",
       " [ 0.        ]\n",
       " [ 0.55901699]],\n",
       "       Quantum object: dims = [[7], [1]], shape = (7, 1), type = ket\n",
       "Qobj data =\n",
       "[[ 0.48412292]\n",
       " [ 0.39528471]\n",
       " [-0.125     ]\n",
       " [-0.4330127 ]\n",
       " [-0.125     ]\n",
       " [ 0.39528471]\n",
       " [ 0.48412292]],\n",
       "       Quantum object: dims = [[7], [1]], shape = (7, 1), type = ket\n",
       "Qobj data =\n",
       "[[-0.30618622]\n",
       " [-0.5       ]\n",
       " [-0.39528471]\n",
       " [ 0.        ]\n",
       " [ 0.39528471]\n",
       " [ 0.5       ]\n",
       " [ 0.30618622]],\n",
       "       Quantum object: dims = [[7], [1]], shape = (7, 1), type = ket\n",
       "Qobj data =\n",
       "[[0.125     ]\n",
       " [0.30618622]\n",
       " [0.48412292]\n",
       " [0.55901699]\n",
       " [0.48412292]\n",
       " [0.30618622]\n",
       " [0.125     ]]], dtype=object)"
      ]
     },
     "execution_count": 551,
     "metadata": {},
     "output_type": "execute_result"
    }
   ],
   "source": [
    "estates"
   ]
  },
  {
   "cell_type": "code",
   "execution_count": 554,
   "metadata": {},
   "outputs": [
    {
     "data": {
      "text/plain": [
       "(<Figure size 576x432 with 1 Axes>,\n",
       " <matplotlib.axes._subplots.AxesSubplot at 0x18266ea908>)"
      ]
     },
     "execution_count": 554,
     "metadata": {},
     "output_type": "execute_result"
    },
    {
     "data": {
      "image/png": "[encoded data removed]",
      "text/plain": [
       "<Figure size 576x432 with 1 Axes>"
      ]
     },
     "metadata": {
      "needs_background": "light"
     },
     "output_type": "display_data"
    }
   ],
   "source": [
    "plot_fock_distribution(estates[6])"
   ]
  },
  {
   "cell_type": "code",
   "execution_count": null,
   "metadata": {},
   "outputs": [],
   "source": []
  },
  {
   "cell_type": "code",
   "execution_count": 273,
   "metadata": {},
   "outputs": [
    {
     "data": {
      "text/plain": [
       "[(3.0, 3.0),\n",
       " (3.0, 2.0),\n",
       " (3.0, 1.0),\n",
       " (3.0, 0.0),\n",
       " (3.0, -1.0),\n",
       " (3.0, -2.0),\n",
       " (3.0, -3.0)]"
      ]
     },
     "execution_count": 273,
     "metadata": {},
     "output_type": "execute_result"
    }
   ],
   "source": [
    "jm_list"
   ]
  },
  {
   "cell_type": "code",
   "execution_count": null,
   "metadata": {},
   "outputs": [],
   "source": []
  },
  {
   "cell_type": "code",
   "execution_count": null,
   "metadata": {},
   "outputs": [],
   "source": []
  },
  {
   "cell_type": "code",
   "execution_count": null,
   "metadata": {},
   "outputs": [],
   "source": []
  },
  {
   "cell_type": "code",
   "execution_count": null,
   "metadata": {},
   "outputs": [],
   "source": []
  },
  {
   "cell_type": "markdown",
   "metadata": {},
   "source": [
    "[Wolfram alpha eigenvalues](https://www.wolframalpha.com/input/?i=%7B%7B1%2Ca%2C0%7D%2C%7Ba%2C0%2Ca%7D%2C%7B0%2Ca%2C-1%7D%7D+eigenvalues)\n",
    "\n"
   ]
  },
  {
   "cell_type": "code",
   "execution_count": 176,
   "metadata": {},
   "outputs": [
    {
     "ename": "SyntaxError",
     "evalue": "EOL while scanning string literal (<ipython-input-176-647971f197cd>, line 1)",
     "output_type": "error",
     "traceback": [
      "\u001b[0;36m  File \u001b[0;32m\"<ipython-input-176-647971f197cd>\"\u001b[0;36m, line \u001b[0;32m1\u001b[0m\n\u001b[0;31m    \"#' + '.join(x))\u001b[0m\n\u001b[0m                    ^\u001b[0m\n\u001b[0;31mSyntaxError\u001b[0m\u001b[0;31m:\u001b[0m EOL while scanning string literal\n"
     ]
    }
   ],
   "source": [
    "\"#' + '.join(x))\n",
    "#             x.append(f\"{val[0,0]:.2f}\" + '|'+','.join(mm_list[j])+'>')\""
   ]
  },
  {
   "cell_type": "code",
   "execution_count": null,
   "metadata": {},
   "outputs": [],
   "source": []
  }
 ],
 "metadata": {
  "jupytext": {
   "formats": "ipynb,src//md"
  },
  "kernelspec": {
   "display_name": "Python 3",
   "language": "python",
   "name": "python3"
  },
  "language_info": {
   "codemirror_mode": {
    "name": "ipython",
    "version": 3
   },
   "file_extension": ".py",
   "mimetype": "text/x-python",
   "name": "python",
   "nbconvert_exporter": "python",
   "pygments_lexer": "ipython3",
   "version": "3.7.1"
  }
 },
 "nbformat": 4,
 "nbformat_minor": 4
}
