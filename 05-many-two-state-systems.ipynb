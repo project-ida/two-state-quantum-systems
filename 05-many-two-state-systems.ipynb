{
 "cells": [
  {
   "cell_type": "markdown",
   "metadata": {},
   "source": [
    "<a href=\"https://colab.research.google.com/github/project-ida/two-state-quantum-systems/blob/master/05-many-two-state-systems.ipynb\" target=\"_parent\"><img src=\"https://colab.research.google.com/assets/colab-badge.svg\" alt=\"Open In Colab\"/></a> &nbsp;&nbsp;&nbsp;&nbsp;&nbsp;&nbsp;&nbsp;&nbsp;&nbsp;&nbsp; <a href=\"https://nbviewer.jupyter.org/github/project-ida/two-state-quantum-systems/blob/master/05-many-two-state-systems.ipynb\" target=\"_parent\"><img src=\"https://nbviewer.jupyter.org/static/img/nav_logo.svg\" alt=\"Open In nbviewer\" width=\"100\"/></a>"
   ]
  },
  {
   "cell_type": "markdown",
   "metadata": {},
   "source": [
    "# 5 - Many two state systems"
   ]
  },
  {
   "cell_type": "markdown",
   "metadata": {},
   "source": [
    "> TODO: Intro"
   ]
  },
  {
   "cell_type": "code",
   "execution_count": 2,
   "metadata": {},
   "outputs": [],
   "source": [
    "# Libraries\n",
    "%matplotlib inline\n",
    "import matplotlib.pyplot as plt\n",
    "import matplotlib.ticker as ticker\n",
    "from IPython.display import Image\n",
    "import gif\n",
    "import numpy as np\n",
    "import pandas as pd\n",
    "from qutip import *\n",
    "from qutip.piqs import *\n",
    "from qutip.cy.piqs import j_min, j_vals, m_vals\n",
    "import warnings\n",
    "warnings.filterwarnings('ignore')\n",
    "from itertools import product\n",
    "import os\n",
    "from fractions import Fraction\n",
    "\n",
    "# Functions created in 04 tutorial\n",
    "\n",
    "from libs.helper_05_tutorial import *"
   ]
  },
  {
   "cell_type": "markdown",
   "metadata": {},
   "source": [
    "As soon as we start adding more than one TSS things get quite complicated. In order to give us an intuition for how such systems behave, we will take inspiration from Tutorials 1 and 2.\n",
    "\n",
    "Recall that when we started in [Tutortial 2](https://nbviewer.jupyter.org/github/project-ida/two-state-quantum-systems/blob/master/02-perturbing-a-two-state-system.ipynb#2.1-Static-perturbation) we motivated that a single TSS whose states have the same energy $E_0$, are coupled together with strength $A$ and are subject to some kind of external perturbation $\\delta$ can be described by a Hamiltonian\n",
    "\n",
    "$$\n",
    "H = \\begin{bmatrix}\n",
    " E_0 + \\delta  &  -A  \\\\\n",
    " -A  &  E_0 - \\delta  \\\\\n",
    "\\end{bmatrix} = E_0 I - A \\sigma_x + \\delta\\sigma_z\n",
    "$$\n",
    "\n",
    "\n",
    "We now recognise that we can always shift all energies in the Hamiltonian by a constant amount so, without loss of generality, we can set $E_0=0$ leaving us with the following Hamiltonian\n",
    "\n",
    "$$\n",
    "H = - A \\sigma_x + \\delta\\sigma_z\n",
    "$$\n"
   ]
  },
  {
   "cell_type": "markdown",
   "metadata": {},
   "source": [
    "A natural starting point for the Hamiltonian of $N$ of these TSS is then\n",
    "\n",
    "$$\n",
    "H = - A \\overset{N}{\\underset{n=1}{\\Sigma}} \\sigma_{n x} + \\delta \\overset{N}{\\underset{n=1}{\\Sigma}} \\sigma_{n z}\n",
    "$$\n",
    "\n",
    "where the index $n$ refers to a particular TSS.\n",
    "\n",
    "You may recall that there are mathematical similarities between a TSS and a spin $1/2$ particle. When considering many TSS, we will find it invaluable to refer to well known spin results, such as conservation of angular momentum, to help us solve problems. In light of this, we will introduce a factor of $1/2$ into the Hamiltonian:\n",
    "\n",
    "$$\n",
    "H = - A \\frac{1}{2}\\overset{N}{\\underset{n=1}{\\Sigma}} \\sigma_{n x} + \\frac{1}{2}\\delta \\overset{N}{\\underset{n=1}{\\Sigma}} \\sigma_{n z}\n",
    "$$\n",
    "\n",
    "so that we can rewrite our operators as spin operators, (denoted by $S$), for a [spin $1/2$ particle](https://en.wikipedia.org/wiki/Spin-%C2%BD#Observables), i.e.\n",
    "\n",
    "$$\n",
    "H = - A \\overset{N}{\\underset{n=1}{\\Sigma}} S_{n x} + \\delta \\overset{N}{\\underset{n=1}{\\Sigma}} S_{n z}\n",
    "$$\n",
    "\n",
    "Because spin represents angular momentum, the combination of spin operators above is mathematically the same as how one would create the [total angular momentum operators](https://www2.ph.ed.ac.uk/~ldeldebb/docs/QM/lect15.pdf) - denoted by $J$, e.g. $Jx = \\overset{N}{\\underset{n=1}{\\Sigma}} S_{n x}$. The Hamiltonian can then be written more compactly as:\n",
    "\n",
    "$$\n",
    "H = - A J_{x} + \\delta J_{z}\n",
    "$$\n",
    "\n",
    "Let's see what we can learn from this."
   ]
  },
  {
   "cell_type": "markdown",
   "metadata": {},
   "source": [
    "## 5.2 - 2 two-state systems\n",
    "\n",
    "Let's start simple and look at 2 TSS, i.e. $N=2$. In this coupled system we have 4 states:\n",
    "- |+,+>\n",
    "- |+,->\n",
    "- |-,+>\n",
    "- |-,->\n",
    "\n",
    "In [Tutorial 3](https://nbviewer.jupyter.org/github/project-ida/two-state-quantum-systems/blob/master/03-a-two-state-system-in-a-quantised-field.ipynb#3.5---Describing-coupled-systems-in-QuTiP) we learnt how to describe such coupled states in QuTiP by using the tensor product.\n",
    "\n",
    "Specifically, we would create the |+,-> state by doing:"
   ]
  },
  {
   "cell_type": "code",
   "execution_count": 419,
   "metadata": {},
   "outputs": [
    {
     "data": {
      "text/latex": [
       "Quantum object: dims = [[2, 2], [1, 1]], shape = (4, 1), type = ket\\begin{equation*}\\left(\\begin{array}{*{11}c}0.0\\\\1.0\\\\0.0\\\\0.0\\\\\\end{array}\\right)\\end{equation*}"
      ],
      "text/plain": [
       "Quantum object: dims = [[2, 2], [1, 1]], shape = (4, 1), type = ket\n",
       "Qobj data =\n",
       "[[0.]\n",
       " [1.]\n",
       " [0.]\n",
       " [0.]]"
      ]
     },
     "execution_count": 419,
     "metadata": {},
     "output_type": "execute_result"
    }
   ],
   "source": [
    "tensor(basis(2,0), basis(2,1))"
   ]
  },
  {
   "cell_type": "markdown",
   "metadata": {},
   "source": [
    "The tensor product could also be used for operators. For 2 TSS without a quantised field, we can create the tensorised $S_{x1}$ and $S_{x2}$ operators by doing:"
   ]
  },
  {
   "cell_type": "code",
   "execution_count": 421,
   "metadata": {},
   "outputs": [],
   "source": [
    "Sx1 = tensor(sigmax()/2, qeye(2))\n",
    "Sx2 = tensor(qeye(2), sigmax()/2)"
   ]
  },
  {
   "cell_type": "code",
   "execution_count": 422,
   "metadata": {},
   "outputs": [
    {
     "data": {
      "text/latex": [
       "Quantum object: dims = [[2, 2], [2, 2]], shape = (4, 4), type = oper, isherm = True\\begin{equation*}\\left(\\begin{array}{*{11}c}0.0 & 0.0 & 0.500 & 0.0\\\\0.0 & 0.0 & 0.0 & 0.500\\\\0.500 & 0.0 & 0.0 & 0.0\\\\0.0 & 0.500 & 0.0 & 0.0\\\\\\end{array}\\right)\\end{equation*}"
      ],
      "text/plain": [
       "Quantum object: dims = [[2, 2], [2, 2]], shape = (4, 4), type = oper, isherm = True\n",
       "Qobj data =\n",
       "[[0.  0.  0.5 0. ]\n",
       " [0.  0.  0.  0.5]\n",
       " [0.5 0.  0.  0. ]\n",
       " [0.  0.5 0.  0. ]]"
      ]
     },
     "execution_count": 422,
     "metadata": {},
     "output_type": "execute_result"
    }
   ],
   "source": [
    "Sx1"
   ]
  },
  {
   "cell_type": "code",
   "execution_count": 423,
   "metadata": {},
   "outputs": [
    {
     "data": {
      "text/latex": [
       "Quantum object: dims = [[2, 2], [2, 2]], shape = (4, 4), type = oper, isherm = True\\begin{equation*}\\left(\\begin{array}{*{11}c}0.0 & 0.500 & 0.0 & 0.0\\\\0.500 & 0.0 & 0.0 & 0.0\\\\0.0 & 0.0 & 0.0 & 0.500\\\\0.0 & 0.0 & 0.500 & 0.0\\\\\\end{array}\\right)\\end{equation*}"
      ],
      "text/plain": [
       "Quantum object: dims = [[2, 2], [2, 2]], shape = (4, 4), type = oper, isherm = True\n",
       "Qobj data =\n",
       "[[0.  0.5 0.  0. ]\n",
       " [0.5 0.  0.  0. ]\n",
       " [0.  0.  0.  0.5]\n",
       " [0.  0.  0.5 0. ]]"
      ]
     },
     "execution_count": 423,
     "metadata": {},
     "output_type": "execute_result"
    }
   ],
   "source": [
    "Sx2"
   ]
  },
  {
   "cell_type": "markdown",
   "metadata": {},
   "source": [
    "This way of creating operators is fine for a few TSS, but the process of making these tensor products can get a bit laborious. Luckily, QuTiP has a function that can generate all of the $S$ operators for $N$ TSS with a single line of code - [`spin_algebra(N)`](http://qutip.org/docs/latest/apidoc/functions.html#qutip.piqs.spin_algebra).\n",
    "\n",
    "Let's try it it out."
   ]
  },
  {
   "cell_type": "code",
   "execution_count": 424,
   "metadata": {},
   "outputs": [],
   "source": [
    "S = spin_algebra(2)"
   ]
  },
  {
   "cell_type": "code",
   "execution_count": 425,
   "metadata": {},
   "outputs": [
    {
     "data": {
      "text/plain": [
       "3"
      ]
     },
     "execution_count": 425,
     "metadata": {},
     "output_type": "execute_result"
    }
   ],
   "source": [
    "len(S)"
   ]
  },
  {
   "cell_type": "markdown",
   "metadata": {},
   "source": [
    "Now looking at the 0th entry in the `spin_algebra` list we find that it's equal to $[S_{1x}, S_{2x}]$ (we would find a equivalent for $S_{y}$ and $S_{z}$)"
   ]
  },
  {
   "cell_type": "code",
   "execution_count": 426,
   "metadata": {},
   "outputs": [
    {
     "data": {
      "text/plain": [
       "[Quantum object: dims = [[2, 2], [2, 2]], shape = (4, 4), type = oper, isherm = True\n",
       " Qobj data =\n",
       " [[0.  0.  0.5 0. ]\n",
       "  [0.  0.  0.  0.5]\n",
       "  [0.5 0.  0.  0. ]\n",
       "  [0.  0.5 0.  0. ]],\n",
       " Quantum object: dims = [[2, 2], [2, 2]], shape = (4, 4), type = oper, isherm = True\n",
       " Qobj data =\n",
       " [[0.  0.5 0.  0. ]\n",
       "  [0.5 0.  0.  0. ]\n",
       "  [0.  0.  0.  0.5]\n",
       "  [0.  0.  0.5 0. ]]]"
      ]
     },
     "execution_count": 426,
     "metadata": {},
     "output_type": "execute_result"
    }
   ],
   "source": [
    "S[0]"
   ]
  },
  {
   "cell_type": "markdown",
   "metadata": {},
   "source": [
    "This is very convenient! We can then write our $J$ operators as:"
   ]
  },
  {
   "cell_type": "code",
   "execution_count": 443,
   "metadata": {},
   "outputs": [],
   "source": [
    "Jx = spins[0][0] + spins[0][1]\n",
    "Jy = spins[1][0] + spins[1][1]\n",
    "Jz = spins[2][0] + spins[2][1]"
   ]
  },
  {
   "cell_type": "markdown",
   "metadata": {},
   "source": [
    "\n",
    "We proceed as we have done several times by looking for the stationary states of the system. When the system is in one of these states it will remain there for all time. Such states are described by a single constant energy.\n",
    "\n",
    "To find the states of constant energy, we'll follow what we did in Tutorial 2. Specifically, we will first fix the coupling constant $A$"
   ]
  },
  {
   "cell_type": "code",
   "execution_count": 444,
   "metadata": {},
   "outputs": [],
   "source": [
    "A=0.1 "
   ]
  },
  {
   "cell_type": "markdown",
   "metadata": {},
   "source": [
    "\n",
    "We'll then calculate the eigenvalues of the Hamiltonian (i.e the energies) and see how they depend on the perturbation strength $\\delta$. When we did this in Tutorial 2 we discovered an avoided crossing (aka anti-crossing) when the perturbation was zero - this was due to the coupling between the states splitting the energy levels apart.\n",
    "\n",
    "Let's see what we find."
   ]
  },
  {
   "cell_type": "code",
   "execution_count": 451,
   "metadata": {},
   "outputs": [],
   "source": [
    "df = make_df_for_energy_scan(\"$\\delta$/A\", -4,4, 100, Jx.shape[0]) "
   ]
  },
  {
   "cell_type": "code",
   "execution_count": 452,
   "metadata": {},
   "outputs": [],
   "source": [
    "for i, row in df.iterrows():\n",
    "    H = - A*Jx + row[ \"$\\delta$/A\"]*A*Jz\n",
    "    evals, ekets = H.eigenstates()\n",
    "    df.iloc[i,1:] = evals"
   ]
  },
  {
   "cell_type": "code",
   "execution_count": 453,
   "metadata": {},
   "outputs": [
    {
     "data": {
      "image/png": "[encoded data removed]",
      "text/plain": [
       "<Figure size 720x576 with 1 Axes>"
      ]
     },
     "metadata": {
      "needs_background": "light"
     },
     "output_type": "display_data"
    }
   ],
   "source": [
    "df.plot(x=\"$\\delta$/A\",figsize=(10,8),legend=True, \n",
    "        title=\"Stationary states for $H=-A\\Sigma S_{nx} + \\delta \\Sigma S_{nz}$   (A=0.1)     (Fig 1)\");\n",
    "plt.ylabel(\"Energy\");"
   ]
  },
  {
   "cell_type": "code",
   "execution_count": 454,
   "metadata": {},
   "outputs": [
    {
     "data": {
      "text/plain": [
       "array([Quantum object: dims = [[2, 2], [1, 1]], shape = (4, 1), type = ket\n",
       "Qobj data =\n",
       "[[-0.01492875]\n",
       " [-0.12126781]\n",
       " [-0.12126781]\n",
       " [-0.98507125]],\n",
       "       Quantum object: dims = [[2, 2], [1, 1]], shape = (4, 1), type = ket\n",
       "Qobj data =\n",
       "[[-0.17149859]\n",
       " [-0.68599434]\n",
       " [-0.68599434]\n",
       " [ 0.17149859]],\n",
       "       Quantum object: dims = [[2, 2], [1, 1]], shape = (4, 1), type = ket\n",
       "Qobj data =\n",
       "[[ 0.        ]\n",
       " [ 0.70710678]\n",
       " [-0.70710678]\n",
       " [ 0.        ]],\n",
       "       Quantum object: dims = [[2, 2], [1, 1]], shape = (4, 1), type = ket\n",
       "Qobj data =\n",
       "[[ 0.98507125]\n",
       " [-0.12126781]\n",
       " [-0.12126781]\n",
       " [ 0.01492875]]], dtype=object)"
      ]
     },
     "execution_count": 454,
     "metadata": {},
     "output_type": "execute_result"
    }
   ],
   "source": [
    "ekets"
   ]
  },
  {
   "cell_type": "code",
   "execution_count": 21,
   "metadata": {},
   "outputs": [],
   "source": [
    "Jx = spins[0][0] + spins[0][1]\n",
    "Jy = spins[1][0] + spins[1][1]\n",
    "Jz = spins[2][0] + spins[2][1]"
   ]
  },
  {
   "cell_type": "code",
   "execution_count": 22,
   "metadata": {},
   "outputs": [],
   "source": [
    "H = delE*Jz + A*Jx"
   ]
  },
  {
   "cell_type": "code",
   "execution_count": 23,
   "metadata": {},
   "outputs": [
    {
     "data": {
      "text/latex": [
       "Quantum object: dims = [[2, 2], [2, 2]], shape = (4, 4), type = oper, isherm = True\\begin{equation*}\\left(\\begin{array}{*{11}c}1.0 & 0.005 & 0.005 & 0.0\\\\0.005 & 0.0 & 0.0 & 0.005\\\\0.005 & 0.0 & 0.0 & 0.005\\\\0.0 & 0.005 & 0.005 & -1.0\\\\\\end{array}\\right)\\end{equation*}"
      ],
      "text/plain": [
       "Quantum object: dims = [[2, 2], [2, 2]], shape = (4, 4), type = oper, isherm = True\n",
       "Qobj data =\n",
       "[[ 1.     0.005  0.005  0.   ]\n",
       " [ 0.005  0.     0.     0.005]\n",
       " [ 0.005  0.     0.     0.005]\n",
       " [ 0.     0.005  0.005 -1.   ]]"
      ]
     },
     "execution_count": 23,
     "metadata": {},
     "output_type": "execute_result"
    }
   ],
   "source": [
    "H"
   ]
  },
  {
   "cell_type": "code",
   "execution_count": 24,
   "metadata": {},
   "outputs": [],
   "source": [
    "J2 = Jx**2 + Jy**2 + Jz**2"
   ]
  },
  {
   "cell_type": "code",
   "execution_count": 25,
   "metadata": {},
   "outputs": [
    {
     "data": {
      "text/latex": [
       "Quantum object: dims = [[2, 2], [2, 2]], shape = (4, 4), type = oper, isherm = True\\begin{equation*}\\left(\\begin{array}{*{11}c}2.0 & 0.0 & 0.0 & 0.0\\\\0.0 & 1.0 & 1.0 & 0.0\\\\0.0 & 1.0 & 1.0 & 0.0\\\\0.0 & 0.0 & 0.0 & 2.0\\\\\\end{array}\\right)\\end{equation*}"
      ],
      "text/plain": [
       "Quantum object: dims = [[2, 2], [2, 2]], shape = (4, 4), type = oper, isherm = True\n",
       "Qobj data =\n",
       "[[2. 0. 0. 0.]\n",
       " [0. 1. 1. 0.]\n",
       " [0. 1. 1. 0.]\n",
       " [0. 0. 0. 2.]]"
      ]
     },
     "execution_count": 25,
     "metadata": {},
     "output_type": "execute_result"
    }
   ],
   "source": [
    "J2"
   ]
  },
  {
   "cell_type": "code",
   "execution_count": 26,
   "metadata": {},
   "outputs": [
    {
     "data": {
      "text/latex": [
       "Quantum object: dims = [[2, 2], [2, 2]], shape = (4, 4), type = oper, isherm = True\\begin{equation*}\\left(\\begin{array}{*{11}c}0.0 & 0.0 & 0.0 & 0.0\\\\0.0 & 0.0 & 0.0 & 0.0\\\\0.0 & 0.0 & 0.0 & 0.0\\\\0.0 & 0.0 & 0.0 & 0.0\\\\\\end{array}\\right)\\end{equation*}"
      ],
      "text/plain": [
       "Quantum object: dims = [[2, 2], [2, 2]], shape = (4, 4), type = oper, isherm = True\n",
       "Qobj data =\n",
       "[[0. 0. 0. 0.]\n",
       " [0. 0. 0. 0.]\n",
       " [0. 0. 0. 0.]\n",
       " [0. 0. 0. 0.]]"
      ]
     },
     "execution_count": 26,
     "metadata": {},
     "output_type": "execute_result"
    }
   ],
   "source": [
    "commutator(H,J2)"
   ]
  },
  {
   "cell_type": "code",
   "execution_count": 27,
   "metadata": {},
   "outputs": [
    {
     "data": {
      "text/latex": [
       "Quantum object: dims = [[2, 2], [2, 2]], shape = (4, 4), type = oper, isherm = True\\begin{equation*}\\left(\\begin{array}{*{11}c}2.0 & 0.0 & 0.0 & 0.0\\\\0.0 & 2.0 & 0.0 & 0.0\\\\0.0 & 0.0 & 0.0 & 0.0\\\\0.0 & 0.0 & 0.0 & 2.0\\\\\\end{array}\\right)\\end{equation*}"
      ],
      "text/plain": [
       "Quantum object: dims = [[2, 2], [2, 2]], shape = (4, 4), type = oper, isherm = True\n",
       "Qobj data =\n",
       "[[2. 0. 0. 0.]\n",
       " [0. 2. 0. 0.]\n",
       " [0. 0. 0. 0.]\n",
       " [0. 0. 0. 2.]]"
      ]
     },
     "execution_count": 27,
     "metadata": {},
     "output_type": "execute_result"
    }
   ],
   "source": [
    "J2.transform(ekets)"
   ]
  },
  {
   "cell_type": "code",
   "execution_count": 28,
   "metadata": {},
   "outputs": [],
   "source": [
    "J = jspin(2)"
   ]
  },
  {
   "cell_type": "code",
   "execution_count": 29,
   "metadata": {},
   "outputs": [],
   "source": [
    "Jx = J[0]\n",
    "Jy = J[1]\n",
    "Jz = J[2]"
   ]
  },
  {
   "cell_type": "code",
   "execution_count": 30,
   "metadata": {},
   "outputs": [],
   "source": [
    "A = 0.01"
   ]
  },
  {
   "cell_type": "code",
   "execution_count": 31,
   "metadata": {},
   "outputs": [],
   "source": [
    "H = delE*Jz + A*Jx"
   ]
  },
  {
   "cell_type": "code",
   "execution_count": 32,
   "metadata": {},
   "outputs": [
    {
     "data": {
      "text/latex": [
       "Quantum object: dims = [[4], [4]], shape = (4, 4), type = oper, isherm = True\\begin{equation*}\\left(\\begin{array}{*{11}c}1.0 & 0.007 & 0.0 & 0.0\\\\0.007 & 0.0 & 0.007 & 0.0\\\\0.0 & 0.007 & -1.0 & 0.0\\\\0.0 & 0.0 & 0.0 & 0.0\\\\\\end{array}\\right)\\end{equation*}"
      ],
      "text/plain": [
       "Quantum object: dims = [[4], [4]], shape = (4, 4), type = oper, isherm = True\n",
       "Qobj data =\n",
       "[[ 1.          0.00707107  0.          0.        ]\n",
       " [ 0.00707107  0.          0.00707107  0.        ]\n",
       " [ 0.          0.00707107 -1.          0.        ]\n",
       " [ 0.          0.          0.          0.        ]]"
      ]
     },
     "execution_count": 32,
     "metadata": {},
     "output_type": "execute_result"
    }
   ],
   "source": [
    "H"
   ]
  },
  {
   "cell_type": "code",
   "execution_count": 33,
   "metadata": {},
   "outputs": [],
   "source": [
    "J2 = Jx**2 + Jy**2 + Jz**2"
   ]
  },
  {
   "cell_type": "code",
   "execution_count": 34,
   "metadata": {},
   "outputs": [
    {
     "data": {
      "text/latex": [
       "Quantum object: dims = [[4], [4]], shape = (4, 4), type = oper, isherm = True\\begin{equation*}\\left(\\begin{array}{*{11}c}2.0 & 0.0 & 0.0 & 0.0\\\\0.0 & 2.0 & 0.0 & 0.0\\\\0.0 & 0.0 & 2.0 & 0.0\\\\0.0 & 0.0 & 0.0 & 0.0\\\\\\end{array}\\right)\\end{equation*}"
      ],
      "text/plain": [
       "Quantum object: dims = [[4], [4]], shape = (4, 4), type = oper, isherm = True\n",
       "Qobj data =\n",
       "[[2. 0. 0. 0.]\n",
       " [0. 2. 0. 0.]\n",
       " [0. 0. 2. 0.]\n",
       " [0. 0. 0. 0.]]"
      ]
     },
     "execution_count": 34,
     "metadata": {},
     "output_type": "execute_result"
    }
   ],
   "source": [
    "J2"
   ]
  },
  {
   "cell_type": "code",
   "execution_count": null,
   "metadata": {},
   "outputs": [],
   "source": []
  },
  {
   "cell_type": "code",
   "execution_count": null,
   "metadata": {},
   "outputs": [],
   "source": []
  },
  {
   "cell_type": "markdown",
   "metadata": {},
   "source": [
    "[Wolfram alpha eigenvalues](https://www.wolframalpha.com/input/?i=%7B%7B1%2Ca%2C0%7D%2C%7Ba%2C0%2Ca%7D%2C%7B0%2Ca%2C-1%7D%7D+eigenvalues)"
   ]
  },
  {
   "cell_type": "code",
   "execution_count": null,
   "metadata": {},
   "outputs": [],
   "source": []
  },
  {
   "cell_type": "code",
   "execution_count": null,
   "metadata": {},
   "outputs": [],
   "source": []
  },
  {
   "cell_type": "code",
   "execution_count": 35,
   "metadata": {},
   "outputs": [],
   "source": [
    "def j_states_list(num_tss):\n",
    "    i=0\n",
    "    \n",
    "    jm_list = []\n",
    "    j_index = {}\n",
    "\n",
    "    js = j_vals(num_tss)[::-1]\n",
    "    \n",
    "    for j in js:\n",
    "        j_index[j] = []\n",
    "        ms = m_vals(j)[::-1]\n",
    "        for m in ms:\n",
    "            j_index[j].append(i)\n",
    "            jm_list.append((j,m))\n",
    "            i+=1\n",
    "    return j_index, jm_list"
   ]
  },
  {
   "cell_type": "code",
   "execution_count": null,
   "metadata": {},
   "outputs": [],
   "source": []
  },
  {
   "cell_type": "code",
   "execution_count": null,
   "metadata": {},
   "outputs": [],
   "source": []
  },
  {
   "cell_type": "code",
   "execution_count": 168,
   "metadata": {},
   "outputs": [],
   "source": [
    "def make_braket_labels(jm_list):\n",
    "    bra_labels = [\"$\\langle$\"+str(Fraction(j))+\", \"+str(Fraction(m))+\" |\" for (j,m) in jm_list]\n",
    "    ket_labels = [\"| \"+str(Fraction(j))+\", \"+str(Fraction(m))+\"$\\\\rangle$\" for (j,m) in jm_list]\n",
    "    return bra_labels, ket_labels"
   ]
  },
  {
   "cell_type": "code",
   "execution_count": null,
   "metadata": {},
   "outputs": [],
   "source": []
  },
  {
   "cell_type": "code",
   "execution_count": null,
   "metadata": {},
   "outputs": [],
   "source": []
  },
  {
   "cell_type": "code",
   "execution_count": null,
   "metadata": {},
   "outputs": [],
   "source": []
  },
  {
   "cell_type": "code",
   "execution_count": 178,
   "metadata": {},
   "outputs": [],
   "source": [
    "def make_operators(num_tss, j):\n",
    "    \n",
    "    j_index, jm_list = j_states_list(num_tss)\n",
    "    \n",
    "    try:\n",
    "        j_index[j]\n",
    "    except:\n",
    "        raise Exception(f\"j needs to be one of {j_vals(num_tss)}\")\n",
    "    \n",
    "    Js = jspin(num_tss)\n",
    "    Jx = Js[0]\n",
    "    Jz = Js[2]\n",
    "    \n",
    "\n",
    "    \n",
    "    num_ms = len(m_vals(j))\n",
    "    Jz = Jz.extract_states(j_index[j])\n",
    "    Jx = Jx.extract_states(j_index[j])\n",
    "    jm_list = [jm_list[i] for i in j_index[j]]\n",
    "    \n",
    "    \n",
    "    \n",
    "    return Jz, Jx, jm_list"
   ]
  },
  {
   "cell_type": "code",
   "execution_count": 179,
   "metadata": {},
   "outputs": [],
   "source": [
    "Jz, Jx, jm_list = make_operators(6, 3)"
   ]
  },
  {
   "cell_type": "code",
   "execution_count": 263,
   "metadata": {},
   "outputs": [],
   "source": [
    "df = make_df_for_energy_scan(\"$\\Delta E$/A\", -4,4, 100, Jz.shape[0])"
   ]
  },
  {
   "cell_type": "code",
   "execution_count": 264,
   "metadata": {},
   "outputs": [],
   "source": [
    "A=0.1\n",
    "for i, row in df.iterrows():\n",
    "    H =  row[ \"$\\Delta E$/A\"]*A*Jz +  A*Jx\n",
    "    evals, ekets = H.eigenstates()\n",
    "    df.iloc[i,1:] = evals"
   ]
  },
  {
   "cell_type": "code",
   "execution_count": 265,
   "metadata": {},
   "outputs": [
    {
     "data": {
      "image/png": "[encoded data removed]",
      "text/plain": [
       "<Figure size 720x576 with 1 Axes>"
      ]
     },
     "metadata": {
      "needs_background": "light"
     },
     "output_type": "display_data"
    }
   ],
   "source": [
    "df.plot(x=\"$\\Delta E$/A\",figsize=(10,8),legend=True, \n",
    "        title=\"$H=\\Delta E \\ J_z + A \\ J_x$    (N=6, J=3, A=0.1) \");\n",
    "plt.ylabel(\"Energy\");"
   ]
  },
  {
   "cell_type": "code",
   "execution_count": 169,
   "metadata": {},
   "outputs": [],
   "source": [
    "bra_labels, ket_labels = make_braket_labels(jm_list)"
   ]
  },
  {
   "cell_type": "code",
   "execution_count": null,
   "metadata": {},
   "outputs": [],
   "source": [
    "# Function created in 01 tutorial to make plotting of states calculated from `sesolve` easier\n",
    "def states_to_df(states,times):\n",
    "    psi_plus = np.zeros(len(times),dtype=\"complex128\")  # To store the amplitude of the |+> state\n",
    "    psi_minus = np.zeros(len(times),dtype=\"complex128\") # To store the amplitude of the |-> state\n",
    "\n",
    "    for i, state in enumerate(states):\n",
    "        psi_plus[i] = state[0][0][0]\n",
    "        psi_minus[i] = state[1][0][0]\n",
    "\n",
    "    return pd.DataFrame(data={\"+\":psi_plus, \"-\":psi_minus}, index=times)"
   ]
  },
  {
   "cell_type": "code",
   "execution_count": 307,
   "metadata": {},
   "outputs": [],
   "source": [
    "delta = 0.001\n",
    "A = 0.1\n",
    "\n",
    "H0 = A*Jx\n",
    "\n",
    "evals, estates = H0.eigenstates()\n",
    "\n",
    "H1 =  delta*Jz\n",
    "\n",
    "H = [H0,[H1,'cos(w*t)']]\n",
    "\n",
    "times = np.linspace(0.0, 10000.0, 1000) \n",
    "\n",
    "# psi0=basis(7,0)\n",
    "psi0 = estates[6]\n",
    "\n",
    "result = sesolve(H, psi0, times, args={'w':A})\n",
    "\n",
    "# result = sesolve(H0, basis(7,0), times)\n",
    "\n"
   ]
  },
  {
   "cell_type": "code",
   "execution_count": 308,
   "metadata": {},
   "outputs": [],
   "source": [
    "num_states = result.states[0].shape[0]\n",
    "psi = np.zeros([num_states,times.size], dtype=\"complex128\")\n",
    "P = np.zeros([num_states,times.size], dtype=\"complex128\")\n",
    "\n",
    "for i, state in enumerate(result.states):\n",
    "    transformed_state = state.transform(estates)\n",
    "    psi[:,i] = np.transpose(transformed_state)\n",
    "    P[:,i] = np.abs(psi[:,i]*np.conj(psi[:,i]))"
   ]
  },
  {
   "cell_type": "code",
   "execution_count": 316,
   "metadata": {},
   "outputs": [
    {
     "data": {
      "image/png": "[encoded data removed]",
      "text/plain": [
       "<Figure size 720x576 with 1 Axes>"
      ]
     },
     "metadata": {
      "needs_background": "light"
     },
     "output_type": "display_data"
    }
   ],
   "source": [
    "plt.figure(figsize=(10,8))\n",
    "for i in range(0,P.shape[0]):\n",
    "    plt.plot(times, P[i,:], label=f\"E_level_{i}\")\n",
    "plt.ylabel(\"Probability\")\n",
    "plt.xlabel(\"Time\")\n",
    "plt.legend(loc=\"right\")\n",
    "plt.title(\"$H =A \\ J_x + \\delta \\ J_z \\  \\cos (\\omega t)$     (N=6, J=3, A=0.1, $\\omega = 0.1$, $\\delta=0.001$)\")\n",
    "plt.show();"
   ]
  },
  {
   "cell_type": "code",
   "execution_count": 266,
   "metadata": {},
   "outputs": [],
   "source": [
    "H0 = A*Jx"
   ]
  },
  {
   "cell_type": "code",
   "execution_count": 267,
   "metadata": {},
   "outputs": [],
   "source": [
    "evals, estates = H0.eigenstates()"
   ]
  },
  {
   "cell_type": "code",
   "execution_count": 269,
   "metadata": {},
   "outputs": [
    {
     "data": {
      "text/plain": [
       "array([-3.00000000e-01, -2.00000000e-01, -1.00000000e-01,  2.22044605e-16,\n",
       "        1.00000000e-01,  2.00000000e-01,  3.00000000e-01])"
      ]
     },
     "execution_count": 269,
     "metadata": {},
     "output_type": "execute_result"
    }
   ],
   "source": [
    "evals"
   ]
  },
  {
   "cell_type": "code",
   "execution_count": 268,
   "metadata": {},
   "outputs": [
    {
     "data": {
      "text/plain": [
       "array([Quantum object: dims = [[7], [1]], shape = (7, 1), type = ket\n",
       "Qobj data =\n",
       "[[ 0.125     ]\n",
       " [-0.30618622]\n",
       " [ 0.48412292]\n",
       " [-0.55901699]\n",
       " [ 0.48412292]\n",
       " [-0.30618622]\n",
       " [ 0.125     ]],\n",
       "       Quantum object: dims = [[7], [1]], shape = (7, 1), type = ket\n",
       "Qobj data =\n",
       "[[-0.30618622]\n",
       " [ 0.5       ]\n",
       " [-0.39528471]\n",
       " [ 0.        ]\n",
       " [ 0.39528471]\n",
       " [-0.5       ]\n",
       " [ 0.30618622]],\n",
       "       Quantum object: dims = [[7], [1]], shape = (7, 1), type = ket\n",
       "Qobj data =\n",
       "[[ 0.48412292]\n",
       " [-0.39528471]\n",
       " [-0.125     ]\n",
       " [ 0.4330127 ]\n",
       " [-0.125     ]\n",
       " [-0.39528471]\n",
       " [ 0.48412292]],\n",
       "       Quantum object: dims = [[7], [1]], shape = (7, 1), type = ket\n",
       "Qobj data =\n",
       "[[-0.55901699]\n",
       " [ 0.        ]\n",
       " [ 0.4330127 ]\n",
       " [ 0.        ]\n",
       " [-0.4330127 ]\n",
       " [ 0.        ]\n",
       " [ 0.55901699]],\n",
       "       Quantum object: dims = [[7], [1]], shape = (7, 1), type = ket\n",
       "Qobj data =\n",
       "[[ 0.48412292]\n",
       " [ 0.39528471]\n",
       " [-0.125     ]\n",
       " [-0.4330127 ]\n",
       " [-0.125     ]\n",
       " [ 0.39528471]\n",
       " [ 0.48412292]],\n",
       "       Quantum object: dims = [[7], [1]], shape = (7, 1), type = ket\n",
       "Qobj data =\n",
       "[[-0.30618622]\n",
       " [-0.5       ]\n",
       " [-0.39528471]\n",
       " [ 0.        ]\n",
       " [ 0.39528471]\n",
       " [ 0.5       ]\n",
       " [ 0.30618622]],\n",
       "       Quantum object: dims = [[7], [1]], shape = (7, 1), type = ket\n",
       "Qobj data =\n",
       "[[0.125     ]\n",
       " [0.30618622]\n",
       " [0.48412292]\n",
       " [0.55901699]\n",
       " [0.48412292]\n",
       " [0.30618622]\n",
       " [0.125     ]]], dtype=object)"
      ]
     },
     "execution_count": 268,
     "metadata": {},
     "output_type": "execute_result"
    }
   ],
   "source": [
    "estates"
   ]
  },
  {
   "cell_type": "code",
   "execution_count": 278,
   "metadata": {},
   "outputs": [
    {
     "data": {
      "text/plain": [
       "(<Figure size 576x432 with 1 Axes>,\n",
       " <matplotlib.axes._subplots.AxesSubplot at 0x1826110f98>)"
      ]
     },
     "execution_count": 278,
     "metadata": {},
     "output_type": "execute_result"
    },
    {
     "data": {
      "image/png": "[encoded data removed]",
      "text/plain": [
       "<Figure size 576x432 with 1 Axes>"
      ]
     },
     "metadata": {
      "needs_background": "light"
     },
     "output_type": "display_data"
    }
   ],
   "source": [
    "plot_fock_distribution(estates[2])"
   ]
  },
  {
   "cell_type": "code",
   "execution_count": 271,
   "metadata": {},
   "outputs": [
    {
     "data": {
      "text/latex": [
       "Quantum object: dims = [[7], [1]], shape = (7, 1), type = ket\\begin{equation*}\\left(\\begin{array}{*{11}c}0.125\\\\0.306\\\\0.484\\\\0.559\\\\0.484\\\\0.306\\\\0.125\\\\\\end{array}\\right)\\end{equation*}"
      ],
      "text/plain": [
       "Quantum object: dims = [[7], [1]], shape = (7, 1), type = ket\n",
       "Qobj data =\n",
       "[[0.125     ]\n",
       " [0.30618622]\n",
       " [0.48412292]\n",
       " [0.55901699]\n",
       " [0.48412292]\n",
       " [0.30618622]\n",
       " [0.125     ]]"
      ]
     },
     "execution_count": 271,
     "metadata": {},
     "output_type": "execute_result"
    }
   ],
   "source": []
  },
  {
   "cell_type": "code",
   "execution_count": 273,
   "metadata": {},
   "outputs": [
    {
     "data": {
      "text/plain": [
       "[(3.0, 3.0),\n",
       " (3.0, 2.0),\n",
       " (3.0, 1.0),\n",
       " (3.0, 0.0),\n",
       " (3.0, -1.0),\n",
       " (3.0, -2.0),\n",
       " (3.0, -3.0)]"
      ]
     },
     "execution_count": 273,
     "metadata": {},
     "output_type": "execute_result"
    }
   ],
   "source": [
    "jm_list"
   ]
  },
  {
   "cell_type": "code",
   "execution_count": null,
   "metadata": {},
   "outputs": [],
   "source": []
  }
 ],
 "metadata": {
  "jupytext": {
   "formats": "ipynb,src//md"
  },
  "kernelspec": {
   "display_name": "Python 3",
   "language": "python",
   "name": "python3"
  },
  "language_info": {
   "codemirror_mode": {
    "name": "ipython",
    "version": 3
   },
   "file_extension": ".py",
   "mimetype": "text/x-python",
   "name": "python",
   "nbconvert_exporter": "python",
   "pygments_lexer": "ipython3",
   "version": "3.7.1"
  }
 },
 "nbformat": 4,
 "nbformat_minor": 4
}
