{
 "cells": [
  {
   "cell_type": "markdown",
   "metadata": {},
   "source": [
    "<a href=\"https://colab.research.google.com/github/project-ida/two-state-quantum-systems/blob/master/03-a-two-state-system-in-a-quantised-field.ipynb\" target=\"_parent\"><img src=\"https://colab.research.google.com/assets/colab-badge.svg\" alt=\"Open In Colab\"/></a> &nbsp;&nbsp;&nbsp;&nbsp;&nbsp;&nbsp;&nbsp;&nbsp;&nbsp;&nbsp; <a href=\"https://nbviewer.jupyter.org/github/project-ida/two-state-quantum-systems/blob/master/03-a-two-state-system-in-a-quantised-field.ipynb\" target=\"_parent\"><img src=\"https://nbviewer.jupyter.org/static/img/nav_logo.svg\" alt=\"Open In nbviewer\" width=\"100\"/></a>"
   ]
  },
  {
   "cell_type": "markdown",
   "metadata": {},
   "source": [
    "# 3 - A two state system in a quantised field"
   ]
  },
  {
   "cell_type": "code",
   "execution_count": 44,
   "metadata": {},
   "outputs": [],
   "source": [
    "# Libraries\n",
    "%matplotlib inline\n",
    "import matplotlib.pyplot as plt\n",
    "import numpy as np\n",
    "import pandas as pd\n",
    "from qutip import *\n",
    "import warnings\n",
    "warnings.filterwarnings('ignore')"
   ]
  },
  {
   "cell_type": "markdown",
   "metadata": {},
   "source": [
    "## 3.1 - Recap"
   ]
  },
  {
   "cell_type": "code",
   "execution_count": 45,
   "metadata": {},
   "outputs": [],
   "source": [
    "plus = basis(2, 0)\n",
    "minus = basis(2, 1)"
   ]
  },
  {
   "cell_type": "markdown",
   "metadata": {},
   "source": [
    "## 3.2 - What is a quantum field?"
   ]
  },
  {
   "cell_type": "code",
   "execution_count": 46,
   "metadata": {},
   "outputs": [
    {
     "data": {
      "text/latex": [
       "Quantum object: dims = [[5], [1]], shape = (5, 1), type = ket\\begin{equation*}\\left(\\begin{array}{*{11}c}0.0\\\\0.0\\\\1.0\\\\0.0\\\\0.0\\\\\\end{array}\\right)\\end{equation*}"
      ],
      "text/plain": [
       "Quantum object: dims = [[5], [1]], shape = (5, 1), type = ket\n",
       "Qobj data =\n",
       "[[0.]\n",
       " [0.]\n",
       " [1.]\n",
       " [0.]\n",
       " [0.]]"
      ]
     },
     "execution_count": 46,
     "metadata": {},
     "output_type": "execute_result"
    }
   ],
   "source": [
    "two = basis(5, 2)\n",
    "two"
   ]
  },
  {
   "cell_type": "code",
   "execution_count": 47,
   "metadata": {},
   "outputs": [],
   "source": [
    "a = destroy(5)      # We choose 5 so that we can operate on states with up to a maximum of n=4 bosons\n",
    "a_dag = create(5)   # we could also use a.dag()"
   ]
  },
  {
   "cell_type": "code",
   "execution_count": 48,
   "metadata": {},
   "outputs": [
    {
     "data": {
      "text/latex": [
       "Quantum object: dims = [[5], [1]], shape = (5, 1), type = ket\\begin{equation*}\\left(\\begin{array}{*{11}c}0.0\\\\0.0\\\\0.0\\\\1.0\\\\0.0\\\\\\end{array}\\right)\\end{equation*}"
      ],
      "text/plain": [
       "Quantum object: dims = [[5], [1]], shape = (5, 1), type = ket\n",
       "Qobj data =\n",
       "[[0.]\n",
       " [0.]\n",
       " [0.]\n",
       " [1.]\n",
       " [0.]]"
      ]
     },
     "execution_count": 48,
     "metadata": {},
     "output_type": "execute_result"
    }
   ],
   "source": [
    "(a_dag*two).unit()"
   ]
  },
  {
   "cell_type": "code",
   "execution_count": 49,
   "metadata": {},
   "outputs": [
    {
     "data": {
      "text/latex": [
       "Quantum object: dims = [[5], [1]], shape = (5, 1), type = ket\\begin{equation*}\\left(\\begin{array}{*{11}c}0.0\\\\1.0\\\\0.0\\\\0.0\\\\0.0\\\\\\end{array}\\right)\\end{equation*}"
      ],
      "text/plain": [
       "Quantum object: dims = [[5], [1]], shape = (5, 1), type = ket\n",
       "Qobj data =\n",
       "[[0.]\n",
       " [1.]\n",
       " [0.]\n",
       " [0.]\n",
       " [0.]]"
      ]
     },
     "execution_count": 49,
     "metadata": {},
     "output_type": "execute_result"
    }
   ],
   "source": [
    "(a*two).unit()"
   ]
  },
  {
   "cell_type": "markdown",
   "metadata": {},
   "source": [
    "## 3.3 - The Hamiltonian for a quantum field"
   ]
  },
  {
   "cell_type": "markdown",
   "metadata": {},
   "source": [
    "We have seen that to describe a quantum field we need to construct a Hamiltonian of the form:\n",
    "\n",
    "$$\n",
    "H = \\underset{k}{\\sum} \\hbar\\omega_k\\left(a_k^{\\dagger}a_k +\\frac{1}{2}\\right)\n",
    "$$\n",
    "\n",
    "where the sum is over all the possible modes of the field and $a_k^{\\dagger}$ and $a_k$ operators create and destroy bosons in the k'th mode.\n",
    "\n",
    "Let's continue to consider\n",
    "- only a single mode\n",
    "- maximum of 4 bosons in that mode\n",
    "\n",
    "For simplicity we'll set the energy of the mode $\\omega$ = 1 (recall $\\hbar=1$ in QuTiP)"
   ]
  },
  {
   "cell_type": "code",
   "execution_count": 50,
   "metadata": {},
   "outputs": [],
   "source": [
    "omega = 1\n",
    "max_bosons = 4\n",
    "\n",
    "a = destroy(max_bosons+1)\n",
    "\n",
    "H = omega*(a.dag()*a+0.5)"
   ]
  },
  {
   "cell_type": "markdown",
   "metadata": {},
   "source": [
    "Let's have a look at H"
   ]
  },
  {
   "cell_type": "code",
   "execution_count": 51,
   "metadata": {},
   "outputs": [
    {
     "data": {
      "text/latex": [
       "Quantum object: dims = [[5], [5]], shape = (5, 5), type = oper, isherm = True\\begin{equation*}\\left(\\begin{array}{*{11}c}0.500 & 0.0 & 0.0 & 0.0 & 0.0\\\\0.0 & 1.500 & 0.0 & 0.0 & 0.0\\\\0.0 & 0.0 & 2.500 & 0.0 & 0.0\\\\0.0 & 0.0 & 0.0 & 3.500 & 0.0\\\\0.0 & 0.0 & 0.0 & 0.0 & 4.500\\\\\\end{array}\\right)\\end{equation*}"
      ],
      "text/plain": [
       "Quantum object: dims = [[5], [5]], shape = (5, 5), type = oper, isherm = True\n",
       "Qobj data =\n",
       "[[0.5 0.  0.  0.  0. ]\n",
       " [0.  1.5 0.  0.  0. ]\n",
       " [0.  0.  2.5 0.  0. ]\n",
       " [0.  0.  0.  3.5 0. ]\n",
       " [0.  0.  0.  0.  4.5]]"
      ]
     },
     "execution_count": 51,
     "metadata": {},
     "output_type": "execute_result"
    }
   ],
   "source": [
    "H"
   ]
  },
  {
   "cell_type": "markdown",
   "metadata": {},
   "source": [
    "Because the Hamiltonian is diagonal there is no coupling between the different number states. Without doing any further calculation we can therefore say that if we start out with e.g. 3 bosons in our mode then we'll continue to have 3 bosons indefinitely. This is the same type of behaviour that we saw in the isolated two state system ([tutorial 01](https://github.com/project-ida/two-state-quantum-systems/blob/master/01-an-isolated-two-state-system.ipynb) section 1.1). - Not very exciting!\n",
    "\n",
    "We do however expect that bosons will get created and destroyed as a result of interaction with another system, e.g. when an electron makes a transition between different energy levels. Let's see how we can model that - this will end up giving us the spontaneous emission physics that we so far been lacking."
   ]
  },
  {
   "cell_type": "markdown",
   "metadata": {},
   "source": [
    "## 3.4 - Coupling to a quantum field"
   ]
  },
  {
   "cell_type": "markdown",
   "metadata": {},
   "source": [
    "## 3.5 - Describing coupled systems in QuTiP\n",
    "\n",
    "Right now, we represent the two state system by something like\n",
    "\n",
    "$$\n",
    "|+> = \\begin{bmatrix}\n",
    " 1   \\\\\n",
    " 0   \\\\\n",
    " \\end{bmatrix}\n",
    "$$\n",
    "\n",
    "and the field is represented by something like\n",
    "\n",
    "$$\n",
    "|2> = \\begin{bmatrix}\n",
    " 0   \\\\\n",
    " 0   \\\\\n",
    " 1   \\\\\n",
    " 0   \\\\\n",
    " \\end{bmatrix}\n",
    "$$\n",
    "\n",
    "These states clearly have different dimensions and so too do the operators in H above - we cannot simply multiply together them as our Hamiltonian would suggest. We need a new basis that is somehow a combination of the existing ones.\n",
    "\n"
   ]
  },
  {
   "cell_type": "markdown",
   "metadata": {},
   "source": [
    "One way to build a new basis is to enumerate the many different configurations for the combined system, e.g.\n",
    "- 2 bosons for the field and + for the two-state system, i.e. |2, ->\n",
    "- 0 bosons for the field and - for the two-state system, i.e |0, +>\n",
    "- etc.\n",
    "\n",
    "There are `(max_bosons+1) x 2` different states and we can write the probability for the system to be in those states as entries in a vector like below.\n",
    "\n",
    "$$ |n,\\pm>  = \n",
    "\\begin{bmatrix}\n",
    " 0,+    \\\\\n",
    " 0,-   \\\\\n",
    " 1,+    \\\\\n",
    " 1,-   \\\\\n",
    " 2,+    \\\\\n",
    " 2,-   \\\\\n",
    " 3,+    \\\\\n",
    " 3,-   \\\\\n",
    " 4,+    \\\\\n",
    " 4,-   \\\\\n",
    "  \\vdots \n",
    "\\end{bmatrix} \\ , \\ \\ \\ \\  \\ \\ \\  \\ \\ \n",
    "|2, ->  = \n",
    "\\begin{bmatrix}\n",
    " 0    \\\\\n",
    " 0   \\\\\n",
    " 0    \\\\\n",
    " 0   \\\\\n",
    " 0    \\\\\n",
    " 1   \\\\\n",
    " 0    \\\\\n",
    " 0   \\\\\n",
    " 0    \\\\\n",
    " 0   \\\\\n",
    "  \\vdots \n",
    "\\end{bmatrix}\n",
    "$$\n",
    "\n",
    "\n",
    "QuTiP automates the process of creating these states using [tensor products](http://qutip.org/docs/latest/guide/guide-tensor.html#using-tensor-products-and-partial-traces), which calculates, e.g.\n",
    "\n",
    "$$\n",
    "|2,-> = |2> \\otimes |->\n",
    "$$"
   ]
  },
  {
   "cell_type": "code",
   "execution_count": 52,
   "metadata": {},
   "outputs": [
    {
     "data": {
      "text/latex": [
       "Quantum object: dims = [[5, 2], [1, 1]], shape = (10, 1), type = ket\\begin{equation*}\\left(\\begin{array}{*{11}c}0.0\\\\0.0\\\\0.0\\\\0.0\\\\0.0\\\\1.0\\\\0.0\\\\0.0\\\\0.0\\\\0.0\\\\\\end{array}\\right)\\end{equation*}"
      ],
      "text/plain": [
       "Quantum object: dims = [[5, 2], [1, 1]], shape = (10, 1), type = ket\n",
       "Qobj data =\n",
       "[[0.]\n",
       " [0.]\n",
       " [0.]\n",
       " [0.]\n",
       " [0.]\n",
       " [1.]\n",
       " [0.]\n",
       " [0.]\n",
       " [0.]\n",
       " [0.]]"
      ]
     },
     "execution_count": 52,
     "metadata": {},
     "output_type": "execute_result"
    }
   ],
   "source": [
    "two_minus = tensor(two, minus) # The order here doesn't matter, but you need to be consistent throughout\n",
    "two_minus"
   ]
  },
  {
   "cell_type": "markdown",
   "metadata": {},
   "source": [
    "> As an aside (feel free to skip this paragraph), for those who are know a bit more about the formal mathematics of the [tensor product](https://en.wikipedia.org/wiki/Tensor_product) (see also [outer product](https://en.wikipedia.org/wiki/Outer_product) ), you might be surprised that the result of `tensor(two, plus)` is a vector and not a matrix. Technically what is being done here is the [Kronecker product](https://en.wikipedia.org/wiki/Kronecker_product) and to see the explicit connection between the matrix an vector form  see [here](https://en.wikipedia.org/wiki/Outer_product#Connection_with_the_Kronecker_product)."
   ]
  },
  {
   "cell_type": "markdown",
   "metadata": {},
   "source": [
    "The same tensor products can be done for [operators, creating block matrices](https://en.wikipedia.org/wiki/Tensor_product#Tensor_product_of_linear_maps) e.g.\n",
    "\n",
    "$$\n",
    "I(5) \\otimes \\sigma_z =\n",
    "\\begin{bmatrix}\n",
    " 1 & 0 & 0 & 0 & 0   \\\\\n",
    " 0 & 1 & 0 & 0 & 0   \\\\\n",
    " 0 & 0 & 1 & 0 & 0   \\\\\n",
    " 0 & 0 & 0 & 1 & 0   \\\\\n",
    " 0 & 0 & 0 & 0 & 1   \\\\\n",
    " \\end{bmatrix} \\otimes\n",
    " \\begin{bmatrix}\n",
    " 1 & 0   \\\\\n",
    " 0 & -1  \\\\\n",
    "\\end{bmatrix} = \n",
    " \\begin{bmatrix}\n",
    " 1\\times\\sigma_z & 0\\times\\sigma_z & 0\\times\\sigma_z & 0\\times\\sigma_z & 0\\times\\sigma_z   \\\\\n",
    " 0\\times\\sigma_z & 1\\times\\sigma_z & 0\\times\\sigma_z & 0\\times\\sigma_z & 0\\times\\sigma_z   \\\\\n",
    " 0\\times\\sigma_z & 0\\times\\sigma_z & 1\\times\\sigma_z & 0\\times\\sigma_z & 0\\times\\sigma_z   \\\\\n",
    " 0\\times\\sigma_z & 0\\times\\sigma_z & 0\\times\\sigma_z & 1\\times\\sigma_z & 0\\times\\sigma_z   \\\\\n",
    " 0\\times\\sigma_z & 0\\times\\sigma_z & 0\\times\\sigma_z & 0\\times\\sigma_z & 1\\times\\sigma_z   \\\\\n",
    "\\end{bmatrix}\n",
    "$$ "
   ]
  },
  {
   "cell_type": "code",
   "execution_count": 53,
   "metadata": {},
   "outputs": [
    {
     "data": {
      "text/latex": [
       "Quantum object: dims = [[5, 2], [5, 2]], shape = (10, 10), type = oper, isherm = True\\begin{equation*}\\left(\\begin{array}{*{11}c}1.0 & 0.0 & 0.0 & 0.0 & 0.0 & 0.0 & 0.0 & 0.0 & 0.0 & 0.0\\\\0.0 & -1.0 & 0.0 & 0.0 & 0.0 & 0.0 & 0.0 & 0.0 & 0.0 & 0.0\\\\0.0 & 0.0 & 1.0 & 0.0 & 0.0 & 0.0 & 0.0 & 0.0 & 0.0 & 0.0\\\\0.0 & 0.0 & 0.0 & -1.0 & 0.0 & 0.0 & 0.0 & 0.0 & 0.0 & 0.0\\\\0.0 & 0.0 & 0.0 & 0.0 & 1.0 & 0.0 & 0.0 & 0.0 & 0.0 & 0.0\\\\0.0 & 0.0 & 0.0 & 0.0 & 0.0 & -1.0 & 0.0 & 0.0 & 0.0 & 0.0\\\\0.0 & 0.0 & 0.0 & 0.0 & 0.0 & 0.0 & 1.0 & 0.0 & 0.0 & 0.0\\\\0.0 & 0.0 & 0.0 & 0.0 & 0.0 & 0.0 & 0.0 & -1.0 & 0.0 & 0.0\\\\0.0 & 0.0 & 0.0 & 0.0 & 0.0 & 0.0 & 0.0 & 0.0 & 1.0 & 0.0\\\\0.0 & 0.0 & 0.0 & 0.0 & 0.0 & 0.0 & 0.0 & 0.0 & 0.0 & -1.0\\\\\\end{array}\\right)\\end{equation*}"
      ],
      "text/plain": [
       "Quantum object: dims = [[5, 2], [5, 2]], shape = (10, 10), type = oper, isherm = True\n",
       "Qobj data =\n",
       "[[ 1.  0.  0.  0.  0.  0.  0.  0.  0.  0.]\n",
       " [ 0. -1.  0.  0.  0.  0.  0.  0.  0.  0.]\n",
       " [ 0.  0.  1.  0.  0.  0.  0.  0.  0.  0.]\n",
       " [ 0.  0.  0. -1.  0.  0.  0.  0.  0.  0.]\n",
       " [ 0.  0.  0.  0.  1.  0.  0.  0.  0.  0.]\n",
       " [ 0.  0.  0.  0.  0. -1.  0.  0.  0.  0.]\n",
       " [ 0.  0.  0.  0.  0.  0.  1.  0.  0.  0.]\n",
       " [ 0.  0.  0.  0.  0.  0.  0. -1.  0.  0.]\n",
       " [ 0.  0.  0.  0.  0.  0.  0.  0.  1.  0.]\n",
       " [ 0.  0.  0.  0.  0.  0.  0.  0.  0. -1.]]"
      ]
     },
     "execution_count": 53,
     "metadata": {},
     "output_type": "execute_result"
    }
   ],
   "source": [
    "eye_sigmaz = tensor(qeye(5), sigmaz())\n",
    "eye_sigmaz"
   ]
  },
  {
   "cell_type": "markdown",
   "metadata": {},
   "source": [
    "What's useful about this unwieldy tensorised $\\sigma_z$ operator is that it only acts on the two-state part and leaves the field part unchanged - this is because we put the identity operator first."
   ]
  },
  {
   "cell_type": "code",
   "execution_count": 54,
   "metadata": {},
   "outputs": [
    {
     "data": {
      "text/latex": [
       "Quantum object: dims = [[5, 2], [1, 1]], shape = (10, 1), type = ket\\begin{equation*}\\left(\\begin{array}{*{11}c}0.0\\\\0.0\\\\0.0\\\\0.0\\\\0.0\\\\-1.0\\\\0.0\\\\0.0\\\\0.0\\\\0.0\\\\\\end{array}\\right)\\end{equation*}"
      ],
      "text/plain": [
       "Quantum object: dims = [[5, 2], [1, 1]], shape = (10, 1), type = ket\n",
       "Qobj data =\n",
       "[[ 0.]\n",
       " [ 0.]\n",
       " [ 0.]\n",
       " [ 0.]\n",
       " [ 0.]\n",
       " [-1.]\n",
       " [ 0.]\n",
       " [ 0.]\n",
       " [ 0.]\n",
       " [ 0.]]"
      ]
     },
     "execution_count": 54,
     "metadata": {},
     "output_type": "execute_result"
    }
   ],
   "source": [
    "eye_sigmaz * two_minus"
   ]
  },
  {
   "cell_type": "markdown",
   "metadata": {},
   "source": [
    "We see above that we still have the 2 bosons we started with.\n",
    "\n",
    "What will happen if we put the identity operator second and put the field operator $a$ first, i.e.\n",
    "\n",
    "$$a \\otimes I(2)$$\n",
    "\n",
    "and then apply it to the state |2,->?"
   ]
  },
  {
   "cell_type": "code",
   "execution_count": 55,
   "metadata": {},
   "outputs": [],
   "source": [
    "a_eye = tensor(a, qeye(2))"
   ]
  },
  {
   "cell_type": "code",
   "execution_count": 56,
   "metadata": {},
   "outputs": [
    {
     "data": {
      "text/latex": [
       "Quantum object: dims = [[5, 2], [1, 1]], shape = (10, 1), type = ket\\begin{equation*}\\left(\\begin{array}{*{11}c}0.0\\\\0.0\\\\0.0\\\\1.0\\\\0.0\\\\0.0\\\\0.0\\\\0.0\\\\0.0\\\\0.0\\\\\\end{array}\\right)\\end{equation*}"
      ],
      "text/plain": [
       "Quantum object: dims = [[5, 2], [1, 1]], shape = (10, 1), type = ket\n",
       "Qobj data =\n",
       "[[0.]\n",
       " [0.]\n",
       " [0.]\n",
       " [1.]\n",
       " [0.]\n",
       " [0.]\n",
       " [0.]\n",
       " [0.]\n",
       " [0.]\n",
       " [0.]]"
      ]
     },
     "execution_count": 56,
     "metadata": {},
     "output_type": "execute_result"
    }
   ],
   "source": [
    "(a_eye * two_minus).unit()"
   ]
  },
  {
   "cell_type": "markdown",
   "metadata": {},
   "source": [
    "The boson number has gone down by one, but the two state system is still in the lower \"-\" state.\n",
    "\n",
    "We've finally got everything we need to explore what the title of this tutorial promised, namely explore **\"A two state system in a quantised field\"**."
   ]
  },
  {
   "cell_type": "markdown",
   "metadata": {},
   "source": [
    "## 3.6 - Spontaneous emission"
   ]
  },
  {
   "cell_type": "markdown",
   "metadata": {},
   "source": [
    "Let's remind ourselves of the Hamiltonian that we're working with:\n",
    "\n",
    "$$H =  A \\sigma_z + \\hbar\\omega\\left(a^{\\dagger}a +\\frac{1}{2}\\right) + V\\left( a^{\\dagger} + a \\right)\\sigma_x$$\n",
    "\n",
    "Just like in our last couple of tutorials we'll use $A=0.1$. \n",
    "\n",
    "Let's also assume the field couples to the two state system effectively so that $V = A$.\n",
    "\n",
    "How does the resonance that we discovered last time i.e. when $\\omega = \\omega_0 \\equiv 2A$ change now that the field is quantised."
   ]
  },
  {
   "cell_type": "code",
   "execution_count": 139,
   "metadata": {},
   "outputs": [],
   "source": [
    "V = 0.1\n",
    "A = 0.1\n",
    "omega = 2*A   #Remember: this is because the DeltaA is 2 times A (delta energy of the atom)\n",
    "max_bosons = 4 # The bigger this number the more accuracte your simualations will be. I tried 20 and it was almost the same as 4"
   ]
  },
  {
   "cell_type": "code",
   "execution_count": 140,
   "metadata": {},
   "outputs": [
    {
     "data": {
      "text/latex": [
       "Quantum object: dims = [[5, 2], [5, 2]], shape = (10, 10), type = oper, isherm = True\\begin{equation*}\\left(\\begin{array}{*{11}c}0.200 & 0.0 & 0.0 & 0.100 & 0.0 & 0.0 & 0.0 & 0.0 & 0.0 & 0.0\\\\0.0 & 0.0 & 0.100 & 0.0 & 0.0 & 0.0 & 0.0 & 0.0 & 0.0 & 0.0\\\\0.0 & 0.100 & 0.400 & 0.0 & 0.0 & 0.141 & 0.0 & 0.0 & 0.0 & 0.0\\\\0.100 & 0.0 & 0.0 & 0.200 & 0.141 & 0.0 & 0.0 & 0.0 & 0.0 & 0.0\\\\0.0 & 0.0 & 0.0 & 0.141 & 0.600 & 0.0 & 0.0 & 0.173 & 0.0 & 0.0\\\\0.0 & 0.0 & 0.141 & 0.0 & 0.0 & 0.400 & 0.173 & 0.0 & 0.0 & 0.0\\\\0.0 & 0.0 & 0.0 & 0.0 & 0.0 & 0.173 & 0.800 & 0.0 & 0.0 & 0.200\\\\0.0 & 0.0 & 0.0 & 0.0 & 0.173 & 0.0 & 0.0 & 0.600 & 0.200 & 0.0\\\\0.0 & 0.0 & 0.0 & 0.0 & 0.0 & 0.0 & 0.0 & 0.200 & 1.0 & 0.0\\\\0.0 & 0.0 & 0.0 & 0.0 & 0.0 & 0.0 & 0.200 & 0.0 & 0.0 & 0.800\\\\\\end{array}\\right)\\end{equation*}"
      ],
      "text/plain": [
       "Quantum object: dims = [[5, 2], [5, 2]], shape = (10, 10), type = oper, isherm = True\n",
       "Qobj data =\n",
       "[[0.2        0.         0.         0.1        0.         0.\n",
       "  0.         0.         0.         0.        ]\n",
       " [0.         0.         0.1        0.         0.         0.\n",
       "  0.         0.         0.         0.        ]\n",
       " [0.         0.1        0.4        0.         0.         0.14142136\n",
       "  0.         0.         0.         0.        ]\n",
       " [0.1        0.         0.         0.2        0.14142136 0.\n",
       "  0.         0.         0.         0.        ]\n",
       " [0.         0.         0.         0.14142136 0.6        0.\n",
       "  0.         0.17320508 0.         0.        ]\n",
       " [0.         0.         0.14142136 0.         0.         0.4\n",
       "  0.17320508 0.         0.         0.        ]\n",
       " [0.         0.         0.         0.         0.         0.17320508\n",
       "  0.8        0.         0.         0.2       ]\n",
       " [0.         0.         0.         0.         0.17320508 0.\n",
       "  0.         0.6        0.2        0.        ]\n",
       " [0.         0.         0.         0.         0.         0.\n",
       "  0.         0.2        1.         0.        ]\n",
       " [0.         0.         0.         0.         0.         0.\n",
       "  0.2        0.         0.         0.8       ]]"
      ]
     },
     "execution_count": 140,
     "metadata": {},
     "output_type": "execute_result"
    }
   ],
   "source": [
    "a  = tensor(destroy(max_bosons+1), qeye(2))     # tensorised boson destruction operator\n",
    "sx = tensor(qeye(max_bosons+1), sigmax())       # tensorised sigma_x operator\n",
    "sz = tensor(qeye(max_bosons+1),sigmaz())        # tensorised sigma_z operator\n",
    "\n",
    "two_state     =  A*sz                      # two state system energy\n",
    "bosons       =  omega*(a.dag()*a+0.5)      # bosons field energy\n",
    "interaction   = V*(a.dag() + a) * sx       # interaction energy\n",
    "\n",
    "H = two_state + bosons + interaction\n",
    "H"
   ]
  },
  {
   "cell_type": "markdown",
   "metadata": {},
   "source": [
    "Because we've got 10 possible states, the probability plots that we normally create are going to get a bit crowded. To make plots easier to understand, we'll create a function to label the simulation data according to $\\pm$ notation that we've been using up to this point to describe the two state system."
   ]
  },
  {
   "cell_type": "code",
   "execution_count": 141,
   "metadata": {},
   "outputs": [],
   "source": [
    "def states_to_df(states,times):\n",
    "    data = {}\n",
    "    for i in range(0,states[0].shape[0]):\n",
    "        which_mode = divmod(i,2)\n",
    "        if which_mode[1] == 0:\n",
    "            two_state = \"+\"\n",
    "        elif which_mode[1] == 1:\n",
    "            two_state = \"-\"\n",
    "        data[str(which_mode[0])+\" , \"+two_state] = np.zeros(len(times),dtype=\"complex128\")\n",
    "    \n",
    "    for i, state in enumerate(states):\n",
    "        for j, psi in enumerate(state):\n",
    "            which_mode = divmod(j,2)\n",
    "            if which_mode[1] == 0:\n",
    "                two_state = \"+\"\n",
    "            elif which_mode[1] == 1:\n",
    "                two_state = \"-\"\n",
    "            data[str(which_mode[0])+\" , \"+two_state][i] = psi[0][0]\n",
    "\n",
    "    return pd.DataFrame(data=data, index=times)"
   ]
  },
  {
   "cell_type": "markdown",
   "metadata": {},
   "source": [
    "The quintessential set-up for spontaneous emission is to have the field empty, i.e. no bosons $n=0$, and the two state system in it's \"excited\" (aka higher energy \"+\") state.\n",
    "\n",
    "Let's see what happens."
   ]
  },
  {
   "cell_type": "code",
   "execution_count": 142,
   "metadata": {},
   "outputs": [],
   "source": [
    "psi0 = tensor(basis(max_bosons+1, 0), basis(2, 0))  # No bosons and two-state system is in the higher energy + state\n",
    "\n",
    "times = np.linspace(0.0, 70.0, 1000)      # simulation time\n",
    "\n",
    "result = sesolve(H, psi0, times)\n",
    "df_coupled =  states_to_df(result.states, times)"
   ]
  },
  {
   "cell_type": "code",
   "execution_count": 143,
   "metadata": {},
   "outputs": [
    {
     "data": {
      "image/png": "[encoded data removed]",
      "text/plain": [
       "<Figure size 1080x432 with 2 Axes>"
      ]
     },
     "metadata": {
      "needs_background": "light"
     },
     "output_type": "display_data"
    }
   ],
   "source": [
    "fig, axes = plt.subplots(nrows=1, ncols=2, figsize=(15,6))\n",
    "df_coupled.plot(title=\"Real part of amplitudes Re($\\psi$)     (Fig 1)\", ax=axes[0]);\n",
    "(df_coupled.abs()**2).plot(title=\"Probabilities $|\\psi|^2$     (Fig 2))\", ax=axes[1]);"
   ]
  },
  {
   "cell_type": "markdown",
   "metadata": {},
   "source": [
    "## Let's try now to start from an eigenstate\n",
    "(and see the components relative to the eigenstates without coupling)\n"
   ]
  },
  {
   "cell_type": "code",
   "execution_count": 144,
   "metadata": {},
   "outputs": [
    {
     "data": {
      "text/plain": [
       "array([-0.02665771,  0.07601512,  0.23966406,  0.26529669,  0.42525869,\n",
       "        0.49497179,  0.66520102,  0.7402742 ,  1.02682084,  1.09315531])"
      ]
     },
     "execution_count": 144,
     "metadata": {},
     "output_type": "execute_result"
    }
   ],
   "source": [
    "evals, ekets = H.eigenstates()\n",
    "evals"
   ]
  },
  {
   "cell_type": "code",
   "execution_count": 152,
   "metadata": {},
   "outputs": [
    {
     "data": {
      "text/latex": [
       "Quantum object: dims = [[5, 2], [1, 1]], shape = (10, 1), type = ket\\begin{equation*}\\left(\\begin{array}{*{11}c}0.0\\\\-0.962\\\\0.256\\\\0.0\\\\0.0\\\\-0.093\\\\0.021\\\\0.0\\\\0.0\\\\-0.005\\\\\\end{array}\\right)\\end{equation*}"
      ],
      "text/plain": [
       "Quantum object: dims = [[5, 2], [1, 1]], shape = (10, 1), type = ket\n",
       "Qobj data =\n",
       "[[ 0.        ]\n",
       " [-0.96180816]\n",
       " [ 0.25639601]\n",
       " [ 0.        ]\n",
       " [ 0.        ]\n",
       " [-0.09342663]\n",
       " [ 0.02079222]\n",
       " [ 0.        ]\n",
       " [ 0.        ]\n",
       " [-0.00503043]]"
      ]
     },
     "execution_count": 152,
     "metadata": {},
     "output_type": "execute_result"
    }
   ],
   "source": [
    "ekets[0]"
   ]
  },
  {
   "cell_type": "code",
   "execution_count": 157,
   "metadata": {},
   "outputs": [
    {
     "data": {
      "text/plain": [
       "0.2"
      ]
     },
     "execution_count": 157,
     "metadata": {},
     "output_type": "execute_result"
    }
   ],
   "source": [
    "psix = tensor(basis(max_bosons+1, 0), basis(2, 0))\n",
    "expect(H,psix)"
   ]
  },
  {
   "cell_type": "code",
   "execution_count": 160,
   "metadata": {},
   "outputs": [
    {
     "data": {
      "text/latex": [
       "Quantum object: dims = [[1], [1]], shape = (1, 1), type = bra\\begin{equation*}\\left(\\begin{array}{*{11}c}0.608\\\\\\end{array}\\right)\\end{equation*}"
      ],
      "text/plain": [
       "Quantum object: dims = [[1], [1]], shape = (1, 1), type = bra\n",
       "Qobj data =\n",
       "[[0.60845174]]"
      ]
     },
     "execution_count": 160,
     "metadata": {},
     "output_type": "execute_result"
    }
   ],
   "source": [
    "psi0.dag()*ekets[1]"
   ]
  },
  {
   "cell_type": "code",
   "execution_count": null,
   "metadata": {},
   "outputs": [],
   "source": []
  }
 ],
 "metadata": {
  "jupytext": {
   "formats": "ipynb,src//md"
  },
  "kernelspec": {
   "display_name": "Python 3",
   "language": "python",
   "name": "python3"
  },
  "language_info": {
   "codemirror_mode": {
    "name": "ipython",
    "version": 3
   },
   "file_extension": ".py",
   "mimetype": "text/x-python",
   "name": "python",
   "nbconvert_exporter": "python",
   "pygments_lexer": "ipython3",
   "version": "3.8.0"
  },
  "varInspector": {
   "cols": {
    "lenName": 16,
    "lenType": 16,
    "lenVar": 40
   },
   "kernels_config": {
    "python": {
     "delete_cmd_postfix": "",
     "delete_cmd_prefix": "del ",
     "library": "var_list.py",
     "varRefreshCmd": "print(var_dic_list())"
    },
    "r": {
     "delete_cmd_postfix": ") ",
     "delete_cmd_prefix": "rm(",
     "library": "var_list.r",
     "varRefreshCmd": "cat(var_dic_list()) "
    }
   },
   "types_to_exclude": [
    "module",
    "function",
    "builtin_function_or_method",
    "instance",
    "_Feature"
   ],
   "window_display": true
  }
 },
 "nbformat": 4,
 "nbformat_minor": 4
}
