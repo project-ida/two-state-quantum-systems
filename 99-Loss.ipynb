{
 "cells": [
  {
   "cell_type": "code",
   "execution_count": 1,
   "id": "48934d06-5e0b-429e-8cb3-a5970bc84e05",
   "metadata": {},
   "outputs": [
    {
     "name": "stderr",
     "output_type": "stream",
     "text": [
      "/Users/matt/anaconda3/envs/anaconda/lib/python3.11/site-packages/pandas/core/arrays/masked.py:60: UserWarning: Pandas requires version '1.3.6' or newer of 'bottleneck' (version '1.3.5' currently installed).\n",
      "  from pandas.core import (\n"
     ]
    }
   ],
   "source": [
    "# Libraries and helper functions\n",
    "\n",
    "%matplotlib inline\n",
    "import matplotlib.pyplot as plt\n",
    "from IPython.display import Image\n",
    "from IPython.display import Video\n",
    "\n",
    "import numpy as np\n",
    "from itertools import product\n",
    "import pandas as pd\n",
    "import warnings\n",
    "warnings.filterwarnings('ignore')\n",
    "\n",
    "from qutip import *\n",
    "from qutip.piqs import *\n",
    "from qutip.cy.piqs import j_min, j_vals, m_vals\n",
    "\n",
    "# The helper file below brings functions created in previous tutorials\n",
    "from libs.helper_09_tutorial import *"
   ]
  },
  {
   "cell_type": "markdown",
   "id": "20015717-84fd-4251-8557-dc637c5d8ef1",
   "metadata": {},
   "source": [
    "### Questions for Peter\n",
    "- With non-hermitian Hamiltonian, we can't use eigenfunction expansion to solve the Schrodinger equation can we?\n",
    "- Depending on the state we start with, e.g. |0,+,+> or |0,+,->, the loss term (1+sigma_z1)*(1+sigma_z2)/4 means means something different, in one case it's loss that I can imagine as being associated with the TLS releasing their energy, in the other case it's off resonant and I don't understand what it really does to the system\n",
    "- Related to above, what would be the collapse operator associated with (1+sigma_z1)*(1+sigma_z2)/4?"
   ]
  },
  {
   "cell_type": "code",
   "execution_count": null,
   "id": "1534883e-547a-4f4d-ae84-75d9399bd5e6",
   "metadata": {},
   "outputs": [],
   "source": []
  }
 ],
 "metadata": {
  "kernelspec": {
   "display_name": "Python 3 (ipykernel)",
   "language": "python",
   "name": "python3"
  },
  "language_info": {
   "codemirror_mode": {
    "name": "ipython",
    "version": 3
   },
   "file_extension": ".py",
   "mimetype": "text/x-python",
   "name": "python",
   "nbconvert_exporter": "python",
   "pygments_lexer": "ipython3",
   "version": "3.11.4"
  }
 },
 "nbformat": 4,
 "nbformat_minor": 5
}
