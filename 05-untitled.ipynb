{
 "cells": [
  {
   "cell_type": "code",
   "execution_count": 242,
   "metadata": {},
   "outputs": [],
   "source": [
    "# Libraries\n",
    "%matplotlib inline\n",
    "import matplotlib.pyplot as plt\n",
    "import matplotlib.ticker as ticker\n",
    "from IPython.display import Image, Math\n",
    "import gif\n",
    "import numpy as np\n",
    "import pandas as pd\n",
    "from qutip import *\n",
    "from qutip.piqs import *\n",
    "from qutip.cy.piqs import j_min, j_vals, m_vals\n",
    "import warnings\n",
    "warnings.filterwarnings('ignore')\n",
    "from itertools import product\n",
    "import os\n",
    "from fractions import Fraction\n",
    "\n",
    "# Functions created in 04 tutorial\n",
    "\n",
    "from libs.helper_05_tutorial import *\n",
    "\n",
    "def prettify_states(states, mm_list=None):\n",
    "    pretty_states = np.zeros([states[0].shape[0],len(states)], dtype=\"object\")\n",
    "    \n",
    "    for j, state in enumerate(states):\n",
    "        x = []\n",
    "        for i, val in enumerate(state):\n",
    "            pretty_states[i,j] = f\"{val[0,0]:.1f}\"\n",
    "    if (mm_list == None):\n",
    "        df = pd.DataFrame(data=pretty_states)\n",
    "    else:\n",
    "        df = pd.DataFrame(data=pretty_states, index=mm_list)\n",
    "            \n",
    "    return df"
   ]
  },
  {
   "cell_type": "markdown",
   "metadata": {},
   "source": [
    "## The states of 2 TSS"
   ]
  },
  {
   "cell_type": "markdown",
   "metadata": {},
   "source": [
    "As soon as we start adding more than one TSS things get quite complicated. In order to give us an intuition for how such systems behave, we will take inspiration from Tutorials 1 and 2.\n",
    "\n",
    "\n",
    "Let's start simple and look at 2 TSS. We can describe this system by the different possible combinations of the higher (+) and lower (-) energy states of the individual TSS namely:\n",
    "- |+,+>\n",
    "- |+,->\n",
    "- |-,+>\n",
    "- |-,->\n",
    "\n",
    "So, 2 TSS is actually a 4 state system. Mathematically these 4 states can be represented as vectors of length 4 using the following basis:\n",
    "\n",
    "$$\n",
    "|+, +> = \\begin{bmatrix}\n",
    " 1   \\\\\n",
    " 0   \\\\\n",
    " 0   \\\\\n",
    " 0   \\\\\n",
    " \\end{bmatrix}, \n",
    "|+, -> = \\begin{bmatrix}\n",
    " 0   \\\\\n",
    " 1   \\\\\n",
    " 0   \\\\\n",
    " 0   \\\\\n",
    "\\end{bmatrix}, \n",
    "|-, +> = \\begin{bmatrix}\n",
    " 0   \\\\\n",
    " 0   \\\\\n",
    " 1   \\\\\n",
    " 0   \\\\\n",
    "\\end{bmatrix}, \n",
    "|-, -> = \\begin{bmatrix}\n",
    " 0   \\\\\n",
    " 0   \\\\\n",
    " 0   \\\\\n",
    " 1   \\\\\n",
    "\\end{bmatrix}\n",
    "$$\n",
    "\n",
    "How to we create these states in QuTiP?\n",
    "\n",
    "In [Tutorial 3](https://nbviewer.jupyter.org/github/project-ida/two-state-quantum-systems/blob/master/03-a-two-state-system-in-a-quantised-field.ipynb#3.5---Describing-coupled-systems-in-QuTiP) we learnt to describe such states| by using the tensor product. For example, we would create the |+,-> state by doing:"
   ]
  },
  {
   "cell_type": "code",
   "execution_count": 288,
   "metadata": {},
   "outputs": [
    {
     "data": {
      "text/latex": [
       "Quantum object: dims = [[2, 2], [1, 1]], shape = (4, 1), type = ket\\begin{equation*}\\left(\\begin{array}{*{11}c}0.0\\\\1.0\\\\0.0\\\\0.0\\\\\\end{array}\\right)\\end{equation*}"
      ],
      "text/plain": [
       "Quantum object: dims = [[2, 2], [1, 1]], shape = (4, 1), type = ket\n",
       "Qobj data =\n",
       "[[0.]\n",
       " [1.]\n",
       " [0.]\n",
       " [0.]]"
      ]
     },
     "execution_count": 288,
     "metadata": {},
     "output_type": "execute_result"
    }
   ],
   "source": [
    "pm = tensor(basis(2,0), basis(2,1))\n",
    "pm"
   ]
  },
  {
   "cell_type": "markdown",
   "metadata": {},
   "source": [
    "and we can keep track of which basis states corresponds to which row by using the `product` function that we introduced in the previous tutorial. Specifically:"
   ]
  },
  {
   "cell_type": "code",
   "execution_count": 281,
   "metadata": {},
   "outputs": [
    {
     "data": {
      "text/plain": [
       "[('+', '+'), ('+', '-'), ('-', '+'), ('-', '-')]"
      ]
     },
     "execution_count": 281,
     "metadata": {},
     "output_type": "execute_result"
    }
   ],
   "source": [
    "possible_ms = [\"+\",\"-\"]\n",
    "mm_list = [m for m in product(possible_ms, possible_ms)]\n",
    "mm_list"
   ]
  },
  {
   "cell_type": "markdown",
   "metadata": {},
   "source": [
    "So, the row number 1 of the state vector refers to the basis state:"
   ]
  },
  {
   "cell_type": "code",
   "execution_count": 283,
   "metadata": {},
   "outputs": [
    {
     "data": {
      "text/plain": [
       "('+', '-')"
      ]
     },
     "execution_count": 283,
     "metadata": {},
     "output_type": "execute_result"
    }
   ],
   "source": [
    "mm_list[1]"
   ]
  },
  {
   "cell_type": "markdown",
   "metadata": {},
   "source": [
    "How does such a system behave?"
   ]
  },
  {
   "cell_type": "markdown",
   "metadata": {},
   "source": [
    "## TSS Recap"
   ]
  },
  {
   "cell_type": "markdown",
   "metadata": {},
   "source": [
    "We have previously looked at a TSS whose states are allowed to couple to each other with strength $A$. This coupling resulted in a splitting of the states of constant energy. When we perturbed the energy of those states by an amount $\\pm \\delta$ we found (in [tutorial 02](https://github.com/project-ida/two-state-quantum-systems/blob/master/02-perturbing-a-two-state-system.ipynb)) that a natural way to represent the Hamiltonian is\n",
    "\n",
    "$$\n",
    "H = \\begin{bmatrix}\n",
    " A  &  \\delta  \\\\\n",
    " \\delta  &  -A  \\\\\n",
    "\\end{bmatrix} = A\\sigma_z +\\delta \\sigma_x\n",
    "$$\n",
    "\n",
    "The base states being used to represent this system are the stationary states of the unperturbed system ($\\delta=0$) that we describe by:\n",
    "\n",
    "$$\n",
    "|+> = \\begin{bmatrix}\n",
    " 1   \\\\\n",
    " 0   \\\\\n",
    " \\end{bmatrix}, \n",
    "|-> = \\begin{bmatrix}\n",
    " 0   \\\\\n",
    " 1   \\\\\n",
    "\\end{bmatrix}\n",
    "$$\n",
    "\n",
    "where |+>, |-> correspond to the higher and lower energy states respectively. \n",
    "\n",
    "You may recall that there are mathematical similarities between a TSS and a spin $1/2$ particle. When considering many TSS, we will find it invaluable to refer to well known spin results, such as conservation of angular momentum, to help us solve problems. In light of this, we will introduce a factor of $1/2$ into the Hamiltonian:\n",
    "\n",
    "$$\n",
    "H = \\frac{1}{2}A\\sigma_z +\\frac{1}{2}\\delta \\sigma_x\n",
    "$$\n",
    "\n",
    "so that we can rewrite the Hamiltonian in terms of spin operators, (denoted by $S$), for a [spin $1/2$ particle](https://en.wikipedia.org/wiki/Spin-%C2%BD#Observables), i.e.\n",
    "\n",
    "$$\n",
    "H = A S_{z} + \\delta S_{x}\n",
    "$$\n",
    "\n",
    "\n",
    "QuTiP has a nice function to generate the J operators for any given number of TSS."
   ]
  },
  {
   "cell_type": "markdown",
   "metadata": {},
   "source": [
    "## Describing independent TSS"
   ]
  },
  {
   "cell_type": "markdown",
   "metadata": {},
   "source": [
    "\n",
    "A natural starting point for the Hamiltonian of $N$ independent TSS each interacting with a perturbing \"field\" $\\delta$ is:\n",
    "\n",
    "$$\n",
    "H = A \\overset{N}{\\underset{n=1}{\\Sigma}} S_{n z} +  \\delta \\overset{N}{\\underset{n=1}{\\Sigma}} S_{n x} \n",
    "$$\n",
    "\n",
    "Because spin represents angular momentum, the sum of $N$ spin operators above is mathematically the same as how one would create the [total angular momentum operators](https://www2.ph.ed.ac.uk/~ldeldebb/docs/QM/lect15.pdf) - denoted by $J$, e.g. $J_x = \\overset{N}{\\underset{n=1}{\\Sigma}} S_{n x}$. The Hamiltonian can then be written more compactly as:\n",
    "\n",
    "$$\n",
    "H = A J_{z} +  \\delta J_{x}\n",
    "$$\n",
    "\n",
    "\n",
    "QuTiP has a nice function, [`jspin`](http://qutip.org/docs/latest/apidoc/functions.html#qutip.piqs.jspin),  to generate the J operators for any given number of TSS (note, you must import [`qutip.piqs`](http://qutip.org/docs/latest/apidoc/functions.html#module-qutip.piqs) to use this)"
   ]
  },
  {
   "cell_type": "code",
   "execution_count": 284,
   "metadata": {},
   "outputs": [],
   "source": [
    "# number of TSS\n",
    "N = 2"
   ]
  },
  {
   "cell_type": "code",
   "execution_count": 881,
   "metadata": {},
   "outputs": [],
   "source": [
    "J = jspin(N, basis=\"uncoupled\")"
   ]
  },
  {
   "cell_type": "markdown",
   "metadata": {},
   "source": [
    "Let's see how the $J_z$ operator acts on the |+,-> state we created earlier."
   ]
  },
  {
   "cell_type": "code",
   "execution_count": 478,
   "metadata": {},
   "outputs": [
    {
     "data": {
      "text/latex": [
       "Quantum object: dims = [[2, 2], [1, 1]], shape = (4, 1), type = ket\\begin{equation*}\\left(\\begin{array}{*{11}c}1.0\\\\0.0\\\\0.0\\\\0.0\\\\\\end{array}\\right)\\end{equation*}"
      ],
      "text/plain": [
       "Quantum object: dims = [[2, 2], [1, 1]], shape = (4, 1), type = ket\n",
       "Qobj data =\n",
       "[[1.]\n",
       " [0.]\n",
       " [0.]\n",
       " [0.]]"
      ]
     },
     "execution_count": 478,
     "metadata": {},
     "output_type": "execute_result"
    }
   ],
   "source": [
    "J[2]*tensor(basis(2,0), basis(2,0))"
   ]
  },
  {
   "cell_type": "code",
   "execution_count": 296,
   "metadata": {},
   "outputs": [
    {
     "data": {
      "text/latex": [
       "Quantum object: dims = [[2, 2], [1, 1]], shape = (4, 1), type = ket\\begin{equation*}\\left(\\begin{array}{*{11}c}0.0\\\\0.0\\\\0.0\\\\0.0\\\\\\end{array}\\right)\\end{equation*}"
      ],
      "text/plain": [
       "Quantum object: dims = [[2, 2], [1, 1]], shape = (4, 1), type = ket\n",
       "Qobj data =\n",
       "[[0.]\n",
       " [0.]\n",
       " [0.]\n",
       " [0.]]"
      ]
     },
     "execution_count": 296,
     "metadata": {},
     "output_type": "execute_result"
    }
   ],
   "source": [
    "J[2]*pm"
   ]
  },
  {
   "cell_type": "markdown",
   "metadata": {},
   "source": [
    "We get zero because $J_z$ is essentially a running total of the number of \"spin ups\" ($n_+$) and \"spin downs\" ($n_-$), weighted by a factor of half, i.e. $J_z = \\frac{1}{2}(n_+-n_-)$. For |+, -> we have 1 up and 1 down and so we get zero."
   ]
  },
  {
   "cell_type": "markdown",
   "metadata": {},
   "source": [
    "\n",
    "\n",
    "We proceed as we have done several times by looking for the stationary states of the system. When the system is in one of these states it will remain there for all time. Such states are described by a single constant energy.\n",
    "\n",
    "To find the states of constant energy, we'll follow what we did in Tutorial 2. Specifically, we will calculate the eigenvalues of the Hamiltonian (i.e the energies) and see how they depend on the the perturbation strength $\\delta$.\n",
    "\n",
    "Let's see what we find."
   ]
  },
  {
   "cell_type": "markdown",
   "metadata": {},
   "source": [
    "## Stationary states"
   ]
  },
  {
   "cell_type": "code",
   "execution_count": 839,
   "metadata": {},
   "outputs": [],
   "source": [
    "df = make_df_for_energy_scan(\"$\\delta$/A\", -4,4, 100, J[0].shape[0]) "
   ]
  },
  {
   "cell_type": "code",
   "execution_count": 840,
   "metadata": {},
   "outputs": [],
   "source": [
    "vec = np.zeros([J[0].shape[0], J[0].shape[0],100])"
   ]
  },
  {
   "cell_type": "code",
   "execution_count": 841,
   "metadata": {},
   "outputs": [],
   "source": [
    "A=0.1"
   ]
  },
  {
   "cell_type": "code",
   "execution_count": 842,
   "metadata": {},
   "outputs": [],
   "source": [
    "for i, row in df.iterrows():\n",
    "    H = A*J[2] + row[ \"$\\delta$/A\"]*A*J[0]\n",
    "    evals, ekets = H.eigenstates()\n",
    "    df.iloc[i,1:] = evals\n",
    "    for j, ket in enumerate(ekets):\n",
    "        s = np.transpose(ket)\n",
    "        vec[j,:,i] = np.abs(s*np.conj(s))"
   ]
  },
  {
   "cell_type": "code",
   "execution_count": 843,
   "metadata": {},
   "outputs": [],
   "source": [
    "bra_labels, ket_labels = make_braket_labels(mm_list)"
   ]
  },
  {
   "cell_type": "code",
   "execution_count": 844,
   "metadata": {},
   "outputs": [
    {
     "data": {
      "image/png": "[encoded data removed]",
      "text/plain": [
       "<Figure size 720x576 with 1 Axes>"
      ]
     },
     "metadata": {
      "needs_background": "light"
     },
     "output_type": "display_data"
    }
   ],
   "source": [
    "df.plot(x=\"$\\delta$/A\",figsize=(10,8),legend=True, \n",
    "        title=\"Stationary states for 2 TSS,   $H=-AJ_{z} + \\delta J_{x}$   (A=0.1)     (Fig 1)\");\n",
    "plt.ylabel(\"Energy\");"
   ]
  },
  {
   "cell_type": "markdown",
   "metadata": {},
   "source": [
    "Superficially, Fig 1 resembles Fig 3 of [Tutorial 2](https://nbviewer.jupyter.org/github/project-ida/two-state-quantum-systems/blob/master/02-perturbing-a-two-state-system.ipynb#2.1-Static-perturbation) in that we see an avoided crossing when there is no perturbation. \n",
    "\n",
    "What is most interesting is that there are 2 levels with the same energy (aka [degenerate](https://en.wikipedia.org/wiki/Degenerate_energy_levels) levels) whose value does not show any dependence on $\\delta$. Let's explore what the eigenstates look like as we change $\\delta$."
   ]
  },
  {
   "cell_type": "code",
   "execution_count": 845,
   "metadata": {},
   "outputs": [
    {
     "data": {
      "image/png": "[encoded data removed]",
      "text/plain": [
       "<Figure size 1080x432 with 4 Axes>"
      ]
     },
     "metadata": {
      "needs_background": "light"
     },
     "output_type": "display_data"
    }
   ],
   "source": [
    "fig, axes = plt.subplots(nrows=1, ncols=4, figsize=(15,6), sharey=True)\n",
    "\n",
    "for i in range(0,vec.shape[0]):\n",
    "    axes[i].stackplot(df[ \"$\\delta$/A\"], vec[i,:,:], labels=ket_labels);\n",
    "    axes[i].set_xlabel(\"$\\delta$/A\")\n",
    "    axes[i].set_title(f\"level_{i}\")\n",
    "axes[0].set_ylabel(\"Probability\")\n",
    "axes[0].legend(loc='lower right')\n",
    "\n",
    "fig.suptitle('Fig 2');"
   ]
  },
  {
   "cell_type": "markdown",
   "metadata": {},
   "source": [
    "Fig 2 shows us how much of each basis state makes up each eigenstate (which corresponds to a particular energy level) as we change $\\delta$. For example, level_0 with $\\delta/A = -0.4$, is made up of:\n",
    "- 40% |-,-> (red)\n",
    "- 20% |-,+> (green)\n",
    "- 25% |+,-> (orange)\n",
    "- 15% |+,+> (blue).\n",
    "\n",
    "\n",
    "We expect the eigenstates to change in a smooth way as we change $\\delta$, but we can see that level_1 and level_2 show some spiky behaviour. This is due to the degenerate nature of the energy levels and the numerical methods used by QuTiP - the eigenstates can sometimes swap their order in the numpy array. We can fix this manually in the following way:"
   ]
  },
  {
   "cell_type": "code",
   "execution_count": 846,
   "metadata": {},
   "outputs": [],
   "source": [
    "# Looks at level 1 and finds the places where the state |+,+> (blue) has a non zero value i.e. the spiky points\n",
    "ind = vec[1,0,:] > 0 \n",
    "\n",
    "# swaps the eigenstates of level_1 and level_2 only at the spiky places\n",
    "vec[1,:,ind], vec[2,:,ind] = vec[2,:,ind], vec[1,:,ind]"
   ]
  },
  {
   "cell_type": "markdown",
   "metadata": {},
   "source": [
    "Now let's replot "
   ]
  },
  {
   "cell_type": "code",
   "execution_count": 847,
   "metadata": {},
   "outputs": [
    {
     "data": {
      "image/png": "[encoded data removed]",
      "text/plain": [
       "<Figure size 1080x432 with 4 Axes>"
      ]
     },
     "metadata": {
      "needs_background": "light"
     },
     "output_type": "display_data"
    }
   ],
   "source": [
    "fig, axes = plt.subplots(nrows=1, ncols=4, figsize=(15,6), sharey=True)\n",
    "\n",
    "for i in range(0,vec.shape[0]):\n",
    "    axes[i].stackplot(df[ \"$\\delta$/A\"], vec[i,:,:], labels=ket_labels);\n",
    "    axes[i].set_xlabel(\"$\\delta$/A\")\n",
    "    axes[i].set_title(f\"level_{i}\")\n",
    "axes[0].set_ylabel(\"Probability\")\n",
    "\n",
    "axes[0].legend(loc='lower right')\n",
    "\n",
    "fig.suptitle('Fig 3');"
   ]
  },
  {
   "cell_type": "markdown",
   "metadata": {},
   "source": [
    "Much better. There is a lot to say about Fig 3:\n",
    "1. As $\\delta \\rightarrow 0$, level_0 and level_3 behave as one would expect, namely the eigenstate corresponding to lowest energy level_0 becomes |-,->, and for the highest energy level_3 it's |+,+>\n",
    "2. The eigenstate corresponding to level_1 has no dependency on the perturbation $\\delta$\n",
    "3. As $\\delta \\rightarrow 0$, the level_2 eigenstate approaches the same as level_1 (within a phase factor)\n",
    "\n",
    "In order to solve the mystery of indifference of level_1 to $\\delta$ we need to first understand another puzzle. Let's look at the numerical values of the eigenstates for a very small $\\delta=0.001$"
   ]
  },
  {
   "cell_type": "code",
   "execution_count": 860,
   "metadata": {},
   "outputs": [],
   "source": [
    "delta = 0.001\n",
    "H = A*J[2] + delta*J[0]\n",
    "evals, ekets = H.eigenstates()"
   ]
  },
  {
   "cell_type": "code",
   "execution_count": 861,
   "metadata": {},
   "outputs": [
    {
     "data": {
      "text/html": [
       "<div>\n",
       "<style scoped>\n",
       "    .dataframe tbody tr th:only-of-type {\n",
       "        vertical-align: middle;\n",
       "    }\n",
       "\n",
       "    .dataframe tbody tr th {\n",
       "        vertical-align: top;\n",
       "    }\n",
       "\n",
       "    .dataframe thead th {\n",
       "        text-align: right;\n",
       "    }\n",
       "</style>\n",
       "<table border=\"1\" class=\"dataframe\">\n",
       "  <thead>\n",
       "    <tr style=\"text-align: right;\">\n",
       "      <th></th>\n",
       "      <th>0</th>\n",
       "      <th>1</th>\n",
       "      <th>2</th>\n",
       "      <th>3</th>\n",
       "    </tr>\n",
       "  </thead>\n",
       "  <tbody>\n",
       "    <tr>\n",
       "      <th>(+, +)</th>\n",
       "      <td>0.0+0.0j</td>\n",
       "      <td>0.0+0.0j</td>\n",
       "      <td>0.0+0.0j</td>\n",
       "      <td>1.0+0.0j</td>\n",
       "    </tr>\n",
       "    <tr>\n",
       "      <th>(+, -)</th>\n",
       "      <td>-0.0+0.0j</td>\n",
       "      <td>-0.7+0.0j</td>\n",
       "      <td>-0.7+0.0j</td>\n",
       "      <td>0.0+0.0j</td>\n",
       "    </tr>\n",
       "    <tr>\n",
       "      <th>(-, +)</th>\n",
       "      <td>-0.0+0.0j</td>\n",
       "      <td>-0.7+0.0j</td>\n",
       "      <td>0.7+0.0j</td>\n",
       "      <td>0.0+0.0j</td>\n",
       "    </tr>\n",
       "    <tr>\n",
       "      <th>(-, -)</th>\n",
       "      <td>1.0+0.0j</td>\n",
       "      <td>-0.0+0.0j</td>\n",
       "      <td>0.0+0.0j</td>\n",
       "      <td>0.0+0.0j</td>\n",
       "    </tr>\n",
       "  </tbody>\n",
       "</table>\n",
       "</div>"
      ],
      "text/plain": [
       "                0          1          2         3\n",
       "(+, +)   0.0+0.0j   0.0+0.0j   0.0+0.0j  1.0+0.0j\n",
       "(+, -)  -0.0+0.0j  -0.7+0.0j  -0.7+0.0j  0.0+0.0j\n",
       "(-, +)  -0.0+0.0j  -0.7+0.0j   0.7+0.0j  0.0+0.0j\n",
       "(-, -)   1.0+0.0j  -0.0+0.0j   0.0+0.0j  0.0+0.0j"
      ]
     },
     "execution_count": 861,
     "metadata": {},
     "output_type": "execute_result"
    }
   ],
   "source": [
    "prettify_states(ekets, mm_list)"
   ]
  },
  {
   "cell_type": "markdown",
   "metadata": {},
   "source": [
    "We can see that levels 1 and 2 are \"in phase\" and \"out of phase\" mixtures of |+,-> and |-,+>. This kind of combination of basis states is often referred to as an [entangled state](https://en.wikipedia.org/wiki/Quantum_entanglement#Pure_states).\n",
    "\n",
    "When we compare this to the unperturbed case, i.e. $\\delta=0$, we see a large difference:"
   ]
  },
  {
   "cell_type": "code",
   "execution_count": 862,
   "metadata": {},
   "outputs": [],
   "source": [
    "H0 =  A*J[2]\n",
    "evals0, ekets0 = H0.eigenstates()"
   ]
  },
  {
   "cell_type": "code",
   "execution_count": 863,
   "metadata": {},
   "outputs": [
    {
     "data": {
      "text/html": [
       "<div>\n",
       "<style scoped>\n",
       "    .dataframe tbody tr th:only-of-type {\n",
       "        vertical-align: middle;\n",
       "    }\n",
       "\n",
       "    .dataframe tbody tr th {\n",
       "        vertical-align: top;\n",
       "    }\n",
       "\n",
       "    .dataframe thead th {\n",
       "        text-align: right;\n",
       "    }\n",
       "</style>\n",
       "<table border=\"1\" class=\"dataframe\">\n",
       "  <thead>\n",
       "    <tr style=\"text-align: right;\">\n",
       "      <th></th>\n",
       "      <th>0</th>\n",
       "      <th>1</th>\n",
       "      <th>2</th>\n",
       "      <th>3</th>\n",
       "    </tr>\n",
       "  </thead>\n",
       "  <tbody>\n",
       "    <tr>\n",
       "      <th>(+, +)</th>\n",
       "      <td>0.0+0.0j</td>\n",
       "      <td>0.0+0.0j</td>\n",
       "      <td>0.0+0.0j</td>\n",
       "      <td>1.0+0.0j</td>\n",
       "    </tr>\n",
       "    <tr>\n",
       "      <th>(+, -)</th>\n",
       "      <td>0.0+0.0j</td>\n",
       "      <td>1.0+0.0j</td>\n",
       "      <td>0.0+0.0j</td>\n",
       "      <td>0.0+0.0j</td>\n",
       "    </tr>\n",
       "    <tr>\n",
       "      <th>(-, +)</th>\n",
       "      <td>0.0+0.0j</td>\n",
       "      <td>0.0+0.0j</td>\n",
       "      <td>1.0+0.0j</td>\n",
       "      <td>0.0+0.0j</td>\n",
       "    </tr>\n",
       "    <tr>\n",
       "      <th>(-, -)</th>\n",
       "      <td>1.0+0.0j</td>\n",
       "      <td>0.0+0.0j</td>\n",
       "      <td>0.0+0.0j</td>\n",
       "      <td>0.0+0.0j</td>\n",
       "    </tr>\n",
       "  </tbody>\n",
       "</table>\n",
       "</div>"
      ],
      "text/plain": [
       "               0         1         2         3\n",
       "(+, +)  0.0+0.0j  0.0+0.0j  0.0+0.0j  1.0+0.0j\n",
       "(+, -)  0.0+0.0j  1.0+0.0j  0.0+0.0j  0.0+0.0j\n",
       "(-, +)  0.0+0.0j  0.0+0.0j  1.0+0.0j  0.0+0.0j\n",
       "(-, -)  1.0+0.0j  0.0+0.0j  0.0+0.0j  0.0+0.0j"
      ]
     },
     "execution_count": 863,
     "metadata": {},
     "output_type": "execute_result"
    }
   ],
   "source": [
    "prettify_states(ekets0, mm_list)"
   ]
  },
  {
   "cell_type": "markdown",
   "metadata": {},
   "source": [
    "The reason for the discontinuity in the eigenstates for $\\delta \\ll 1$ vs $\\delta=0$ is because both basis states are equally valid ways to represent the states of constant energy.\n",
    "\n",
    "But, there is clearly something important to understand about the basis made up of entangled states - even when we have a tiny perturbation this is the apparently the appropriate basis for describing the stationary states.\n",
    "\n",
    "What makes the entangled basis special? It has to do with angular momentum."
   ]
  },
  {
   "cell_type": "markdown",
   "metadata": {},
   "source": [
    "## Angular momentum"
   ]
  },
  {
   "cell_type": "markdown",
   "metadata": {},
   "source": [
    "Although we are not dealing explicitly with the physics of spin angular momentum, we are using the same mathematics. For example, we are already using the x and z \"components\" of the total angular momentum operator $J_x$ and $J_z$. What can we learn from other operators, e.g. what about the \"magnitude\" of the total angular momentum operator operator? \n",
    "\n",
    "I use quote marks around \"component\" and \"magnitude\" because this is vector language which is not obviously applicable to operators. It turns out, however, that we can treat the angular momentum operator as a vector in some sense (see [spinors](https://en.wikipedia.org/wiki/Spinors_in_three_dimensions)). We can create the squared magnitude of the total angular momentum operator ($J^2$) much like we would a vector - we sum of the squares of the components."
   ]
  },
  {
   "cell_type": "code",
   "execution_count": 883,
   "metadata": {},
   "outputs": [
    {
     "data": {
      "text/latex": [
       "Quantum object: dims = [[2, 2], [2, 2]], shape = (4, 4), type = oper, isherm = True\\begin{equation*}\\left(\\begin{array}{*{11}c}2.0 & 0.0 & 0.0 & 0.0\\\\0.0 & 1.0 & 1.0 & 0.0\\\\0.0 & 1.0 & 1.0 & 0.0\\\\0.0 & 0.0 & 0.0 & 2.0\\\\\\end{array}\\right)\\end{equation*}"
      ],
      "text/plain": [
       "Quantum object: dims = [[2, 2], [2, 2]], shape = (4, 4), type = oper, isherm = True\n",
       "Qobj data =\n",
       "[[2. 0. 0. 0.]\n",
       " [0. 1. 1. 0.]\n",
       " [0. 1. 1. 0.]\n",
       " [0. 0. 0. 2.]]"
      ]
     },
     "execution_count": 883,
     "metadata": {},
     "output_type": "execute_result"
    }
   ],
   "source": [
    "J2 = J[0]*J[0] + J[1]*J[1] + J[2]*J[2]\n",
    "J2"
   ]
  },
  {
   "cell_type": "markdown",
   "metadata": {},
   "source": [
    "What does this operator tell us?\n",
    "\n",
    "Just as we learnt about states of constant energy by calculating the eigenvalues and eigenvectors of the Hamiltonian, we can learn about states of constant angular momentum by calculating the eigenvalues and eigenvectors of $J^2$.\n"
   ]
  },
  {
   "cell_type": "code",
   "execution_count": 887,
   "metadata": {},
   "outputs": [],
   "source": [
    "evalsJ, eketsJ = J2.eigenstates()"
   ]
  },
  {
   "cell_type": "code",
   "execution_count": 888,
   "metadata": {},
   "outputs": [
    {
     "data": {
      "text/plain": [
       "array([1.11022302e-15, 2.00000000e+00, 2.00000000e+00, 2.00000000e+00])"
      ]
     },
     "execution_count": 888,
     "metadata": {},
     "output_type": "execute_result"
    }
   ],
   "source": [
    "evalsJ"
   ]
  },
  {
   "cell_type": "markdown",
   "metadata": {},
   "source": [
    "Although not immediately obvious, the eigenvalues of $J^2$ always have the form $j(j+1)$, where $j$ is a number that characterises the angular momentum of the system with $2j$ being an integer. Therefore, even without explicitly looking at the eigenstates of $J^2$ above, we know they must correspond to:\n",
    "- j=0 - one state\n",
    "- j=1 - three states"
   ]
  },
  {
   "cell_type": "markdown",
   "metadata": {},
   "source": [
    "But, where do these $j$ numbers come from, and what does it mean to have many states with the same value of $j$?"
   ]
  },
  {
   "cell_type": "markdown",
   "metadata": {},
   "source": [
    "\n",
    "In quantum mechanics, it has been found experimentally that [angular momentum is quantised](https://www.feynmanlectures.caltech.edu/II_34.html#Ch34-S7) in the sense that when its z component is measured it can only take values $m\\hbar$ where $m = j, (j-1), (j-2), ..., -(j-2), -(j-1), -j$."
   ]
  },
  {
   "cell_type": "markdown",
   "metadata": {},
   "source": [
    "So, although we still haven't explicitly looked the 4 eigenstates of $J^2$ above, we can say that the eigenstates can be uniquely described by 2 numbers $|j, m \\rangle$, namely:\n",
    "\n",
    "- $|0, 0 \\rangle$\n",
    "- $|1, -1 \\rangle$\n",
    "- $|1, 0 \\rangle$\n",
    "- $|1, 1 \\rangle$\n",
    "\n",
    "The specific $j$ and $m$ numbers come from adding up the angular momentum for many single TSS (with $j=1/2$) like vectors of the same length but different (quantised) orientations. The details are somewhat tedious - often involving [formidable lookup tables](http://pdg.lbl.gov/2019/reviews/rpp2019-rev-clebsch-gordan-coefs.pdf). Luckily for us, QuTiP, has some convenient functions (that are somewhat hidden inside of [`qutip.cy.piqs`](https://github.com/qutip/qutip/blob/85632bc66fdcd45be51e1c280ea7577f04761a67/qutip/cy/piqs.pyx)) to help us.\n",
    "- [`j_vals(N)`](https://github.com/qutip/qutip/blob/85632bc66fdcd45be51e1c280ea7577f04761a67/qutip/cy/piqs.pyx#L130) - tells us the different $j$ values for $N$ TSS.\n",
    "- [`m_vals(j)`](https://github.com/qutip/qutip/blob/85632bc66fdcd45be51e1c280ea7577f04761a67/qutip/cy/piqs.pyx#L147) tells us the $m$ values for a given $j$"
   ]
  },
  {
   "cell_type": "code",
   "execution_count": 891,
   "metadata": {},
   "outputs": [
    {
     "data": {
      "text/plain": [
       "array([0., 1.])"
      ]
     },
     "execution_count": 891,
     "metadata": {},
     "output_type": "execute_result"
    }
   ],
   "source": [
    "j_vals(2)"
   ]
  },
  {
   "cell_type": "code",
   "execution_count": 892,
   "metadata": {},
   "outputs": [
    {
     "data": {
      "text/plain": [
       "array([-1,  0,  1])"
      ]
     },
     "execution_count": 892,
     "metadata": {},
     "output_type": "execute_result"
    }
   ],
   "source": [
    "m_vals(1)"
   ]
  },
  {
   "cell_type": "markdown",
   "metadata": {},
   "source": [
    "Let's now take a look at the eigenstates in the |±, ±> basis and see if we can match them to the corresponding $|j, m \\rangle$."
   ]
  },
  {
   "cell_type": "code",
   "execution_count": 117,
   "metadata": {},
   "outputs": [
    {
     "data": {
      "text/html": [
       "<div>\n",
       "<style scoped>\n",
       "    .dataframe tbody tr th:only-of-type {\n",
       "        vertical-align: middle;\n",
       "    }\n",
       "\n",
       "    .dataframe tbody tr th {\n",
       "        vertical-align: top;\n",
       "    }\n",
       "\n",
       "    .dataframe thead th {\n",
       "        text-align: right;\n",
       "    }\n",
       "</style>\n",
       "<table border=\"1\" class=\"dataframe\">\n",
       "  <thead>\n",
       "    <tr style=\"text-align: right;\">\n",
       "      <th></th>\n",
       "      <th>0</th>\n",
       "      <th>1</th>\n",
       "      <th>2</th>\n",
       "      <th>3</th>\n",
       "    </tr>\n",
       "  </thead>\n",
       "  <tbody>\n",
       "    <tr>\n",
       "      <th>(+, +)</th>\n",
       "      <td>0.0+0.0j</td>\n",
       "      <td>1.0+0.0j</td>\n",
       "      <td>0.0+0.0j</td>\n",
       "      <td>0.0+0.0j</td>\n",
       "    </tr>\n",
       "    <tr>\n",
       "      <th>(+, -)</th>\n",
       "      <td>0.7+0.0j</td>\n",
       "      <td>0.0+0.0j</td>\n",
       "      <td>0.7+0.0j</td>\n",
       "      <td>0.0+0.0j</td>\n",
       "    </tr>\n",
       "    <tr>\n",
       "      <th>(-, +)</th>\n",
       "      <td>-0.7+0.0j</td>\n",
       "      <td>0.0+0.0j</td>\n",
       "      <td>0.7+0.0j</td>\n",
       "      <td>0.0+0.0j</td>\n",
       "    </tr>\n",
       "    <tr>\n",
       "      <th>(-, -)</th>\n",
       "      <td>0.0+0.0j</td>\n",
       "      <td>0.0+0.0j</td>\n",
       "      <td>0.0+0.0j</td>\n",
       "      <td>1.0+0.0j</td>\n",
       "    </tr>\n",
       "  </tbody>\n",
       "</table>\n",
       "</div>"
      ],
      "text/plain": [
       "                0         1         2         3\n",
       "(+, +)   0.0+0.0j  1.0+0.0j  0.0+0.0j  0.0+0.0j\n",
       "(+, -)   0.7+0.0j  0.0+0.0j  0.7+0.0j  0.0+0.0j\n",
       "(-, +)  -0.7+0.0j  0.0+0.0j  0.7+0.0j  0.0+0.0j\n",
       "(-, -)   0.0+0.0j  0.0+0.0j  0.0+0.0j  1.0+0.0j"
      ]
     },
     "execution_count": 117,
     "metadata": {},
     "output_type": "execute_result"
    }
   ],
   "source": [
    "prettify_states(eketsJ, mm_list)"
   ]
  },
  {
   "cell_type": "markdown",
   "metadata": {},
   "source": [
    "Keeping in mind that ± corresponds to $m= ±1/2$ we have:\n",
    "\n",
    "- $\\mathbf{0} = 0.7|+, - \\rangle - 0.7|-, + \\rangle = |0, 0 \\rangle$ ($m=0$ because + and - cancel out, $j=0$ because of anti-parallel addition of states)\n",
    "- $\\mathbf{1} = \\ \\ \\ \\ \\  |+,+ \\rangle \\ \\ \\ \\ \\ \\ \\ \\ \\ \\ \\ \\ \\ \\ \\ \\ \\ \\ \\ \\ = |1, 1 \\rangle$ \n",
    "- $\\mathbf{2} = 0.7|+, - \\rangle + 0.7|-, + \\rangle = |1, 0 \\rangle$ ($m=0$ because + and - cancel out, $j=1$ because of parallel addition of states)\n",
    "- $\\mathbf{3} =  \\ \\ \\ \\ \\  |-,- \\rangle \\ \\ \\ \\ \\ \\ \\ \\ \\ \\ \\ \\ \\ \\ \\ \\ \\ \\ \\ \\  = |1, -1 \\rangle$ "
   ]
  },
  {
   "cell_type": "markdown",
   "metadata": {},
   "source": [
    "You might have also noticed that these eigenstates are identical to the mysterious entangled basis that we encountered earlier. This implication is that we might do a better job of describing many TSS interacting with some field by working in a basis corresponding to states of constant \"angular momentum\".\n",
    "\n",
    "Let's have a go and running a simulation using this basis (often called the [Dicke basis](https://journals.aps.org/pr/pdf/10.1103/PhysRev.93.99) - see also [here](http://dx.doi.org/10.1002/qute.201800043)) and see what we find."
   ]
  },
  {
   "cell_type": "markdown",
   "metadata": {},
   "source": [
    "## Simulation in the Dicke basis"
   ]
  },
  {
   "cell_type": "markdown",
   "metadata": {},
   "source": [
    "We've already found the stationary states for a static perturbation. Let's proceed as we did in [tutorial 2](https://nbviewer.jupyter.org/github/project-ida/two-state-quantum-systems/blob/master/02-perturbing-a-two-state-system.ipynb#2.2-Time-dependent-perturbation) and introduce a resonant time dependent perturbation. Specifically, the Hamiltonian will be:\n",
    "\n",
    "$$\n",
    "H = A J_{z} + \\delta J_{x} \\cos(\\omega t)\n",
    "$$\n",
    "\n",
    "with $\\omega = A$.\n",
    "\n",
    "The idea is to start the system off in a stationary state of the unperturbed ($\\delta=0$) system and then see what happens when we make $\\delta= 0.001$. When the system depends explicitly on time, the energy of the system in not conserved and so the system will evolve away from where it started.  Although $\\delta$ is small, we know from our previous experience in tutorial 2 that because the time-dependence is resonant, we can expect the changes in time to be significant.\n",
    "\n",
    "QuTiP has an easy way for us to create $J$ operators in the Dicke basis . We have used it already [`jspin`](http://qutip.org/docs/latest/apidoc/functions.html#qutip.piqs.jspin) - this time we won't need to use the \"basis\" parameter."
   ]
  },
  {
   "cell_type": "code",
   "execution_count": 894,
   "metadata": {},
   "outputs": [],
   "source": [
    "J = jspin(2)"
   ]
  },
  {
   "cell_type": "markdown",
   "metadata": {},
   "source": [
    "In this Dicke basis, the states are odered from high to low in $|j, m\\rangle$. We can therefore write the ordered list of states `jm_list` as:"
   ]
  },
  {
   "cell_type": "code",
   "execution_count": 1018,
   "metadata": {},
   "outputs": [
    {
     "name": "stdout",
     "output_type": "stream",
     "text": [
      "[(1.0, 1.0), (1.0, 0.0), (1.0, -1.0), (0.0, -0.0)]\n"
     ]
    }
   ],
   "source": [
    "jm_list = []\n",
    "js = j_vals(2)[::-1]\n",
    "for j in js:\n",
    "    ms = m_vals(j)[::-1]\n",
    "    for m in ms:\n",
    "        jm_list.append((j,m))      \n",
    "print(jm_list)"
   ]
  },
  {
   "cell_type": "markdown",
   "metadata": {},
   "source": [
    "Because we have a time dependent Hamiltonian, we need to use QuTiP's [\"string based method\"](http://qutip.org/docs/latest/guide/dynamics/dynamics-time.html#string-format-method) to evolve the system (as we did in tutorial 2)."
   ]
  },
  {
   "cell_type": "code",
   "execution_count": 1032,
   "metadata": {},
   "outputs": [],
   "source": [
    "delta = 0.001\n",
    "A = 0.1\n",
    "\n",
    "H0 = A*J[2]  # Unperturbed system\n",
    "\n",
    "H1 =  delta*J[0] # Perturbation\n",
    "\n",
    "H_list = [H0,[H1,'cos(w*t)']]\n",
    "\n",
    "times = np.linspace(0.0, 20000.0, 1000) \n",
    "\n",
    "evals, ekets = H0.eigenstates()  # Find stationary states of unperturbed system\n",
    "\n",
    "psi0 = ekets[3] # Start the system in the highest energy state i.e. level_3\n",
    "\n",
    "result = sesolve(H_list, psi0, times, args={'w':A})"
   ]
  },
  {
   "cell_type": "markdown",
   "metadata": {},
   "source": [
    "As in tutorials 1 and 2, we need to do some post processing of the results of `sesolve` in order to calculate the probabilities from the state vector and also make things easier to plot.\n",
    "\n",
    "In addition, we need to transform the state vector into the basis consisting of stationary states of $H_0$ in order to see how the system is moving from one energy state to another.\n",
    "\n",
    "We'll create a function for this so that we might re-use it later."
   ]
  },
  {
   "cell_type": "code",
   "execution_count": 1033,
   "metadata": {},
   "outputs": [],
   "source": [
    "def make_p_psi_arrays(states, basis=None):\n",
    "    \n",
    "    # Create empty numpy arrays to hold psi and P\n",
    "    num_states = states[0].shape[0]\n",
    "    num_psi = len(states)\n",
    "    psi = np.zeros([num_psi, num_states], dtype=\"complex128\")\n",
    "    P = np.zeros([num_psi, num_states])\n",
    "    \n",
    "    # If we add a list of basis states then psi will be transformed into that state before the\n",
    "    # probabilities are calculated\n",
    "    if basis is None:\n",
    "        for i, state in enumerate(states):\n",
    "            psi[i,:] = np.transpose(state)\n",
    "            P[i,:] = np.abs(psi[i,:]*np.conj(psi[i,:]))\n",
    "    else:\n",
    "        for i, state in enumerate(states):\n",
    "            transformed_state = state.transform(basis)\n",
    "            psi[i,:] = np.transpose(transformed_state)\n",
    "            P[i,:] = np.abs(psi[i,:]*np.conj(psi[i,:]))\n",
    "\n",
    "    return  psi, P\n",
    "        "
   ]
  },
  {
   "cell_type": "code",
   "execution_count": 1034,
   "metadata": {},
   "outputs": [],
   "source": [
    "psi, P = make_p_psi_arrays(result.states, ekets) # ekets are the stationary states of H_0"
   ]
  },
  {
   "cell_type": "markdown",
   "metadata": {},
   "source": [
    "Let's put the probability array inside a dataframe to make it easier to plot."
   ]
  },
  {
   "cell_type": "code",
   "execution_count": 1035,
   "metadata": {},
   "outputs": [],
   "source": [
    "df = pd.DataFrame(P, index=times)"
   ]
  },
  {
   "cell_type": "code",
   "execution_count": 1036,
   "metadata": {},
   "outputs": [
    {
     "data": {
      "image/png": "[encoded data removed]",
      "text/plain": [
       "<Figure size 720x576 with 1 Axes>"
      ]
     },
     "metadata": {
      "needs_background": "light"
     },
     "output_type": "display_data"
    }
   ],
   "source": [
    "df.plot(figsize=(10,8), \n",
    "        title = \"$H =A \\ J_z + \\delta \\ J_x \\  \\cos (\\omega t)$     (A=0.1, $\\omega = 0.1$, $\\delta=0.001$)   (Fig 4)\")\n",
    "plt.xlabel(\"Time\")\n",
    "plt.ylabel(\"Probability\");"
   ]
  },
  {
   "cell_type": "markdown",
   "metadata": {},
   "source": [
    "Fig 4 shows us that the system evolves away from the highest energy level 3 and towards the lowest energy level 0 with a high chance (50%) of finding the system in a state of zero energy (level 1) part way through - nothing controversial there.\n",
    "\n",
    "Fig 4 also shows us that energy level 2 is never occupied - this is unexpected. To understand that's going on, we need to look at the stationary states of the unperturbed system in the Dicke basis."
   ]
  },
  {
   "cell_type": "code",
   "execution_count": 1037,
   "metadata": {},
   "outputs": [
    {
     "data": {
      "text/html": [
       "<div>\n",
       "<style scoped>\n",
       "    .dataframe tbody tr th:only-of-type {\n",
       "        vertical-align: middle;\n",
       "    }\n",
       "\n",
       "    .dataframe tbody tr th {\n",
       "        vertical-align: top;\n",
       "    }\n",
       "\n",
       "    .dataframe thead th {\n",
       "        text-align: right;\n",
       "    }\n",
       "</style>\n",
       "<table border=\"1\" class=\"dataframe\">\n",
       "  <thead>\n",
       "    <tr style=\"text-align: right;\">\n",
       "      <th></th>\n",
       "      <th>0</th>\n",
       "      <th>1</th>\n",
       "      <th>2</th>\n",
       "      <th>3</th>\n",
       "    </tr>\n",
       "  </thead>\n",
       "  <tbody>\n",
       "    <tr>\n",
       "      <th>(1.0, 1.0)</th>\n",
       "      <td>0.0+0.0j</td>\n",
       "      <td>0.0+0.0j</td>\n",
       "      <td>0.0+0.0j</td>\n",
       "      <td>1.0+0.0j</td>\n",
       "    </tr>\n",
       "    <tr>\n",
       "      <th>(1.0, 0.0)</th>\n",
       "      <td>0.0+0.0j</td>\n",
       "      <td>1.0+0.0j</td>\n",
       "      <td>0.0+0.0j</td>\n",
       "      <td>0.0+0.0j</td>\n",
       "    </tr>\n",
       "    <tr>\n",
       "      <th>(1.0, -1.0)</th>\n",
       "      <td>1.0+0.0j</td>\n",
       "      <td>0.0+0.0j</td>\n",
       "      <td>0.0+0.0j</td>\n",
       "      <td>0.0+0.0j</td>\n",
       "    </tr>\n",
       "    <tr>\n",
       "      <th>(0.0, -0.0)</th>\n",
       "      <td>0.0+0.0j</td>\n",
       "      <td>0.0+0.0j</td>\n",
       "      <td>1.0+0.0j</td>\n",
       "      <td>0.0+0.0j</td>\n",
       "    </tr>\n",
       "  </tbody>\n",
       "</table>\n",
       "</div>"
      ],
      "text/plain": [
       "                    0         1         2         3\n",
       "(1.0, 1.0)   0.0+0.0j  0.0+0.0j  0.0+0.0j  1.0+0.0j\n",
       "(1.0, 0.0)   0.0+0.0j  1.0+0.0j  0.0+0.0j  0.0+0.0j\n",
       "(1.0, -1.0)  1.0+0.0j  0.0+0.0j  0.0+0.0j  0.0+0.0j\n",
       "(0.0, -0.0)  0.0+0.0j  0.0+0.0j  1.0+0.0j  0.0+0.0j"
      ]
     },
     "execution_count": 1037,
     "metadata": {},
     "output_type": "execute_result"
    }
   ],
   "source": [
    "prettify_states(ekets,jm_list)"
   ]
  },
  {
   "cell_type": "markdown",
   "metadata": {},
   "source": [
    "We can see that the stationary states of the unperturbed system are the same as the Dicke basis states i.e. the states of constant energy and constant angular momentum [share a common basis](https://ocw.mit.edu/courses/physics/8-04-quantum-physics-i-spring-2013/study-materials/MIT8_04S13_OnCommEigenbas.pdf). This is only possible if the commutator between the operators is zero - let's check."
   ]
  },
  {
   "cell_type": "code",
   "execution_count": 1041,
   "metadata": {},
   "outputs": [
    {
     "data": {
      "text/latex": [
       "Quantum object: dims = [[4], [4]], shape = (4, 4), type = oper, isherm = True\\begin{equation*}\\left(\\begin{array}{*{11}c}0.0 & 0.0 & 0.0 & 0.0\\\\0.0 & 0.0 & 0.0 & 0.0\\\\0.0 & 0.0 & 0.0 & 0.0\\\\0.0 & 0.0 & 0.0 & 0.0\\\\\\end{array}\\right)\\end{equation*}"
      ],
      "text/plain": [
       "Quantum object: dims = [[4], [4]], shape = (4, 4), type = oper, isherm = True\n",
       "Qobj data =\n",
       "[[0. 0. 0. 0.]\n",
       " [0. 0. 0. 0.]\n",
       " [0. 0. 0. 0.]\n",
       " [0. 0. 0. 0.]]"
      ]
     },
     "execution_count": 1041,
     "metadata": {},
     "output_type": "execute_result"
    }
   ],
   "source": [
    "H = H0 + H1\n",
    "J2 = J[0]*J[0] + J[1]*J[1] + J[2]*J[2]\n",
    "commutator(H,J2)"
   ]
  },
  {
   "cell_type": "markdown",
   "metadata": {},
   "source": [
    "The zero commutator of $J^2$ with the Hamiltonian means something more - it means that angular momentum is conserved over time, i.e. if we start in a state of a particular $j$ then we can't move to a new $j$. This explains the flat line in Fig 4. We started the simulation in energy level 3 (aka $|1, 1 \\rangle$) but the system is incapable of going level 2 (aka $|0, 0 \\rangle$) because it has a different angular momentum $j$.\n",
    "\n",
    "We can confirm this by starting the system off instead in level 2:"
   ]
  },
  {
   "cell_type": "code",
   "execution_count": 1044,
   "metadata": {},
   "outputs": [],
   "source": [
    "delta = 0.001\n",
    "A = 0.1\n",
    "\n",
    "H0 = A*J[2]  # Unperturbed system\n",
    "\n",
    "H1 =  delta*J[0] # Perturbation\n",
    "\n",
    "H_list = [H0,[H1,'cos(w*t)']]\n",
    "\n",
    "times = np.linspace(0.0, 20000.0, 1000) \n",
    "\n",
    "evals, ekets = H0.eigenstates()  # Find stationary states of unperturbed system\n",
    "\n",
    "psi0 = ekets[2] \n",
    "\n",
    "result = sesolve(H_list, psi0, times, args={'w':A})"
   ]
  },
  {
   "cell_type": "code",
   "execution_count": 1045,
   "metadata": {},
   "outputs": [],
   "source": [
    "psi, P = make_p_psi_arrays(result.states, ekets) # ekets are the stationary states of H_0"
   ]
  },
  {
   "cell_type": "code",
   "execution_count": 1046,
   "metadata": {},
   "outputs": [],
   "source": [
    "df = pd.DataFrame(P, index=times)"
   ]
  },
  {
   "cell_type": "code",
   "execution_count": 1048,
   "metadata": {},
   "outputs": [
    {
     "data": {
      "image/png": "[encoded data removed]",
      "text/plain": [
       "<Figure size 720x576 with 1 Axes>"
      ]
     },
     "metadata": {
      "needs_background": "light"
     },
     "output_type": "display_data"
    }
   ],
   "source": [
    "df.plot(figsize=(10,8), \n",
    "        title = \"$H =A \\ J_z + \\delta \\ J_x \\  \\cos (\\omega t)$     (A=0.1, $\\omega = 0.1$, $\\delta=0.001$)   (Fig 5)\")\n",
    "plt.xlabel(\"Time\")\n",
    "plt.ylabel(\"Probability\");"
   ]
  },
  {
   "cell_type": "markdown",
   "metadata": {},
   "source": [
    "Fig 5 shows that the system doesn't change in time. This is because there is only 1 state with $j=0$, namely |0,0> and so there is nowhere for the state to evolve to without violating the conservation of \"angular momentum\". I put this i quotation marks to remind us that it's not really angular momentum, but something that is mathematically equivalent. Some people call $j$ the Dicke cooperation number to remind us of this distinction."
   ]
  },
  {
   "cell_type": "code",
   "execution_count": null,
   "metadata": {},
   "outputs": [],
   "source": []
  }
 ],
 "metadata": {
  "jupytext": {
   "formats": "ipynb,src//md"
  },
  "kernelspec": {
   "display_name": "Python 3",
   "language": "python",
   "name": "python3"
  },
  "language_info": {
   "codemirror_mode": {
    "name": "ipython",
    "version": 3
   },
   "file_extension": ".py",
   "mimetype": "text/x-python",
   "name": "python",
   "nbconvert_exporter": "python",
   "pygments_lexer": "ipython3",
   "version": "3.7.1"
  }
 },
 "nbformat": 4,
 "nbformat_minor": 4
}
