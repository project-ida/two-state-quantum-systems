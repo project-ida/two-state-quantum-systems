{
 "cells": [
  {
   "cell_type": "markdown",
   "id": "b0aa3fb3-ffbe-4935-8894-3ab032b11e9d",
   "metadata": {},
   "source": [
    "<a href=\"https://colab.research.google.com/github/project-ida/two-state-quantum-systems/blob/master/06-many-two-state-systems.ipynb\" target=\"_parent\"><img src=\"https://colab.research.google.com/assets/colab-badge.svg\" alt=\"Open In Colab\"/></a> &nbsp;&nbsp;&nbsp;&nbsp;&nbsp;&nbsp;&nbsp;&nbsp;&nbsp;&nbsp; <a href=\"https://nbviewer.jupyter.org/github/project-ida/two-state-quantum-systems/blob/master/06-many-two-state-systems.ipynb\" target=\"_parent\"><img src=\"https://nbviewer.jupyter.org/static/img/nav_logo.svg\" alt=\"Open In nbviewer\" width=\"100\"/></a>"
   ]
  },
  {
   "cell_type": "markdown",
   "id": "f941a103-a68c-4243-ab34-da00b2a71b37",
   "metadata": {},
   "source": [
    "# 7 - Superstuff"
   ]
  },
  {
   "cell_type": "markdown",
   "id": "c321bd17-9146-4db9-ba51-ed5180414c98",
   "metadata": {},
   "source": [
    "Last time, we discovered that the addition of many TLS can accelerate spontaneous emission and excitation transfer. We also found that this acceleration requires that we consider \"delocalised\" states in which the excitations are shared among all of the TLS.\n",
    "\n",
    "In this tutorial, we'll explore these delocalised states in more depth to find out just how much acceleration we can get 🚀 .\n",
    "\n"
   ]
  },
  {
   "cell_type": "code",
   "execution_count": 1,
   "id": "9b7baccb-1540-43ef-bf6b-6ce11cf77c28",
   "metadata": {},
   "outputs": [],
   "source": [
    "# Libraries and helper functions\n",
    "\n",
    "%matplotlib inline\n",
    "import matplotlib.pyplot as plt\n",
    "from IPython.display import Image\n",
    "\n",
    "import numpy as np\n",
    "from itertools import product\n",
    "import pandas as pd\n",
    "import warnings\n",
    "warnings.filterwarnings('ignore')\n",
    "\n",
    "from qutip import *\n",
    "from qutip.piqs import *\n",
    "\n",
    "from qutip.cy.piqs import j_min, j_vals, m_vals\n",
    "\n",
    "from scipy.stats import linregress\n",
    "from scipy.signal import find_peaks\n",
    "\n",
    "\n",
    "# The helper file below brings functions created in previous tutorials\n",
    "from libs.helper_06_tutorial import *"
   ]
  },
  {
   "cell_type": "markdown",
   "id": "633ae2d1-65a2-4e59-873b-6cc189335c05",
   "metadata": {},
   "source": [
    "## 7.1 - Recap"
   ]
  },
  {
   "cell_type": "markdown",
   "id": "3e7f0128-a38d-4457-9028-2b32ed110968",
   "metadata": {},
   "source": [
    "So far, we've been describing the state of our system of bosons and TLS by specifying the number of bosons present ($n$) and the excitation of every TLS ($\\pm$). For example, for 0 bosons and 4 TLS (with the first TLS exctied and the other three in their ground state), we would describe the state by:\n",
    "\n",
    "$|0,+,-,-,- \\rangle$\n",
    "\n",
    "Last time, we saw that such a state did not result in accelerated rates of spontaneous emission or excitation transfer when compared to rates in systems of 1 and 2 TLS respectively. However, when we set up the system in the \"delocalised\" state give by:\n",
    "\n",
    "$\\Psi_0 \\sim $ $|0,+,-,-,- \\rangle$ + $|0,-,+,-,- \\rangle$ + $|0,-,-,+,- \\rangle$ + $|0,-,-,-,+ \\rangle$\n",
    "\n",
    "we did see accelerated processes. We're therefore encouraged to describe our system less in terms of individual TLS, but as a collective. Dispensing with the details of every TLS will also save us from the computational \n",
    "\n",
    "In an ideal world, we'd like to have a more convenient way to set up these delocalised states\n",
    "\n",
    "to be able to set up such a delocalised state in the following way:\n",
    "\n",
    "$|n,m \\rangle$ - where $n$ is the boson number and $m$ is the number of TLS that are excited.\n",
    "\n",
    "This would make things \n",
    "\n",
    "Setting up the initial state in a delocalised way is not only a pain in our $\\pm$ description, but we'll also not be able to simulate beyond about 10 TLS because of the exponential scaling  of number of possible states ($2^N$). Ideally, we'd like to describe our system as:\n",
    "\n"
   ]
  },
  {
   "cell_type": "markdown",
   "id": "8c461fab-d188-4214-9da5-a5871cf56005",
   "metadata": {},
   "source": [
    "## 7.2 Dicke model"
   ]
  },
  {
   "cell_type": "code",
   "execution_count": null,
   "id": "a8ba0210-fc3e-4544-984f-ab8ac82ea8bc",
   "metadata": {},
   "outputs": [],
   "source": []
  }
 ],
 "metadata": {
  "kernelspec": {
   "display_name": "Python 3 (ipykernel)",
   "language": "python",
   "name": "python3"
  },
  "language_info": {
   "codemirror_mode": {
    "name": "ipython",
    "version": 3
   },
   "file_extension": ".py",
   "mimetype": "text/x-python",
   "name": "python",
   "nbconvert_exporter": "python",
   "pygments_lexer": "ipython3",
   "version": "3.11.4"
  }
 },
 "nbformat": 4,
 "nbformat_minor": 5
}
