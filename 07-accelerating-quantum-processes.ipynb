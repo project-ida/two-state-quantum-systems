{
 "cells": [
  {
   "cell_type": "markdown",
   "id": "0baaef7c-39d8-4b66-a511-1de212d8b1eb",
   "metadata": {},
   "source": [
    "# 7 - Accelerating quantum processes"
   ]
  },
  {
   "cell_type": "markdown",
   "id": "279c670c-412c-42a6-abe1-4ca1d212c18c",
   "metadata": {},
   "source": [
    "Last time, we saw hints of being able to accelerate quantum processes like spontaneous emission and excitation transfer by \"delocalising\" excitations across many TLS. \n",
    "\n",
    "In this tutorial, we'll see just how much speedup we can get by developing a description of many TLS (called \"Dicke states\") that allows us to set up delocalised excitations easily also helps us avoid getting stuck in a computational bottleneck. \n",
    "\n"
   ]
  },
  {
   "cell_type": "code",
   "execution_count": 3,
   "id": "7eda1557-41b7-47b7-949a-7489f225a78d",
   "metadata": {},
   "outputs": [],
   "source": [
    "# Libraries and helper functions\n",
    "\n",
    "%matplotlib inline\n",
    "import matplotlib.pyplot as plt\n",
    "from IPython.display import Image\n",
    "\n",
    "import numpy as np\n",
    "from itertools import product\n",
    "import pandas as pd\n",
    "import warnings\n",
    "warnings.filterwarnings('ignore')\n",
    "\n",
    "from qutip import *\n",
    "from qutip.piqs import *\n",
    "\n",
    "from scipy.stats import linregress\n",
    "from scipy.signal import find_peaks\n",
    "\n",
    "# The helper file below brings functions created in previous tutorials and adds an extra one\n",
    "from libs.helper_06_tutorial import *"
   ]
  },
  {
   "cell_type": "code",
   "execution_count": null,
   "id": "1de8ce7c-be77-49ec-998c-cfc79aa584f8",
   "metadata": {},
   "outputs": [],
   "source": []
  }
 ],
 "metadata": {
  "kernelspec": {
   "display_name": "Python 3 (ipykernel)",
   "language": "python",
   "name": "python3"
  },
  "language_info": {
   "codemirror_mode": {
    "name": "ipython",
    "version": 3
   },
   "file_extension": ".py",
   "mimetype": "text/x-python",
   "name": "python",
   "nbconvert_exporter": "python",
   "pygments_lexer": "ipython3",
   "version": "3.11.4"
  }
 },
 "nbformat": 4,
 "nbformat_minor": 5
}
