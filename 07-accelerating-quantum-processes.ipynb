{
 "cells": [
  {
   "cell_type": "markdown",
   "id": "0baaef7c-39d8-4b66-a511-1de212d8b1eb",
   "metadata": {},
   "source": [
    "# 7 - Accelerating quantum processes"
   ]
  },
  {
   "cell_type": "markdown",
   "id": "279c670c-412c-42a6-abe1-4ca1d212c18c",
   "metadata": {},
   "source": [
    "Last time, we saw hints of being able to accelerate quantum processes like spontaneous emission and excitation transfer by \"delocalising\" excitations across many TLS. \n",
    "\n",
    "In this tutorial, we'll see just how much speedup we can get by developing a description of many TLS (called \"Dicke states\") that allows us to set up delocalised excitations easily and also helps us avoid getting stuck in a computational bottleneck. \n",
    "\n"
   ]
  },
  {
   "cell_type": "code",
   "execution_count": 9,
   "id": "52309eca-119a-44d9-a81f-38ff557f0935",
   "metadata": {},
   "outputs": [],
   "source": [
    "# Libraries and helper functions\n",
    "\n",
    "%matplotlib inline\n",
    "import matplotlib.pyplot as plt\n",
    "from IPython.display import Image\n",
    "\n",
    "import numpy as np\n",
    "from itertools import product\n",
    "import pandas as pd\n",
    "import warnings\n",
    "warnings.filterwarnings('ignore')\n",
    "\n",
    "from qutip import *\n",
    "from qutip.piqs import *\n",
    "from qutip.cy.piqs import j_min, j_vals, m_vals\n",
    "\n",
    "from scipy.stats import linregress\n",
    "from scipy.signal import find_peaks\n",
    "\n",
    "# The helper file below brings functions created in previous tutorials\n",
    "from libs.helper_06_tutorial import *"
   ]
  },
  {
   "cell_type": "markdown",
   "id": "5a9ee6d4-86d4-406f-95e7-6826ba9f63dc",
   "metadata": {},
   "source": [
    "## 7.1 -  Recap"
   ]
  },
  {
   "cell_type": "markdown",
   "id": "e97aaffb-0d62-47bc-8af6-e9491404113c",
   "metadata": {},
   "source": [
    "So far, we've described a combined TLS + quantum field using a notation like, e.g. $|0,+,-,-,- \\rangle$. The first number (in this case $0$) tells us the number of bosons present (this is often referred to as a [Fock state](https://en.wikipedia.org/wiki/Fock_state)), and the $\\pm$ tell us what state each of the $N$ TLS are in ($+$ excited, $-$ ground). This is a complete description in the sense that every configuration of the system can be described as a mixture of these states. For example, a single excitation delocalised across 4 TLS with no bosons can be described by:\n",
    "\n",
    "$\\Psi_0 \\sim | 0, +, -, -, - \\rangle + | 0, -, +, -, - \\rangle + | 0, -, -, +, - \\rangle + | 0, -, -, -, + \\rangle $\n",
    "\n",
    "\n",
    "The issue with this description is that, for a specific number of bosons, there are $2^N$ possibilities for the state of the TLS and that means it becomes infeasible to simulate more than about 10 TLS.\n",
    "\n",
    "Because delocalised excitations are of most interest to us today, we don't actually need a lot of the detail that the complete description holds. Superficially, we'd be quite happy with a simpler description like $| n, n_+ \\rangle$ - where $n$ is the boson number and $n_+$ is the number of excitations. There are only $N+1$  possibilities for the state of the TLS in this case - this is much more favourable from a computational perspective. \n",
    "\n",
    "Let's see if we can make this simpler description rigorous enough to help us with simulating many TLS."
   ]
  },
  {
   "cell_type": "markdown",
   "id": "03ff06a0-e943-45f3-88d0-d814afb5b903",
   "metadata": {},
   "source": [
    "## 7.2 - Angular momentum $J$ "
   ]
  },
  {
   "cell_type": "markdown",
   "id": "9a948e99-bf54-41c0-8765-b467b59c6321",
   "metadata": {},
   "source": [
    "Creating a description of delocalised excitations is not quite as simple as $| n, n_+ \\rangle$. For example, the following delocalised states contain the same number of delocalised excitations but they're different:\n",
    "\n",
    "$\\Psi_1 \\sim | 0, +, - \\rangle + | 0, -, + \\rangle $"
   ]
  },
  {
   "cell_type": "code",
   "execution_count": 58,
   "id": "d213ed1e-84f9-4bd3-9c1f-b260d369153b",
   "metadata": {},
   "outputs": [
    {
     "data": {
      "text/latex": [
       "Quantum object: dims = [[2, 2], [1, 1]], shape = (4, 1), type = ket $ \\\\ \\left(\\begin{matrix}0.0\\\\0.707\\\\0.707\\\\0.0\\\\\\end{matrix}\\right)$"
      ],
      "text/plain": [
       "Quantum object: dims = [[2, 2], [1, 1]], shape = (4, 1), type = ket\n",
       "Qobj data =\n",
       "[[0.        ]\n",
       " [0.70710678]\n",
       " [0.70710678]\n",
       " [0.        ]]"
      ]
     },
     "execution_count": 58,
     "metadata": {},
     "output_type": "execute_result"
    }
   ],
   "source": [
    "psi_1 = basis([2,2], [0,1]) + basis([2,2], [1,0])\n",
    "psi_1 = psi_1.unit()\n",
    "psi_1"
   ]
  },
  {
   "cell_type": "markdown",
   "id": "258f64ea-9ecb-481e-830e-834c67684b23",
   "metadata": {},
   "source": [
    "$\\Psi_2 \\sim | 0, +, - \\rangle - | 0, -, + \\rangle $"
   ]
  },
  {
   "cell_type": "code",
   "execution_count": 59,
   "id": "6b5d15df-9f54-4fe9-ab32-d313e63553b3",
   "metadata": {},
   "outputs": [
    {
     "data": {
      "text/latex": [
       "Quantum object: dims = [[2, 2], [1, 1]], shape = (4, 1), type = ket $ \\\\ \\left(\\begin{matrix}0.0\\\\0.707\\\\-0.707\\\\0.0\\\\\\end{matrix}\\right)$"
      ],
      "text/plain": [
       "Quantum object: dims = [[2, 2], [1, 1]], shape = (4, 1), type = ket\n",
       "Qobj data =\n",
       "[[ 0.        ]\n",
       " [ 0.70710678]\n",
       " [-0.70710678]\n",
       " [ 0.        ]]"
      ]
     },
     "execution_count": 59,
     "metadata": {},
     "output_type": "execute_result"
    }
   ],
   "source": [
    "psi_2 = basis([2,2], [0,1]) - basis([2,2], [1,0])\n",
    "psi_2 = psi_2.unit()\n",
    "psi_2"
   ]
  },
  {
   "cell_type": "markdown",
   "id": "e041a014-12bb-4d90-8ea7-2d13ad63a7cc",
   "metadata": {},
   "source": [
    "What makes these states physically different is related to what we normally think of as their angular momentum. We're therefore going to need to add some angular momentum information to our states. \n",
    "\n",
    "Ultimately, our states are going to need to look like:\n",
    "\n",
    "$\\Psi \\sim | n, j, m \\rangle$\n",
    "\n",
    "Where:\n",
    "- $n$ - boson number = $0,1,2,3,...$\n",
    "- $j$ - [total angular momentum quantum number](https://en.wikipedia.org/wiki/Total_angular_momentum_quantum_number) = $0,\\frac{1}{2},1,\\frac{3}{2},2,\\frac{5}{2}, 3, ...$\n",
    "- $m$ - [magnetic quantum number](https://en.wikipedia.org/wiki/Magnetic_quantum_number) = $j, (j-1), (j-2), ..., -(j-2), -(j-1), -j$\n",
    "\n",
    "It's not obvious where all those numbers come from and how they can be mapped to e.g. 4 TLS with a single delocalised excitation? So, let's figure that out."
   ]
  },
  {
   "cell_type": "markdown",
   "id": "fc789d6c-320d-41df-9b5f-1c54057979f0",
   "metadata": {},
   "source": [
    "### Angular momentum numbers\n",
    "\n",
    "Although we don't explicitly have a description of angular momentum in our TLS, you may recall from tutorial 2 that our system is mathematically equivalent to spin 1/2 particles which do have angular momentum. We can also see this explicitly in the language we've been using to describe our Hamiltonian:\n",
    "\n",
    "$$H =  \\Delta E J_{Nz} + \\hbar\\omega\\left(a^{\\dagger}a +\\frac{1}{2}\\right) + U\\left( a^{\\dagger} + a \\right)2J_{Nx}$$"
   ]
  },
  {
   "cell_type": "code",
   "execution_count": 4,
   "id": "699bf71b-0d02-4c70-b542-6f8ee063f83d",
   "metadata": {},
   "outputs": [],
   "source": [
    "H_latex = \"$H = \\Delta E J_{Nz} + \\hbar\\omega(a^{{\\dagger}}a +1/2) + U( a^{{\\dagger}} + a )2J_{Nx}$ \""
   ]
  },
  {
   "cell_type": "markdown",
   "id": "228c1ba7-c48a-4677-9478-2730935b1672",
   "metadata": {},
   "source": [
    "where:\n",
    "\n",
    "- The [total angular momentum operators](https://www2.ph.ed.ac.uk/~ldeldebb/docs/QM/lect15.pdf) ($J$) for $N$ TLS:\n",
    "\n",
    "$$J_{Nx} = \\overset{N}{\\underset{n=1}{\\Sigma}} S_{n x} \\,\\,\\,\\,\\,\\, J_{Ny} = \\overset{N}{\\underset{n=1}{\\Sigma}} S_{n y} \\,\\,\\,\\,\\,\\, J_{Nz} = \\overset{N}{\\underset{n=1}{\\Sigma}} S_{n z}$$\n",
    "\n",
    "- The spin operators ($S$) for a [spin 1/2 particle](https://en.wikipedia.org/wiki/Spin-%C2%BD#Observables):\n",
    "\n",
    "$$\n",
    "S_x = \\frac{1}{2}\\sigma_x \\,\\,\\,\\,\\,\\, S_y = \\frac{1}{2}\\sigma_y \\,\\,\\,\\,\\,\\, S_z = \\frac{1}{2}\\sigma_z\n",
    "$$"
   ]
  },
  {
   "cell_type": "markdown",
   "id": "5901820c-737b-4388-bef4-6f1ce37dd705",
   "metadata": {},
   "source": [
    "We'll continue to talk about angular momentum here to keep as sense of familiarity. Eventually we'll move to a more abstract way of thinking about $J$, but that can wait.\n",
    "\n",
    "So far, we've seen that the x and z \"components\" of the total angular momentum operator $J_x$ and $J_z$ are used in the Hamiltonian. I use quote marks around \"component\" because this is vector language which is not obviously applicable to operators. It turns out, however, that we can (in some sense) treat the angular momentum operator as a vector (see [spinors](https://en.wikipedia.org/wiki/Spinors_in_three_dimensions)). We can create the squared \"magnitude\" of the total angular momentum operator ($J^2$) much like we would a vector by summing of the squares of the components.\n",
    "\n",
    "Let's see this for the case of 2 TLS."
   ]
  },
  {
   "cell_type": "code",
   "execution_count": 68,
   "id": "bfafcbb4-d231-4744-bcff-23e87f4e402d",
   "metadata": {},
   "outputs": [],
   "source": [
    "Jx, Jy, Jz = jspin(2, basis=\"uncoupled\")\n",
    "J2 = Jx*Jx + Jy*Jy + Jz*Jz"
   ]
  },
  {
   "cell_type": "markdown",
   "id": "e71b7c4a-a71e-40e6-9af7-63dbc338fc42",
   "metadata": {},
   "source": [
    "What does this operator tell us about how we might go about differentiating between states like $\\Psi_1$ and $\\Psi_2$ that have the same amount of delocalised excitation?\n",
    "\n",
    "If $\\Psi_1$ and $\\Psi_2$ are eigenstates of $J^2$ (i.e. $J^2 \\Psi = \\lambda \\Psi$) then those states have specific, well defined, angular momentum that's characterised by the constant (eigenvalue) $\\lambda$. That constant could then be used to label our states."
   ]
  },
  {
   "cell_type": "code",
   "execution_count": 66,
   "id": "6723fcee-3451-4b14-8f17-2f51e8b34ca0",
   "metadata": {},
   "outputs": [
    {
     "data": {
      "text/latex": [
       "Quantum object: dims = [[2, 2], [1, 1]], shape = (4, 1), type = ket $ \\\\ \\left(\\begin{matrix}0.0\\\\1.414\\\\1.414\\\\0.0\\\\\\end{matrix}\\right)$"
      ],
      "text/plain": [
       "Quantum object: dims = [[2, 2], [1, 1]], shape = (4, 1), type = ket\n",
       "Qobj data =\n",
       "[[0.        ]\n",
       " [1.41421356]\n",
       " [1.41421356]\n",
       " [0.        ]]"
      ]
     },
     "execution_count": 66,
     "metadata": {},
     "output_type": "execute_result"
    }
   ],
   "source": [
    "J2*psi_1"
   ]
  },
  {
   "cell_type": "code",
   "execution_count": 67,
   "id": "4882aeba-34e8-4731-a491-491f0d15a1f0",
   "metadata": {},
   "outputs": [
    {
     "data": {
      "text/latex": [
       "Quantum object: dims = [[2, 2], [1, 1]], shape = (4, 1), type = ket $ \\\\ \\left(\\begin{matrix}0.0\\\\0.0\\\\0.0\\\\0.0\\\\\\end{matrix}\\right)$"
      ],
      "text/plain": [
       "Quantum object: dims = [[2, 2], [1, 1]], shape = (4, 1), type = ket\n",
       "Qobj data =\n",
       "[[0.]\n",
       " [0.]\n",
       " [0.]\n",
       " [0.]]"
      ]
     },
     "execution_count": 67,
     "metadata": {},
     "output_type": "execute_result"
    }
   ],
   "source": [
    "J2*psi_2"
   ]
  },
  {
   "cell_type": "markdown",
   "id": "26ecd0b5-63d9-42db-be4f-e16cb466ba2f",
   "metadata": {},
   "source": [
    "We can therefore see that:\n",
    "- $J^2 \\Psi_1 = 2 \\Psi_1 \\implies$  $\\lambda = 2$\n",
    "- $J^2 \\Psi_2 = 0 \\Psi_2 \\implies$ $\\lambda = 0$"
   ]
  },
  {
   "cell_type": "markdown",
   "id": "36348b45-9973-4a20-914c-1268692ef62c",
   "metadata": {},
   "source": [
    "Although not immediately obvious, these eigenvalues of $J^2$ [always have the form $j(j+1)$](https://www.feynmanlectures.caltech.edu/II_34.html#Ch34-S7), where $j$ is either an integer or half integer. "
   ]
  },
  {
   "cell_type": "code",
   "execution_count": 63,
   "id": "e561edd4-2af3-41aa-8de5-c470fed5ff17",
   "metadata": {},
   "outputs": [],
   "source": [
    "evalsJ, eketsJ = J2.eigenstates()"
   ]
  },
  {
   "cell_type": "code",
   "execution_count": 65,
   "id": "8f15fa31-c1fa-4d65-a6aa-3241912be2e3",
   "metadata": {},
   "outputs": [
    {
     "data": {
      "text/plain": [
       "array([0., 2., 2., 2.])"
      ]
     },
     "execution_count": 65,
     "metadata": {},
     "output_type": "execute_result"
    }
   ],
   "source": [
    "evalsJ"
   ]
  },
  {
   "cell_type": "markdown",
   "id": "832932a6-cb40-4af7-8798-f6841038d894",
   "metadata": {},
   "source": [
    "Without explicitly looking at all the eigenstates of $J^2$, we know there must be:\n",
    "- 1 state with $j=0$ (we've seen that already with $\\Psi_1$)\n",
    "- 3 states with $j=1$ (we've seen one of those with $\\Psi_2$)"
   ]
  },
  {
   "cell_type": "markdown",
   "id": "e0d89852-6f75-4a29-8f25-1ce12fff63b4",
   "metadata": {},
   "source": [
    "You might wonder how we're able to have 3 states with the same angular momentum number $j$? They have different $J_z$ - what is known as the \"magnetic quantum number\" often given the label $m$. \n",
    "\n",
    "In quantum mechanics, it has been found experimentally that [angular momentum is quantised](https://www.feynmanlectures.caltech.edu/II_34.html#Ch34-S7) in the sense that when its z component is measured it can only take values $m\\hbar$ where $m = j, (j-1), (j-2), ..., -(j-2), -(j-1), -j$. We can see this explicitly by looking at the eigenvalues of $J_z$."
   ]
  },
  {
   "cell_type": "code",
   "execution_count": 71,
   "id": "c05c2859-cbd6-48f7-886b-2bf79c2fe9d5",
   "metadata": {},
   "outputs": [],
   "source": [
    "evalsM, eketsM = Jz.eigenstates()"
   ]
  },
  {
   "cell_type": "code",
   "execution_count": 72,
   "id": "557c81ef-d176-45e6-b1f7-818a2aafe174",
   "metadata": {},
   "outputs": [
    {
     "data": {
      "text/plain": [
       "array([-1.,  0.,  0.,  1.])"
      ]
     },
     "execution_count": 72,
     "metadata": {},
     "output_type": "execute_result"
    }
   ],
   "source": [
    "evalsM"
   ]
  },
  {
   "cell_type": "markdown",
   "id": "5eabfa5e-1f83-45be-a2cc-b92623e95014",
   "metadata": {},
   "source": [
    "For $N=2$, the TLS can therefore be described in terms of angular momentum by giving 2 numbers $|j,m\\rangle$:\n",
    "- $| 0, 0 \\rangle$ - this is $\\Psi_1$\n",
    "- $|1, -1 \\rangle$\n",
    "- $|1, 0 \\rangle$ - this is $\\Psi_2$\n",
    "- $|1, 1\\rangle$\n",
    "\n",
    "This is actually a complete description because for 2 TLS there are only 4 states, $| -, - \\rangle$, $| +, - \\rangle$, $| -, + \\rangle$, $| +, + \\rangle$. This is not the case for $N>2$.  In general, we lose the ability to describe every state uniquely when we use this angular momentum description. In other words, there can be many states with the same $j,m$ values (degenerate states). This is ultimately what's going to give us a computational advantage but we do have to be a bit careful as to whether we lose any physics when we do this.\n",
    "> Advanced: Use [`state_degeneracy(N,j)`](https://qutip.org/docs/4.4/apidoc/functions.html?highlight=m_degeneracy#qutip.piqs.state_degeneracy) to calculate the degeneracy of each state. In general there are some subtleties to consider when ignoring degeneracy which might need to be considered depending on the problem at hand (see last paragraph of [Permutational Invariant Quantum Solver](http://qutip.org/docs/latest/guide/dynamics/dynamics-piqs.html)). For now, we don't need to worry about this so we will put a pin in this advanced topic and return to it in a later tutorial.\n",
    "\n",
    "\n",
    "Hopefully you've got a better understanding of these angular momentum numbers. Now we need to link it back to the number of TLS $N$ and the number of delocalised excitations $n_+$."
   ]
  },
  {
   "cell_type": "markdown",
   "id": "5e6592fa-a1ad-43f9-a047-6d072594cc4b",
   "metadata": {},
   "source": [
    "### Dicke states"
   ]
  },
  {
   "cell_type": "markdown",
   "id": "2b2fd219-b3a2-4865-9c5d-8b229076a5fc",
   "metadata": {},
   "source": [
    "Consider 4 TLS with a single delocalised excitation, how can we write this in our new angular momentum description with $j,m$?\n",
    "\n",
    "$m$ is actually very closely related to the number of excitations, it's:\n",
    "\n",
    "$m= \\frac{1}{2}\\left(n_{+} - n_{-} \\right)$\n",
    "\n",
    "where $n_{+}$ is the number of TLS that are excited and $n_{+}$ is the number in the ground state.\n",
    "\n",
    "For 4 TLS with a single delocalised excitation, we'd have $m = \\frac{1}{2}\\left(1 - 3 \\right) = -1$. What about $j$?\n",
    "\n",
    "As we saw earlier, there are several $j$'s for a given $m$. In general, the specific $j$, $m$ combinations come from adding up the angular momentum for many single TLS (with $j=1/2$) like vectors of the same length but different (quantised) orientations. The details are somewhat tedious - often involving [formidable lookup tables](http://pdg.lbl.gov/2019/reviews/rpp2019-rev-clebsch-gordan-coefs.pdf). Luckily for us, QuTiP, has some convenient functions (that are somewhat hidden inside of [`qutip.cy.piqs`](https://github.com/qutip/qutip/blob/85632bc66fdcd45be51e1c280ea7577f04761a67/qutip/cy/piqs.pyx)) to help us.\n",
    "- [`j_vals(N)`](https://github.com/qutip/qutip/blob/85632bc66fdcd45be51e1c280ea7577f04761a67/qutip/cy/piqs.pyx#L130) - tells us the different $j$ values for $N$ TLS.\n",
    "- [`m_vals(j)`](https://github.com/qutip/qutip/blob/85632bc66fdcd45be51e1c280ea7577f04761a67/qutip/cy/piqs.pyx#L147) tells us the $m$ values for a given $j$\n",
    "\n",
    "\n",
    "\n"
   ]
  },
  {
   "cell_type": "code",
   "execution_count": 96,
   "id": "9f73460c-83f2-4f60-84bb-ce2af04c634c",
   "metadata": {},
   "outputs": [
    {
     "data": {
      "text/plain": [
       "array([0., 1., 2.])"
      ]
     },
     "execution_count": 96,
     "metadata": {},
     "output_type": "execute_result"
    }
   ],
   "source": [
    "j_vals(4) # Gives the different j's for 4 TLS"
   ]
  },
  {
   "cell_type": "code",
   "execution_count": 100,
   "id": "73fcd9e1-c2b8-40a6-805f-a9ec12fa8c41",
   "metadata": {},
   "outputs": [
    {
     "data": {
      "text/plain": [
       "array([-2, -1,  0,  1,  2])"
      ]
     },
     "execution_count": 100,
     "metadata": {},
     "output_type": "execute_result"
    }
   ],
   "source": [
    "m_vals(2) # Gives us m values for j=2"
   ]
  },
  {
   "cell_type": "code",
   "execution_count": 101,
   "id": "a58475ee-9aaa-443c-b16f-ce1dfbdbed67",
   "metadata": {},
   "outputs": [
    {
     "data": {
      "text/plain": [
       "array([-1,  0,  1])"
      ]
     },
     "execution_count": 101,
     "metadata": {},
     "output_type": "execute_result"
    }
   ],
   "source": [
    "m_vals(1) # Gives us m values for j=1"
   ]
  },
  {
   "cell_type": "code",
   "execution_count": 113,
   "id": "0726244a-3dff-4cd0-837e-c8acbcde519a",
   "metadata": {},
   "outputs": [
    {
     "data": {
      "text/plain": [
       "array([0])"
      ]
     },
     "execution_count": 113,
     "metadata": {},
     "output_type": "execute_result"
    }
   ],
   "source": [
    "m_vals(0) # Gives us m values for j=0"
   ]
  },
  {
   "cell_type": "markdown",
   "id": "73b40f0e-242f-4aca-99fb-7e83458b1f81",
   "metadata": {},
   "source": [
    "We can see that there is an $m=-1$ for $j=2$ and $j=1$. Which one should we pick?"
   ]
  },
  {
   "cell_type": "markdown",
   "id": "fec217d1-b1db-4ecc-9511-42c3a5fc89d8",
   "metadata": {},
   "source": [
    "Because angular momentum is conserved, we have a choice which $j$ value we want to run our simulation with. Once we set the system up with this $j$ it will keep that same $j$.\n",
    "\n",
    "By far the most significant $j$ is the largest $j_{\\max} = N/2$. The largest $j$ corresponds to what's called a `Dicke state`. \n",
    "\n",
    "A Dicke state is a symmetric state, which means if you swap any of the TLS around, the state remains unchanged. For example, consider a single excitation in 4 TLS. The Dicke state looks like:\n",
    "\n",
    "$\\Psi_0 = \\frac{1}{\\sqrt{4}}\\left(| 0, +, -, -, - \\rangle + | 0, -, +, -, - \\rangle + | 0, -, -, +, - \\rangle + | 0, -, -, -, + \\rangle \\right)$\n",
    "\n",
    "Notice that if you swap any two TLS, the state looks the same.\n",
    "\n",
    "The reason why $j_{\\max}$ is most significant is because of the acceleration properties that these Dicke states offer; something people often describe as superradiance and supertransfer. Let's see it in action."
   ]
  },
  {
   "cell_type": "markdown",
   "id": "682347a3-61ba-4748-b694-c1fcdd223340",
   "metadata": {},
   "source": [
    "## 7.2 Superradiance"
   ]
  },
  {
   "cell_type": "markdown",
   "id": "e53c8321-4d73-44b3-9608-2d94a746b8e1",
   "metadata": {},
   "source": [
    "Let's reconsider the case of spontaneous emission. We saw in tutorial 3 that such emission form a TLS can be understood as the result of coupling to a quantised field. The stronger the coupling, the faster the emission occurs (as measured by the Rabi frequency).\n",
    "> Side note: it is worth reiterating that true, irreversible spontaneous emission involves coupling to a continuum of modes. The rates of emission in that case are the sqaure of the rates determined using the Rabi frequency.\n",
    "\n",
    "As you might imagine, the emission rate also depends on the number of TLS that are excited. We might argue, for example, that the rate of emission is simply the sum of the rates of the individual TLS. In other words, we'd expect a factor of N speedup for N TLS that are excited.\n",
    "\n",
    "For example, a state like $ | 0, +, +, +, + \\rangle $ would be expected to radiate 4 times as fast as $| 0, +\\rangle $ because we've got 4 TLS that are excited; that is indeed the case.\n",
    "\n",
    "This can be described as incoherent emission like lights scattering from molecules of a gas. Phases are random and so intensity of radiation is the \n",
    "\n",
    "However, Dicke found in 1956 that this is not the whole story. Let's imagine, for example, that we have a single excited TLS amongst 4, but we don't know which specific TLS is excited. One way of representing that state is:\n",
    "\n",
    "$\\Psi_1 = \\frac{1}{\\sqrt{4}}\\left(| 0, +, -, -, - \\rangle + | 0, -, +, -, - \\rangle + | 0, -, -, +, - \\rangle + | 0, -, -, -, + \\rangle \\right)$\n",
    "\n",
    "We can describe such states as having an excitation that is \"delocalised\" across the 4 TLS.\n",
    "\n",
    "Even though there is only single excitation, the emission rate from $\\Psi_1$ is 4 times higher than for $| 0, +\\rangle $ just like the case where all 4 TLS are excited. \n",
    "\n",
    "Stranger still is the case of 2 excitations amongst 4 TLS, where again we don't know which specific TLS are excited. A similar way of representing that state is:\n",
    "\n",
    "$\\Psi_2 = \\frac{1}{\\sqrt{6}}\\left(| 0, +, +, -, - \\rangle + | 0, +, -, +, - \\rangle + | 0, +, -, -, + \\rangle + | 0, -, +, +, - \\rangle + | 0, -, +, -, + \\rangle + | 0, -, -, +, + \\rangle \\right)$\n",
    "\n",
    "$\\Psi_2$ has a 6 fold increase in emission rate compared to $| 0, +\\rangle $.\n",
    "\n",
    "In general, Dicke found that when $n$ excitations are delocaised across $N$ TLS, the emission is enhanced by a factor of\n",
    "\n",
    "$n\\left(N-n+1\\right)$\n",
    "\n",
    "which is largest when half the TLS are excited giving a rate of $\\frac{N}{2}\\left(\\frac{N}{2}+1\\right)$. This $N^2$ dependence of the emission has come to be known as \"Superradiance\".\n",
    "\n",
    "Superradiance might at first seem counterintuitive, but we can understand it from one of the most fundamental principles of quantum mechanics [according to Richard Feynman](https://www.feynmanlectures.caltech.edu/III_01.html#Ch1-S7) which reads:\n",
    "\n",
    "```\n",
    "\"When an event can occur in several alternative ways, the probability amplitude for the event is the sum of the probability amplitudes for each way considered separately. There is interference\"\n",
    "```\n",
    "\n",
    "For the case of 2 excitations amongst 4 TLS, there are 6 starting states that the excitations could be in. Each of the 2 excitations in those 6 states could transition from $+$ to a $-$ with a release ofa a single boson. That means each of the 6 states has 2 paths in which it could go in order to reach one of 4 final states in which there is only a single excitation. The total number of paths is therefore $6\\times 2 = 12$. Each of these paths contributes the same to the overall amplitude because the Dicke state is constructed with $+$ between each bit of the state. This creates what we call constructive interference where the effects of each path add up to a larger effect. What we have to remember to get the number right is that our states are normalised. The 6 options for our starting state means we must divide by $\\sqrt{6}$. The 4 options for the final state means dividing by $\\sqrt{4}$. So the amplitude enhancement factor is:\n",
    "\n",
    "$$\\frac{6\\times 2}{\\sqrt{6}\\sqrt{4}} = \\sqrt{6}$$\n",
    "\n",
    "and because emission rates are related to probabilities which are the given by the square of the amplitude then we get the factor of 6 which at first seemed so surprising.\n",
    "\n",
    "The general Dicke formula for the rate enhancement comes from doing this counting and normalising for the general case:\n",
    "\n",
    "$$\\left(\\frac{^N C_n n}{\\sqrt{^N C_n}\\sqrt{^N C_{n-1}}}\\right)^2 = n\\left(N-n+1\\right)$$\n"
   ]
  }
 ],
 "metadata": {
  "kernelspec": {
   "display_name": "Python 3 (ipykernel)",
   "language": "python",
   "name": "python3"
  },
  "language_info": {
   "codemirror_mode": {
    "name": "ipython",
    "version": 3
   },
   "file_extension": ".py",
   "mimetype": "text/x-python",
   "name": "python",
   "nbconvert_exporter": "python",
   "pygments_lexer": "ipython3",
   "version": "3.11.4"
  }
 },
 "nbformat": 4,
 "nbformat_minor": 5
}
