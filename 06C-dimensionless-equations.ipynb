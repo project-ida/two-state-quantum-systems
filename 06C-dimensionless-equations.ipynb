{
 "cells": [
  {
   "cell_type": "markdown",
   "id": "d1e3fc2c-3b1d-46ce-a729-888500e3f678",
   "metadata": {},
   "source": [
    "# Dimensionless excitation transfer"
   ]
  },
  {
   "cell_type": "markdown",
   "id": "77a46283-e11c-4e68-8da8-847d89e89069",
   "metadata": {},
   "source": [
    "Excitation transfer is not an effect that we readily observe in quantum systems. To appreciate why, it is instructive to look at how the excitation transfer time corresponding to the Rabi cycle we observed in the last tutorial depends of the different parameters in our Hamiltonian."
   ]
  },
  {
   "cell_type": "markdown",
   "id": "5e41a4a1-a166-404a-92f2-880051730518",
   "metadata": {},
   "source": [
    "$$H =  \\frac{\\Delta E}{2} (\\sigma_{z1} + \\sigma_{z2}) + \\hbar\\omega\\left(a^{\\dagger}a +\\frac{1}{2}\\right) + U\\left( a^{\\dagger} + a \\right)(\\sigma_{x1} + \\sigma_{x2})$$\n"
   ]
  },
  {
   "cell_type": "markdown",
   "id": "a246b536-2227-4681-8404-d982d4690b00",
   "metadata": {},
   "source": [
    "The best way to study excitation transfer time scaling is to create a dimensionless form of the Schrödinger equation. It turns out that we've been doing that without explicitly talking about it by assuming $\\hbar=1$ and by setting $\\omega=1$. Now is the time to be a bit more formal.\n",
    "\n",
    "\n",
    "Let's go back to our starting equation:\n",
    "\n",
    "\n",
    "$$\n",
    "i \\hbar \\frac{d}{d t}\\psi(t) = \\hat H\\psi(t)\n",
    "$$\n",
    "\n",
    "\n",
    "We have said several times that in QuTiP  $\\hbar =1$ but what does this mean?\n",
    "\n",
    "QuTiP assumes that the Hamiltonian used in e.g. `sesolve(H, psi0, times)` has been divided by $\\hbar$ in the spirit of the following rearrangement of the Schrödinger equation:\n",
    "\n",
    "$$\n",
    "i  \\frac{d}{d t}\\psi(t) = \\frac{\\hat H}{\\hbar}\\psi(t)\n",
    "$$\n",
    "\n",
    "in other words the Hamiltonian to be used in QuTiP is not being expressed in units of energy but angular frequency."
   ]
  },
  {
   "cell_type": "markdown",
   "id": "233dda0c-6bd1-4f1a-8dc7-a40b57646f42",
   "metadata": {},
   "source": [
    "In order to make the Schrödinger dimensionless we need to define a new dimensionless variable:\n",
    "\n",
    "$$\\tau = \\frac{t}{t_c}$$\n",
    "\n",
    "where $t_c$ is some characteristic time that we are free to choose depending on what's convenient for the problem we're solving. Using this new variable allows us to rewrite our differential operator as:\n",
    "\n",
    "$$\\frac{d}{dt} = \\frac{1}{t_c}\\frac{d}{d\\tau}$$\n",
    "\n",
    "and hence the Schrödinger equation becomes:\n",
    "\n",
    "$$\n",
    "i  \\frac{d}{d \\tau}\\psi(\\tau) = \\frac{ t_c \\hat H}{\\hbar}\\psi(\\tau)\n",
    "$$\n",
    "\n"
   ]
  },
  {
   "cell_type": "markdown",
   "id": "b2558e56-90f9-4fb5-afe3-c24aeda581c5",
   "metadata": {},
   "source": [
    "We can create a sensible timescale by referring to the energies in our hamiltonian, i.e. $\\Delta E$, $\\hbar\\omega$ and $U$. Any of these energies could be used to create a timescale based on the relation $E = \\hbar \\omega$. Let's use $\\hbar \\omega$ for now. This gives us:\n",
    "\n",
    "$$t_c = \\frac{1}{ \\omega}$$\n",
    "\n",
    "Substituting into the Schrödinger equation gives:\n",
    "\n",
    "$$\n",
    "i  \\frac{d}{d \\tau}\\psi(\\tau) = \\frac{\\hat H}{\\hbar \\omega}\\psi(\\tau)\n",
    "$$"
   ]
  },
  {
   "cell_type": "markdown",
   "id": "01fa30cc-f1d8-44c5-9770-05e88b94672c",
   "metadata": {},
   "source": [
    "And so the dimensionless Hamiltonian that we can use to study the scaling of excitation transfer time is:\n",
    "\n",
    "$$H =  \\frac{\\varepsilon}{2} (\\sigma_{z1} + \\sigma_{z2}) + \\left(a^{\\dagger}a +\\frac{1}{2}\\right) + \\gamma\\left( a^{\\dagger} + a \\right)(\\sigma_{x1} + \\sigma_{x2})$$\n",
    "\n",
    "where $\\varepsilon = {\\Delta E} / {\\hbar\\omega} $ and $\\gamma = U/{\\hbar\\omega}$.\n"
   ]
  },
  {
   "cell_type": "markdown",
   "id": "11b788f9-9337-4d85-a925-73db7ef4106f",
   "metadata": {},
   "source": [
    "You can now see that assuming $\\hbar=1$ and setting $\\omega=1$ has exactly the same effect as all this formality. So what's the point of the formality? It's so that we understand that when we've been setting $\\Delta E$ and $U$ in previous tutorials, we've really been setting $\\varepsilon = {\\Delta E} / {\\hbar\\omega} $ and $\\gamma = U/{\\hbar\\omega}$, in other words, everything is normalised to the boson energy."
   ]
  }
 ],
 "metadata": {
  "kernelspec": {
   "display_name": "Python 3 (ipykernel)",
   "language": "python",
   "name": "python3"
  },
  "language_info": {
   "codemirror_mode": {
    "name": "ipython",
    "version": 3
   },
   "file_extension": ".py",
   "mimetype": "text/x-python",
   "name": "python",
   "nbconvert_exporter": "python",
   "pygments_lexer": "ipython3",
   "version": "3.11.4"
  }
 },
 "nbformat": 4,
 "nbformat_minor": 5
}
