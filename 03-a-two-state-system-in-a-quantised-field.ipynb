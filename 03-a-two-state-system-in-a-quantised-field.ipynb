{
 "cells": [
  {
   "cell_type": "markdown",
   "metadata": {},
   "source": [
    "<a href=\"https://colab.research.google.com/github/project-ida/two-state-quantum-systems/blob/matt-sandbox/03-a-two-state-system-in-a-quantised-field.ipynb\" target=\"_parent\"><img src=\"https://colab.research.google.com/assets/colab-badge.svg\" alt=\"Open In Colab\"/></a> &nbsp;&nbsp;&nbsp;&nbsp;&nbsp;&nbsp;&nbsp;&nbsp;&nbsp;&nbsp; <a href=\"https://nbviewer.jupyter.org/github/project-ida/two-state-quantum-systems/blob/matt-sandbox/03-a-two-state-system-in-a-quantised-field.ipynb\" target=\"_parent\"><img src=\"https://nbviewer.jupyter.org/static/img/nav_logo.svg\" alt=\"Open In nbviewer\" width=\"100\"/></a>"
   ]
  },
  {
   "cell_type": "markdown",
   "metadata": {},
   "source": [
    "# 3 - A two state system in a quantised field"
   ]
  },
  {
   "cell_type": "markdown",
   "metadata": {},
   "source": [
    "> TODO: Intro"
   ]
  },
  {
   "cell_type": "code",
   "execution_count": 2,
   "metadata": {},
   "outputs": [],
   "source": [
    "# Libraries\n",
    "%matplotlib inline\n",
    "import matplotlib.pyplot as plt\n",
    "import numpy as np\n",
    "import pandas as pd\n",
    "from qutip import *\n",
    "import warnings\n",
    "warnings.filterwarnings('ignore')"
   ]
  },
  {
   "cell_type": "markdown",
   "metadata": {},
   "source": [
    "## 3.1 - Recap"
   ]
  },
  {
   "cell_type": "markdown",
   "metadata": {},
   "source": [
    "We have previously looked at a two state system whose states are allowed to couple to each other with strength $A$. This coupling resulted in a splitting of the states of constant energy. When we perturbed the energy of those states by an amount $\\pm \\delta$ we found (in [tutorial 02](https://github.com/project-ida/two-state-quantum-systems/blob/master/02-perturbing-a-two-state-system.ipynb)) that a natural way to represent the Hamiltonian is\n",
    "\n",
    "$$\n",
    "H = \\begin{bmatrix}\n",
    " A  &  \\delta  \\\\\n",
    " \\delta  &  -A  \\\\\n",
    "\\end{bmatrix} = A\\sigma_z +\\delta \\sigma_x\n",
    "$$\n",
    "\n",
    "The base states being used to represent this system are the stationary states of the unperturbed system ($\\delta=0$) that we describe by:\n",
    "\n",
    "$$\n",
    "|+> = \\begin{bmatrix}\n",
    " 1   \\\\\n",
    " 0   \\\\\n",
    " \\end{bmatrix}, \n",
    "|-> = \\begin{bmatrix}\n",
    " 0   \\\\\n",
    " 1   \\\\\n",
    "\\end{bmatrix}\n",
    "$$\n",
    "\n",
    "where |+>, |-> correspond to the higher and lower energy states respectively. "
   ]
  },
  {
   "cell_type": "code",
   "execution_count": 3,
   "metadata": {},
   "outputs": [],
   "source": [
    "plus = basis(2, 0)\n",
    "minus = basis(2, 1)"
   ]
  },
  {
   "cell_type": "markdown",
   "metadata": {},
   "source": [
    "In the [last tutorial](https://github.com/project-ida/two-state-quantum-systems/blob/master/02-perturbing-a-two-state-system.ipynb), we made the perturbation $\\delta$ time dependent ($\\sin{\\omega t}$) and discovered a resonance effect. Even when the perturbation was small, the two level system could be made to oscillate (see [Rabi cycle](https://en.wikipedia.org/wiki/Rabi_cycle)) between the upper and lower energy state i.e. when $\\omega = 2A$ - this is the physical basis for stimulated emission."
   ]
  },
  {
   "cell_type": "markdown",
   "metadata": {},
   "source": [
    "## 3.2 - What is a quantum field?"
   ]
  },
  {
   "cell_type": "markdown",
   "metadata": {},
   "source": [
    "So far we have considered the environment to be unaffected by the two-state system. This has been a convenient approximation but naturally leaves some bits of important physics out e.g. spontaneous emission.\n",
    "\n",
    "To capture this missing physics we must think of the environment as a field (actually maybe many fields, but let's not over complicate things for now). For example the electric field $E$ - a continuous thing (a vector thing) that exists at all points in space and time i.e $E(r,t)$. To properly describe the interaction of our quantised two-state system with such a field, we are forced to quantise the field (in some sense) as well.\n",
    "\n",
    "But what does quantising a field mean? Answering this question in a completely satisfactory way will take us down the rather deep rabbit hole of [Quantum Field Theory](https://en.wikipedia.org/wiki/Quantum_field_theory) and [Lagrangian mechanics](https://en.wikipedia.org/wiki/Lagrangian_(field_theory%29) - we will not go there today! For now, we will simply summarise the most important bits (which are by no means self evident) that will help us to explore some of the physics using QuTiP. The following might still seem a bit alien but I promise we'll get to some calculations soon."
   ]
  },
  {
   "cell_type": "markdown",
   "metadata": {},
   "source": [
    "### 3.2.1 - Fields as harmonic oscillators\n",
    "\n",
    "The Lagrangian for a field (and resulting Hamiltonian that's of direct interest to us) can represented in a way that's mathematically equivalent to a set of independent harmonic oscillators. This is actually a classical result that comes from:\n",
    "- The requirements of relativity and that the field equations (like Maxwell's equations) are linear\n",
    "- The field being represented as a sum of plane waves like:\n",
    "  \n",
    "$$\n",
    "\\underset{k}{\\sum} a_k(t)e^{i(k\\cdot r)}\n",
    "$$\n",
    "\n",
    "For more information, see [Classical Mechanics](https://en.wikipedia.org/wiki/Classical_Mechanics_(Goldstein_book)) (Section 13.6) by Goldstein and also [Student Friendly Quantum Field Theory](https://www.quantumfieldtheory.info/) (Section 3.2.3) by Kaluber"
   ]
  },
  {
   "cell_type": "markdown",
   "metadata": {},
   "source": [
    "### 3.2.2 - Quantising the field\n",
    "\n",
    "Quantisation comes from treating the classical oscillators (labeled by their mode number k) as if they are [quantum harmonic oscillators](https://en.wikipedia.org/wiki/Quantum_harmonic_oscillator) whose energy is known to take on discrete values:\n",
    "$$\n",
    "E_{k,n} = \\left(n + \\frac{1}{2} \\right)\\hbar \\omega_k\n",
    "$$\n",
    "\n",
    "where $k=0,1,2,3 ...$ and $\\omega \\propto k$. This quantisation is technically accomplished by:\n",
    "- Treating the amplitudes of the field $a_k$ as operators and not simply complex numbers\n",
    "- Applying a form of Heisenberg's uncertainty principle ([Canonical commutation relation](https://en.wikipedia.org/wiki/Canonical_commutation_relation))to the $a_k$'s, i.e.\n",
    "$$\n",
    "[a_k a_k^{\\dagger}] \\equiv a_k a_k^{\\dagger} - a_k^{\\dagger}a_k = 1\n",
    "$$\n",
    "\n",
    "The Hamiltonian for the quantised field then looks like\n",
    "\n",
    "$$\n",
    "H = \\underset{k}{\\sum} \\hbar\\omega_k\\left(a_k^{\\dagger}a_k +\\frac{1}{2}\\right)\n",
    "$$ \n",
    "\n",
    "and we can then identify the eigenvalues of the operator $a_k^{\\dagger}a_k$ as equal to $n$ (by comparing with the form of $E_{k,n}$). To understand the deeper meaning of $a_k^{\\dagger}$ and $a_k$ we must first understand how to interpret $n$."
   ]
  },
  {
   "cell_type": "markdown",
   "metadata": {},
   "source": [
    "### 3.2.3 - The meaning of $n$\n",
    "\n",
    "When we first encounter the quantum harmonic oscillator, it is usually to model a particle moving in a quadratic potential well. There, we think of $n$ as simply a label for the energy state of the particle with energy $\\left(n + \\frac{1}{2} \\right)\\hbar \\omega$. \n",
    "\n",
    "In quantum field theory, $n$ is interpreted as a particle number. As an example, take the $k=3$ mode with $n=2$. This means the field has 2 particles with energy $\\hbar \\omega_3$. These particles are what people call bosons and they have different names depending on the field being described, e.g. photons, phonons etc.\n",
    "\n",
    "The particle number interpretation suggests that a natural way to describe the states of a quantum field is by the number of bosons in each mode, i.e. $|n_{k_1}, n_{k_2}, n_{k_3}, \\cdots>$ - this is called a [Fock state](https://en.wikipedia.org/wiki/Fock_state). For simplicity, consider that there is only one mode. We can represent the different states of the field as:\n",
    "\n",
    "$$\n",
    "|0> = \\begin{bmatrix}\n",
    " 1   \\\\\n",
    " 0   \\\\\n",
    " 0   \\\\\n",
    " \\vdots\n",
    " \\end{bmatrix}, \\ \\ \\ \n",
    "|1> = \\begin{bmatrix}\n",
    " 0   \\\\\n",
    " 1   \\\\\n",
    " 0   \\\\\n",
    " \\vdots\n",
    "\\end{bmatrix}, \\ \\ \\\n",
    "|2> = \\begin{bmatrix}\n",
    " 0   \\\\\n",
    " 0   \\\\\n",
    " 1   \\\\\n",
    " \\vdots\n",
    "\\end{bmatrix}\n",
    "$$\n",
    "\n",
    "In QuTiP, we can create Fock states using the same `basis` function that we used previously to represent our two-states system. For example, to represent a field with a single mode, with a maximum capacity of 4 bosons, that currently occupied by only 2 bosons, we can write:"
   ]
  },
  {
   "cell_type": "code",
   "execution_count": 4,
   "metadata": {},
   "outputs": [
    {
     "data": {
      "text/latex": [
       "Quantum object: dims = [[5], [1]], shape = (5, 1), type = ket\\begin{equation*}\\left(\\begin{array}{*{11}c}0.0\\\\0.0\\\\1.0\\\\0.0\\\\0.0\\\\\\end{array}\\right)\\end{equation*}"
      ],
      "text/plain": [
       "Quantum object: dims = [[5], [1]], shape = (5, 1), type = ket\n",
       "Qobj data =\n",
       "[[0.]\n",
       " [0.]\n",
       " [1.]\n",
       " [0.]\n",
       " [0.]]"
      ]
     },
     "execution_count": 4,
     "metadata": {},
     "output_type": "execute_result"
    }
   ],
   "source": [
    "two = basis(5, 2)\n",
    "two"
   ]
  },
  {
   "cell_type": "markdown",
   "metadata": {},
   "source": [
    "Using these fock states, we can identify the operator $a_k^{\\dagger}a_k$ as having eigenvalues equal to the the number of bosons in mode k and having eigenvectors equal to the fock states, e.g.\n",
    "\n",
    "$$\n",
    "a_k^{\\dagger}a_k |2> = 2 |2>\n",
    "$$\n",
    "\n",
    "We therefore call $a_k^{\\dagger}a_k$ the number operator.\n",
    "\n",
    "But what about the individual $a_k^{\\dagger}$ and $a_k$ operators? How do we understand them? How can we construct them?"
   ]
  },
  {
   "cell_type": "markdown",
   "metadata": {},
   "source": [
    "### 3.2.4 - The meaning of $a_k^{\\dagger}$ and $a_k$\n",
    "Once we understand $a_k^{\\dagger}$ and $a_k$ we are in a position to build the Hamiltonian and start doing some simulations with QuTiP. \n",
    "\n",
    "Let's apply the number operator to a state that is not obviously one of its eigenstates. e.g. $a_k^{\\dagger}|2>$\n",
    "\n",
    "$$\n",
    "a_k^{\\dagger}a_k (a_k^{\\dagger}|2>) = a_k^{\\dagger}a_k a_k^{\\dagger} |2> \\overset{[a_k a_k^{\\dagger}]=1}{=} a_k^{\\dagger}(a_k^{\\dagger}a_k+1) |2> = a_k^{\\dagger}(2+1) |2> = 3a_k^{\\dagger}|2>\n",
    "$$\n",
    "\n",
    "So, the number of bosons in the state $a_k^{\\dagger}|2>$ is 3. In effect, the $a_k^{\\dagger}$ operator has created a new boson so we call it a **creation** operator. We can perform a similar calculation with the $a_k$ operator to find it reduces the number of bosons and so we call it an **annihilation** or **destruction** operator.\n",
    "\n",
    "QuTiP allows us to construct the creation and destruction operators using the [`create` and `destroy` functions](http://qutip.org/docs/latest/apidoc/functions.html?highlight=create#qutip.operators.create)"
   ]
  },
  {
   "cell_type": "code",
   "execution_count": 5,
   "metadata": {},
   "outputs": [],
   "source": [
    "a = destroy(5)      # We choose 5 so that we can operate on states with up to a maximum of n=4 bosons\n",
    "a_dag = create(5)   # we could also use a.dag()"
   ]
  },
  {
   "cell_type": "markdown",
   "metadata": {},
   "source": [
    "Let's apply these operators to our *two* state to confirm what we just discovered in algebra."
   ]
  },
  {
   "cell_type": "markdown",
   "metadata": {},
   "source": [
    "After normalising the state we can see immediately that $|2>$ has indeed become state $|3>$ under the operation of $a_k^{\\dagger}$"
   ]
  },
  {
   "cell_type": "code",
   "execution_count": 6,
   "metadata": {},
   "outputs": [
    {
     "data": {
      "text/latex": [
       "Quantum object: dims = [[5], [1]], shape = (5, 1), type = ket\\begin{equation*}\\left(\\begin{array}{*{11}c}0.0\\\\0.0\\\\0.0\\\\1.0\\\\0.0\\\\\\end{array}\\right)\\end{equation*}"
      ],
      "text/plain": [
       "Quantum object: dims = [[5], [1]], shape = (5, 1), type = ket\n",
       "Qobj data =\n",
       "[[0.]\n",
       " [0.]\n",
       " [0.]\n",
       " [1.]\n",
       " [0.]]"
      ]
     },
     "execution_count": 6,
     "metadata": {},
     "output_type": "execute_result"
    }
   ],
   "source": [
    "(a_dag*two).unit()"
   ]
  },
  {
   "cell_type": "markdown",
   "metadata": {},
   "source": [
    "Similarly we can see that $|2>$ becomes $|1>$ under the $a_k$ operator"
   ]
  },
  {
   "cell_type": "code",
   "execution_count": 7,
   "metadata": {},
   "outputs": [
    {
     "data": {
      "text/latex": [
       "Quantum object: dims = [[5], [1]], shape = (5, 1), type = ket\\begin{equation*}\\left(\\begin{array}{*{11}c}0.0\\\\1.0\\\\0.0\\\\0.0\\\\0.0\\\\\\end{array}\\right)\\end{equation*}"
      ],
      "text/plain": [
       "Quantum object: dims = [[5], [1]], shape = (5, 1), type = ket\n",
       "Qobj data =\n",
       "[[0.]\n",
       " [1.]\n",
       " [0.]\n",
       " [0.]\n",
       " [0.]]"
      ]
     },
     "execution_count": 7,
     "metadata": {},
     "output_type": "execute_result"
    }
   ],
   "source": [
    "(a*two).unit()"
   ]
  },
  {
   "cell_type": "markdown",
   "metadata": {},
   "source": [
    "Now we are ready to construct the Hamiltonian."
   ]
  },
  {
   "cell_type": "markdown",
   "metadata": {},
   "source": [
    "## 3.3 - The Hamiltonian for a quantum field"
   ]
  },
  {
   "cell_type": "markdown",
   "metadata": {},
   "source": [
    "We have seen that to describe a quantum field we need to construct a Hamiltonian of the form:\n",
    "\n",
    "$$\n",
    "H = \\underset{k}{\\sum} \\hbar\\omega_k\\left(a_k^{\\dagger}a_k +\\frac{1}{2}\\right)\n",
    "$$\n",
    "\n",
    "where the sum is over all the possible modes of the field and $a_k^{\\dagger}$ and $a_k$ operators create and destroy bosons in the k'th mode.\n",
    "\n",
    "Let's continue to consider\n",
    "- only a single mode\n",
    "- maximum of 4 bosons in that mode\n",
    "\n",
    "For simplicity we'll set the energy of the mode $\\omega$ = 1 (recall $\\hbar=1$ in QuTiP)"
   ]
  },
  {
   "cell_type": "code",
   "execution_count": 8,
   "metadata": {},
   "outputs": [],
   "source": [
    "omega = 1\n",
    "max_bosons = 4\n",
    "\n",
    "a = destroy(max_bosons+1)\n",
    "\n",
    "H = omega*(a.dag()*a+0.5)"
   ]
  },
  {
   "cell_type": "markdown",
   "metadata": {},
   "source": [
    "Let's have a look at H"
   ]
  },
  {
   "cell_type": "code",
   "execution_count": 9,
   "metadata": {},
   "outputs": [
    {
     "data": {
      "text/latex": [
       "Quantum object: dims = [[5], [5]], shape = (5, 5), type = oper, isherm = True\\begin{equation*}\\left(\\begin{array}{*{11}c}0.500 & 0.0 & 0.0 & 0.0 & 0.0\\\\0.0 & 1.500 & 0.0 & 0.0 & 0.0\\\\0.0 & 0.0 & 2.500 & 0.0 & 0.0\\\\0.0 & 0.0 & 0.0 & 3.500 & 0.0\\\\0.0 & 0.0 & 0.0 & 0.0 & 4.500\\\\\\end{array}\\right)\\end{equation*}"
      ],
      "text/plain": [
       "Quantum object: dims = [[5], [5]], shape = (5, 5), type = oper, isherm = True\n",
       "Qobj data =\n",
       "[[0.5 0.  0.  0.  0. ]\n",
       " [0.  1.5 0.  0.  0. ]\n",
       " [0.  0.  2.5 0.  0. ]\n",
       " [0.  0.  0.  3.5 0. ]\n",
       " [0.  0.  0.  0.  4.5]]"
      ]
     },
     "execution_count": 9,
     "metadata": {},
     "output_type": "execute_result"
    }
   ],
   "source": [
    "H"
   ]
  },
  {
   "cell_type": "markdown",
   "metadata": {},
   "source": [
    "We'll see later on that, as the Hamiltonian becomes more complicated, it can be helpful to visualise it in colour rather than look at a block of numbers. QuTiP has a built in way to do this using a [`hinton` diagram](http://qutip.org/docs/latest/apidoc/functions.html#qutip.visualization.hinton)"
   ]
  },
  {
   "cell_type": "code",
   "execution_count": 10,
   "metadata": {},
   "outputs": [
    {
     "data": {
      "image/png": "[encoded data removed]",
      "text/plain": [
       "<Figure size 576x432 with 2 Axes>"
      ]
     },
     "metadata": {
      "needs_background": "light"
     },
     "output_type": "display_data"
    }
   ],
   "source": [
    "f, ax = hinton(H)\n",
    "ax.tick_params(axis='x',labelrotation=90)\n",
    "ax.set_title(\"Matrix elements of H     (Fig 1)\");"
   ]
  },
  {
   "cell_type": "markdown",
   "metadata": {},
   "source": [
    "Because the Hamiltonian is diagonal there is no coupling between the different number states. Without doing any further calculation we can therefore say that if we start out with e.g. 3 bosons in our mode then we'll continue to have 3 bosons indefinitely. This is the same type of behaviour that we saw in the isolated two state system ([tutorial 01](https://github.com/project-ida/two-state-quantum-systems/blob/master/01-an-isolated-two-state-system.ipynb) section 1.1). - Not very exciting!\n",
    "\n",
    "We do however expect that bosons will get created and destroyed as a result of interaction with another system, e.g. when an electron makes a transition between different energy levels. Let's see how we can model that - this will end up giving us the spontaneous emission physics that we so far been lacking."
   ]
  },
  {
   "cell_type": "markdown",
   "metadata": {},
   "source": [
    "## 3.4 - Coupling to a quantum field"
   ]
  },
  {
   "cell_type": "markdown",
   "metadata": {},
   "source": [
    "Firstly, a few general words on interactions. Finding the coupling between two quantum things is actually quite tricky. It requires expressing everything as its own field (even the two state system!) and imposing a certain symmetry on the Lagrangian of those combined fields. The interaction term in the Lagrangian (and resulting Hamiltonian) pops out as a consequence, how lovely! This is known as [gauge theory](https://en.wikipedia.org/wiki/Gauge_theory) and is an even deeper rabbit hole than quantum field theory. Needless to say, we shall not be going deeper into that today either. If you are curious I recommend  chapter 10 of [Explorations in Mathematical Physics by Koks](https://www.bookdepository.com/Explorations-Mathematical-Physics-Don-Koks/9780387309439) for an intro.\n",
    "\n",
    "So, what can we say about the interaction of our two-state system with a quantised field without getting lost in rigor? *(not that rigor isn't important, but it will slow us down too much at the moment)*\n",
    "\n",
    "\n",
    "We can make a guess at the interaction term by recalling the Hamiltonian from [Tutorial 02](https://github.com/project-ida/two-state-quantum-systems/blob/master/02-perturbing-a-two-state-system.ipynb):\n",
    "\n",
    "$$\n",
    "H = \\begin{bmatrix}\n",
    " A  &  \\delta  \\\\\n",
    " \\delta  &  -A  \\\\\n",
    "\\end{bmatrix} = A\\sigma_z +\\delta \\sigma_x\n",
    "$$\n",
    "\n",
    "We interpreted $\\delta$ as being related to the strength of a perturbing field and $A$ as a coupling between the two states of our system. Considering only a single mode of our now quantised field, its strength can be written as the operator $a^{\\dagger} + a$ (coming from the requirement that our field be real) and we can then postulate the following interaction term:\n",
    "\n",
    "$$V\\left( a^{\\dagger} + a \\right)\\sigma_x$$\n",
    "\n",
    "where $V$ is a coupling constant. What we've essentially created is an interaction term that closely resembles that of an [electric](https://en.wikipedia.org/wiki/Electric_dipole_transition) and [magnetic](https://en.wikipedia.org/wiki/Magnetic_dipole_transition) dipole.\n",
    "\n",
    "\n",
    "The overall Hamiltonian can then be written as:\n",
    "\n",
    "$$H =  A \\sigma_z + \\hbar\\omega\\left(a^{\\dagger}a +\\frac{1}{2}\\right) + V\\left( a^{\\dagger} + a \\right)\\sigma_x$$\n",
    "\n",
    "The only remaining problem is figuring out how to make the QuTiP representations for the field and the two-state system compatible. Luckily QuTiP will come to our rescue."
   ]
  },
  {
   "cell_type": "markdown",
   "metadata": {},
   "source": [
    "## 3.5 - Describing coupled systems in QuTiP\n",
    "\n",
    "Right now, we represent the two state system by something like\n",
    "\n",
    "$$\n",
    "|+> = \\begin{bmatrix}\n",
    " 1   \\\\\n",
    " 0   \\\\\n",
    " \\end{bmatrix}\n",
    "$$\n",
    "\n",
    "and the field is represented by something like\n",
    "\n",
    "$$\n",
    "|2> = \\begin{bmatrix}\n",
    " 0   \\\\\n",
    " 0   \\\\\n",
    " 1   \\\\\n",
    " 0   \\\\\n",
    " \\end{bmatrix}\n",
    "$$\n",
    "\n",
    "These states clearly have different dimensions and so too do the operators in H above - we cannot simply multiply together them as our Hamiltonian would suggest. We need a new basis that is somehow a combination of the existing ones.\n",
    "\n"
   ]
  },
  {
   "cell_type": "markdown",
   "metadata": {},
   "source": [
    "One way to build a new basis is to enumerate the many different configurations for the combined system, e.g.\n",
    "- 2 bosons for the field and + for the two-state system, i.e. |2, ->\n",
    "- 0 bosons for the field and - for the two-state system, i.e |0, +>\n",
    "- etc.\n",
    "\n",
    "There are `(max_bosons+1) x 2` different states and we can write the probability for the system to be in those states as entries in a vector like below.\n",
    "\n",
    "$$ |n,\\pm>  = \n",
    "\\begin{bmatrix}\n",
    " 0,+    \\\\\n",
    " 0,-   \\\\\n",
    " 1,+    \\\\\n",
    " 1,-   \\\\\n",
    " 2,+    \\\\\n",
    " 2,-   \\\\\n",
    " 3,+    \\\\\n",
    " 3,-   \\\\\n",
    " 4,+    \\\\\n",
    " 4,-   \\\\\n",
    "  \\vdots \n",
    "\\end{bmatrix} \\ , \\ \\ \\ \\  \\ \\ \\  \\ \\ \n",
    "|2, ->  = \n",
    "\\begin{bmatrix}\n",
    " 0    \\\\\n",
    " 0   \\\\\n",
    " 0    \\\\\n",
    " 0   \\\\\n",
    " 0    \\\\\n",
    " 1   \\\\\n",
    " 0    \\\\\n",
    " 0   \\\\\n",
    " 0    \\\\\n",
    " 0   \\\\\n",
    "  \\vdots \n",
    "\\end{bmatrix}\n",
    "$$\n",
    "\n",
    "\n",
    "QuTiP automates the process of creating these states using [tensor products](http://qutip.org/docs/latest/guide/guide-tensor.html#using-tensor-products-and-partial-traces)"
   ]
  },
  {
   "cell_type": "code",
   "execution_count": 56,
   "metadata": {},
   "outputs": [
    {
     "data": {
      "text/latex": [
       "Quantum object: dims = [[5, 2], [1, 1]], shape = (10, 1), type = ket\\begin{equation*}\\left(\\begin{array}{*{11}c}0.0\\\\0.0\\\\0.0\\\\0.0\\\\0.0\\\\1.0\\\\0.0\\\\0.0\\\\0.0\\\\0.0\\\\\\end{array}\\right)\\end{equation*}"
      ],
      "text/plain": [
       "Quantum object: dims = [[5, 2], [1, 1]], shape = (10, 1), type = ket\n",
       "Qobj data =\n",
       "[[0.]\n",
       " [0.]\n",
       " [0.]\n",
       " [0.]\n",
       " [0.]\n",
       " [1.]\n",
       " [0.]\n",
       " [0.]\n",
       " [0.]\n",
       " [0.]]"
      ]
     },
     "execution_count": 56,
     "metadata": {},
     "output_type": "execute_result"
    }
   ],
   "source": [
    "two_minus = tensor(two, minus) # The order here doesn't matter, but you need to be consistent throughout\n",
    "two_minus"
   ]
  },
  {
   "cell_type": "markdown",
   "metadata": {},
   "source": [
    "> As an aside (feel free to skip this paragraph), for those who are know a bit more about the formal mathematics of the [tensor product](https://en.wikipedia.org/wiki/Tensor_product) (see also [outer product](https://en.wikipedia.org/wiki/Outer_product) ), you might be surprised that the result of `tensor(two, plus)` is a vector and not a matrix. Technically what is being done here is the [Kronecker product](https://en.wikipedia.org/wiki/Kronecker_product) and to see the explicit connection between the matrix an vector form  see [here](https://en.wikipedia.org/wiki/Outer_product#Connection_with_the_Kronecker_product)."
   ]
  },
  {
   "cell_type": "markdown",
   "metadata": {},
   "source": [
    "The same tensor products can be done for [operators](https://en.wikipedia.org/wiki/Tensor_product#Tensor_product_of_linear_maps), creating block matrices e.g.\n",
    "\n",
    "$$\n",
    "I(5) \\otimes \\sigma_z =\n",
    "\\begin{bmatrix}\n",
    " 1 & 0 & 0 & 0 & 0   \\\\\n",
    " 0 & 1 & 0 & 0 & 0   \\\\\n",
    " 0 & 0 & 1 & 0 & 0   \\\\\n",
    " 0 & 0 & 0 & 1 & 0   \\\\\n",
    " 0 & 0 & 0 & 0 & 1   \\\\\n",
    " \\end{bmatrix} \\otimes\n",
    " \\begin{bmatrix}\n",
    " 1 & 0   \\\\\n",
    " 0 & -1  \\\\\n",
    "\\end{bmatrix} = \n",
    " \\begin{bmatrix}\n",
    " 1\\times\\sigma_z & 0\\times\\sigma_z & 0\\times\\sigma_z & 0\\times\\sigma_z & 0\\times\\sigma_z   \\\\\n",
    " 0\\times\\sigma_z & 1\\times\\sigma_z & 0\\times\\sigma_z & 0\\times\\sigma_z & 0\\times\\sigma_z   \\\\\n",
    " 0\\times\\sigma_z & 0\\times\\sigma_z & 1\\times\\sigma_z & 0\\times\\sigma_z & 0\\times\\sigma_z   \\\\\n",
    " 0\\times\\sigma_z & 0\\times\\sigma_z & 0\\times\\sigma_z & 1\\times\\sigma_z & 0\\times\\sigma_z   \\\\\n",
    " 0\\times\\sigma_z & 0\\times\\sigma_z & 0\\times\\sigma_z & 0\\times\\sigma_z & 1\\times\\sigma_z   \\\\\n",
    "\\end{bmatrix}\n",
    "$$ "
   ]
  },
  {
   "cell_type": "code",
   "execution_count": 54,
   "metadata": {},
   "outputs": [
    {
     "data": {
      "text/latex": [
       "Quantum object: dims = [[5, 2], [5, 2]], shape = (10, 10), type = oper, isherm = True\\begin{equation*}\\left(\\begin{array}{*{11}c}1.0 & 0.0 & 0.0 & 0.0 & 0.0 & 0.0 & 0.0 & 0.0 & 0.0 & 0.0\\\\0.0 & -1.0 & 0.0 & 0.0 & 0.0 & 0.0 & 0.0 & 0.0 & 0.0 & 0.0\\\\0.0 & 0.0 & 1.0 & 0.0 & 0.0 & 0.0 & 0.0 & 0.0 & 0.0 & 0.0\\\\0.0 & 0.0 & 0.0 & -1.0 & 0.0 & 0.0 & 0.0 & 0.0 & 0.0 & 0.0\\\\0.0 & 0.0 & 0.0 & 0.0 & 1.0 & 0.0 & 0.0 & 0.0 & 0.0 & 0.0\\\\0.0 & 0.0 & 0.0 & 0.0 & 0.0 & -1.0 & 0.0 & 0.0 & 0.0 & 0.0\\\\0.0 & 0.0 & 0.0 & 0.0 & 0.0 & 0.0 & 1.0 & 0.0 & 0.0 & 0.0\\\\0.0 & 0.0 & 0.0 & 0.0 & 0.0 & 0.0 & 0.0 & -1.0 & 0.0 & 0.0\\\\0.0 & 0.0 & 0.0 & 0.0 & 0.0 & 0.0 & 0.0 & 0.0 & 1.0 & 0.0\\\\0.0 & 0.0 & 0.0 & 0.0 & 0.0 & 0.0 & 0.0 & 0.0 & 0.0 & -1.0\\\\\\end{array}\\right)\\end{equation*}"
      ],
      "text/plain": [
       "Quantum object: dims = [[5, 2], [5, 2]], shape = (10, 10), type = oper, isherm = True\n",
       "Qobj data =\n",
       "[[ 1.  0.  0.  0.  0.  0.  0.  0.  0.  0.]\n",
       " [ 0. -1.  0.  0.  0.  0.  0.  0.  0.  0.]\n",
       " [ 0.  0.  1.  0.  0.  0.  0.  0.  0.  0.]\n",
       " [ 0.  0.  0. -1.  0.  0.  0.  0.  0.  0.]\n",
       " [ 0.  0.  0.  0.  1.  0.  0.  0.  0.  0.]\n",
       " [ 0.  0.  0.  0.  0. -1.  0.  0.  0.  0.]\n",
       " [ 0.  0.  0.  0.  0.  0.  1.  0.  0.  0.]\n",
       " [ 0.  0.  0.  0.  0.  0.  0. -1.  0.  0.]\n",
       " [ 0.  0.  0.  0.  0.  0.  0.  0.  1.  0.]\n",
       " [ 0.  0.  0.  0.  0.  0.  0.  0.  0. -1.]]"
      ]
     },
     "execution_count": 54,
     "metadata": {},
     "output_type": "execute_result"
    }
   ],
   "source": [
    "eye_sigmaz = tensor(qeye(5), sigmaz())\n",
    "eye_sigmaz"
   ]
  },
  {
   "cell_type": "markdown",
   "metadata": {},
   "source": [
    "What's useful about this unwieldy tensorised $\\sigma_z$ operator is that it only acts on the two-state part and leaves the field part unchanged"
   ]
  },
  {
   "cell_type": "code",
   "execution_count": 55,
   "metadata": {},
   "outputs": [
    {
     "data": {
      "text/latex": [
       "Quantum object: dims = [[5, 2], [1, 1]], shape = (10, 1), type = ket\\begin{equation*}\\left(\\begin{array}{*{11}c}0.0\\\\0.0\\\\0.0\\\\0.0\\\\0.0\\\\-1.0\\\\0.0\\\\0.0\\\\0.0\\\\0.0\\\\\\end{array}\\right)\\end{equation*}"
      ],
      "text/plain": [
       "Quantum object: dims = [[5, 2], [1, 1]], shape = (10, 1), type = ket\n",
       "Qobj data =\n",
       "[[ 0.]\n",
       " [ 0.]\n",
       " [ 0.]\n",
       " [ 0.]\n",
       " [ 0.]\n",
       " [-1.]\n",
       " [ 0.]\n",
       " [ 0.]\n",
       " [ 0.]\n",
       " [ 0.]]"
      ]
     },
     "execution_count": 55,
     "metadata": {},
     "output_type": "execute_result"
    }
   ],
   "source": [
    "eye_sigmaz * two_minus"
   ]
  },
  {
   "cell_type": "markdown",
   "metadata": {},
   "source": [
    "We see above that we still have the 2 bosons we started with.\n",
    "\n",
    "What will happen if we put the identity second and the a operator first, i.e.\n",
    "\n",
    "$$a^{\\dagger}a \\otimes I(2)$$\n",
    "\n",
    "and then apply it to the state |2,->?"
   ]
  },
  {
   "cell_type": "code",
   "execution_count": 60,
   "metadata": {},
   "outputs": [],
   "source": [
    "a_eye = tensor(a, qeye(2))"
   ]
  },
  {
   "cell_type": "code",
   "execution_count": 63,
   "metadata": {},
   "outputs": [
    {
     "data": {
      "text/latex": [
       "Quantum object: dims = [[5, 2], [1, 1]], shape = (10, 1), type = ket\\begin{equation*}\\left(\\begin{array}{*{11}c}0.0\\\\0.0\\\\0.0\\\\1.0\\\\0.0\\\\0.0\\\\0.0\\\\0.0\\\\0.0\\\\0.0\\\\\\end{array}\\right)\\end{equation*}"
      ],
      "text/plain": [
       "Quantum object: dims = [[5, 2], [1, 1]], shape = (10, 1), type = ket\n",
       "Qobj data =\n",
       "[[0.]\n",
       " [0.]\n",
       " [0.]\n",
       " [1.]\n",
       " [0.]\n",
       " [0.]\n",
       " [0.]\n",
       " [0.]\n",
       " [0.]\n",
       " [0.]]"
      ]
     },
     "execution_count": 63,
     "metadata": {},
     "output_type": "execute_result"
    }
   ],
   "source": [
    "(a_eye * two_minus).unit()"
   ]
  },
  {
   "cell_type": "markdown",
   "metadata": {},
   "source": [
    "The boson number has gone down by one, but the two state system is still in the lower - state."
   ]
  },
  {
   "cell_type": "markdown",
   "metadata": {},
   "source": [
    "## 3.6 - Exploring the coupled two-state and field Hamiltonian"
   ]
  },
  {
   "cell_type": "markdown",
   "metadata": {},
   "source": [
    "> TODO: Need some chat here"
   ]
  },
  {
   "cell_type": "markdown",
   "metadata": {},
   "source": [
    "Let's now look at the resonant case when $2A = \\omega$"
   ]
  },
  {
   "cell_type": "code",
   "execution_count": 87,
   "metadata": {},
   "outputs": [],
   "source": [
    "V = 0.1\n",
    "A = 0.1\n",
    "omega = 2*A\n",
    "M = 4"
   ]
  },
  {
   "cell_type": "code",
   "execution_count": 99,
   "metadata": {},
   "outputs": [],
   "source": [
    "a  = tensor(destroy(M+1), qeye(2))     # boson destruction operator\n",
    "sx = tensor(qeye(M+1), sigmax())             \n",
    "sz = tensor(qeye(M+1),sigmaz())              \n",
    "\n",
    "two_state     =  A*sz                         # two state system energy\n",
    "bosons       =  omega*(a.dag()*a+0.5)       # bosons field energy\n",
    "interaction   = (a.dag() + a) * sx           # interaction energy - needs to be multiplied by coupling constant in final H\n",
    "\n",
    "\n",
    "H = two_state + bosons + V*interaction"
   ]
  },
  {
   "cell_type": "markdown",
   "metadata": {},
   "source": [
    "Now that we've created these tensor products, it can be hard to interpret the Hamiltonian just by looking at the matrix without some labels. This is when the Hinton diagram we introduced earlier is super helpful."
   ]
  },
  {
   "cell_type": "code",
   "execution_count": 95,
   "metadata": {},
   "outputs": [
    {
     "data": {
      "image/png": "[encoded data removed]",
      "text/plain": [
       "<Figure size 576x432 with 2 Axes>"
      ]
     },
     "metadata": {
      "needs_background": "light"
     },
     "output_type": "display_data"
    }
   ],
   "source": [
    "f, ax = hinton(H)\n",
    "ax.tick_params(axis='x',labelrotation=90)\n",
    "ax.set_title(\"Matrix elements of H     (Fig 2)\");"
   ]
  },
  {
   "cell_type": "markdown",
   "metadata": {},
   "source": [
    "QuTiP is smart and knows how to label things in a nice way. **|n,m>** means the following:\n",
    "- **n** is the number of bosons\n",
    "- **m** tells us what the state of the two state system is - 0 for higher energy state that we normally call |+> and 1 for the lower energy |-> state."
   ]
  },
  {
   "cell_type": "markdown",
   "metadata": {},
   "source": [
    ">TODO: Maybe some more chat about the hinton diagram...maybe selection rules, aka partiy?"
   ]
  },
  {
   "cell_type": "markdown",
   "metadata": {},
   "source": [
    "## 3.7 - Spontaneous emission"
   ]
  },
  {
   "cell_type": "markdown",
   "metadata": {},
   "source": [
    ">TODO: Intro chat"
   ]
  },
  {
   "cell_type": "code",
   "execution_count": 100,
   "metadata": {},
   "outputs": [],
   "source": [
    "# helper function\n",
    "def states_to_df(states,times):\n",
    "    \n",
    "    data = {}\n",
    "    for i in range(0,states[0].shape[0]):\n",
    "        which_mode = divmod(i,2)\n",
    "        if which_mode[1] == 0:\n",
    "            two_state = \"+\"\n",
    "        elif which_mode[1] == 1:\n",
    "            two_state = \"-\"\n",
    "        data[str(which_mode[0])+\" , \"+two_state] = np.zeros(len(times),dtype=\"complex128\")\n",
    "    \n",
    "    for i, state in enumerate(states):\n",
    "        for j, psi in enumerate(state):\n",
    "            which_mode = divmod(j,2)\n",
    "            if which_mode[1] == 0:\n",
    "                two_state = \"+\"\n",
    "            elif which_mode[1] == 1:\n",
    "                two_state = \"-\"\n",
    "            data[str(which_mode[0])+\" , \"+two_state][i] = psi[0][0]\n",
    "\n",
    "    return pd.DataFrame(data=data, index=times)"
   ]
  },
  {
   "cell_type": "markdown",
   "metadata": {},
   "source": [
    "Start with no bosons and in the higher energy state of the two state system and see what happens"
   ]
  },
  {
   "cell_type": "code",
   "execution_count": 93,
   "metadata": {},
   "outputs": [],
   "source": [
    "psi0 = tensor(basis(M+1, 0), basis(2, 0))\n",
    "\n",
    "times = np.linspace(0.0, 70.0, 1000) # simulation time\n",
    "\n",
    "result = sesolve(H, psi0, times)\n",
    "df_coupled =  states_to_df(result.states, times)"
   ]
  },
  {
   "cell_type": "code",
   "execution_count": 94,
   "metadata": {},
   "outputs": [
    {
     "data": {
      "image/png": "[encoded data removed]",
      "text/plain": [
       "<Figure size 1080x432 with 2 Axes>"
      ]
     },
     "metadata": {
      "needs_background": "light"
     },
     "output_type": "display_data"
    }
   ],
   "source": [
    "fig, axes = plt.subplots(nrows=1, ncols=2, figsize=(15,6))\n",
    "df_coupled.plot(title=\"Real part of amplitudes Re($\\psi$)     (Fig 3)\", ax=axes[0]);\n",
    "(df_coupled.abs()**2).plot(title=\"Probabilities $|\\psi|^2$     (Fig 4))\", ax=axes[1]);"
   ]
  },
  {
   "cell_type": "markdown",
   "metadata": {},
   "source": [
    "We see above that even though we start with the field \"empty\" of bosons (blue line), after a while, the field is likely to have a single boson at the expense of the energy in the two state which transitions to the lower state (red line) - this is where spontaneous emission comes from."
   ]
  },
  {
   "cell_type": "markdown",
   "metadata": {},
   "source": [
    "> TODO: Maybe calculate rates of emission / Einstein coefficients"
   ]
  },
  {
   "cell_type": "code",
   "execution_count": null,
   "metadata": {},
   "outputs": [],
   "source": []
  }
 ],
 "metadata": {
  "jupytext": {
   "formats": "ipynb,src//md"
  },
  "kernelspec": {
   "display_name": "Python 3",
   "language": "python",
   "name": "python3"
  },
  "language_info": {
   "codemirror_mode": {
    "name": "ipython",
    "version": 3
   },
   "file_extension": ".py",
   "mimetype": "text/x-python",
   "name": "python",
   "nbconvert_exporter": "python",
   "pygments_lexer": "ipython3",
   "version": "3.7.1"
  }
 },
 "nbformat": 4,
 "nbformat_minor": 4
}
