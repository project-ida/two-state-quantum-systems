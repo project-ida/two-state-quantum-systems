{
 "cells": [
  {
   "cell_type": "markdown",
   "metadata": {},
   "source": [
    "<a href=\"https://colab.research.google.com/github/project-ida/two-state-quantum-systems/blob/matt-sandbox/03-a-two-state-system-in-a-quantised-field.ipynb\" target=\"_parent\"><img src=\"https://colab.research.google.com/assets/colab-badge.svg\" alt=\"Open In Colab\"/></a> &nbsp;&nbsp;&nbsp;&nbsp;&nbsp;&nbsp;&nbsp;&nbsp;&nbsp;&nbsp; <a href=\"https://nbviewer.jupyter.org/github/project-ida/two-state-quantum-systems/blob/matt-sandbox/03-a-two-state-system-in-a-quantised-field.ipynb\" target=\"_parent\"><img src=\"https://nbviewer.jupyter.org/static/img/nav_logo.svg\" alt=\"Open In nbviewer\" width=\"100\"/></a>"
   ]
  },
  {
   "cell_type": "markdown",
   "metadata": {},
   "source": [
    "# 3 - A two state system in a quantised field"
   ]
  },
  {
   "cell_type": "markdown",
   "metadata": {},
   "source": [
    "> TODO: Intro"
   ]
  },
  {
   "cell_type": "code",
   "execution_count": 5,
   "metadata": {},
   "outputs": [],
   "source": [
    "# Libraries\n",
    "%matplotlib inline\n",
    "import matplotlib.pyplot as plt\n",
    "import numpy as np\n",
    "import pandas as pd\n",
    "from qutip import *\n",
    "import warnings\n",
    "warnings.filterwarnings('ignore')"
   ]
  },
  {
   "cell_type": "markdown",
   "metadata": {},
   "source": [
    "## 3.1 - Recap"
   ]
  },
  {
   "cell_type": "markdown",
   "metadata": {},
   "source": [
    "We have previously looked at a two state system whose base states **|+>** and **|->** were represented as\n",
    "\n",
    "$$\n",
    "|+> = \\begin{bmatrix}\n",
    " 1   \\\\\n",
    " 0   \\\\\n",
    " \\end{bmatrix}, \n",
    "|-> = \\begin{bmatrix}\n",
    " 0   \\\\\n",
    " 1   \\\\\n",
    "\\end{bmatrix}\n",
    "$$\n"
   ]
  },
  {
   "cell_type": "code",
   "execution_count": 6,
   "metadata": {},
   "outputs": [],
   "source": [
    "plus = basis(2, 0)\n",
    "minus = basis(2, 1)"
   ]
  },
  {
   "cell_type": "markdown",
   "metadata": {},
   "source": [
    "and whose energies $E_0$ were identical. When we considered that coupling between the states could occur (with strength $A$), the hamiltonian for the system could then be represented as\n",
    "\n",
    "$$\n",
    "H = \\begin{bmatrix}\n",
    " E_0  &  -A  \\\\\n",
    " -A  &  E_0  \\\\\n",
    "\\end{bmatrix} = E_0 I - A \\sigma_x\n",
    "$$"
   ]
  },
  {
   "cell_type": "markdown",
   "metadata": {},
   "source": [
    "Upon investigating the time evolution of states using the above Hamiltonian, we have seen that the stationary states of the system (those of constant energy) are not |+> and |->, but instead\n",
    "\n",
    "$\\frac{|+> + \\,\\  |->}{\\sqrt{2}}$ - in phase (a.k.a symmetric) - lower energy state\n",
    "\n",
    "$\\frac{|+> - \\,\\  |->}{\\sqrt{2}}$ - out of phase (a.k.a anti-symmetric) - higher energy state"
   ]
  },
  {
   "cell_type": "code",
   "execution_count": 7,
   "metadata": {},
   "outputs": [],
   "source": [
    "in_phase = (plus + minus).unit()\n",
    "out_phase = (plus - minus).unit()"
   ]
  },
  {
   "cell_type": "markdown",
   "metadata": {},
   "source": [
    "and we have seen that the coupling effectively splits the energy of the two states.\n",
    "\n",
    "In quantum mechanics classes we often talk about transitions between energy levels - such as those in the two level system. Such transitions can only be accomplished by connecting the system to the \"environment\". "
   ]
  },
  {
   "cell_type": "markdown",
   "metadata": {},
   "source": [
    "In the last tutorial we considered the environment to have a particular effect on our two state system, namely to directly perturb the energy of the states by an amount $\\pm \\delta$. Our modified Hamiltonian then took the form:\n"
   ]
  },
  {
   "cell_type": "markdown",
   "metadata": {},
   "source": [
    "$$\n",
    "H = \\begin{bmatrix}\n",
    " E_0 + \\delta  &  -A  \\\\\n",
    " -A  &  E_0 - \\delta  \\\\\n",
    "\\end{bmatrix} = E_0 I - A \\sigma_x + \\delta\\sigma_z\n",
    "$$"
   ]
  },
  {
   "cell_type": "markdown",
   "metadata": {},
   "source": [
    "*nb. The physical system we imagined was that of a particle with a dipole moment exposed an electric field.*\n",
    "\n",
    "When the perturbation $\\delta$ was time dependent ($\\sin{\\omega t}$) we discovered a resonance effect. Even when the perturbation was small, the two level system could be made to oscillate (see [Rabi cycle](https://en.wikipedia.org/wiki/Rabi_cycle)) between the upper and lower energy state when i.e. $\\omega = 2A$ - this is the physical basis for stimulated emission."
   ]
  },
  {
   "cell_type": "markdown",
   "metadata": {},
   "source": [
    "## 3.2 - Quantum fields"
   ]
  },
  {
   "cell_type": "markdown",
   "metadata": {},
   "source": [
    "So far we have considered the environment to be unaffected by the two-state system. This has been a convenient approximation but naturally leaves some bits of important physics out.\n",
    "\n",
    "To capture this missing physics we must think of the environment as a field (actually maybe many fields, but let's not over complicate things for now). For example the electric field $E$ - a continuous thing (a vector thing) that exists at all points in space and time i.e $E(r,t)$. To properly describe the interaction of our quantised two-state system with such a field, we are forced to quantise the field (in some sense) as well.\n",
    "\n",
    "But what does quantising a field mean? Answering this question in a completely satisfactory way will take us down the rather deep rabbit hole of [Quantum Field Theory](https://en.wikipedia.org/wiki/Quantum_field_theory) and [Lagrangian mechanics](https://en.wikipedia.org/wiki/Lagrangian_(field_theory)) - we will not go there today! For now, we will simply summarise the most important bits (which are by no means self evident) that will help us to explore some of the physics using QuTiP. The following might still seem a bit alien but I promise we'll get to some calculations soon."
   ]
  },
  {
   "cell_type": "markdown",
   "metadata": {},
   "source": [
    "### 3.2.1 - Fields as harmonic oscillators\n",
    "\n",
    "The Lagrangian for a field (and resulting Hamiltonian that's of direct interest to us) can represented in a way that's mathematically equivalent to a set of independent harmonic oscillators. This is actually a classical result that comes from:\n",
    "- The requirements of relativity and that the field equations (like Maxwell's equations) are linear\n",
    "- The field being represented as a sum of plane waves like:\n",
    "  \n",
    "$$\n",
    "\\underset{k}{\\sum} a_k(t)e^{i(k\\cdot r)}\n",
    "$$\n",
    "\n",
    "For more information, see [Classical Mechanics](https://en.wikipedia.org/wiki/Classical_Mechanics_(Goldstein_book)) (Section 13.6) by Goldstein and also [Student Friendly Quantum Field Theory](https://www.quantumfieldtheory.info/) (Section 3.2.3) by Kaluber"
   ]
  },
  {
   "cell_type": "markdown",
   "metadata": {},
   "source": [
    "### 3.2.2 - Quantising the field\n",
    "\n",
    "Quantisation comes from treating the classical oscillators (labeled by their mode number k) as if they are [quantum harmonic oscillators](https://en.wikipedia.org/wiki/Quantum_harmonic_oscillator) whose energy is known to take on discrete values:\n",
    "$$\n",
    "E_{k,n} = \\left(n + \\frac{1}{2} \\right)\\hbar \\omega_k\n",
    "$$\n",
    "\n",
    "where $k=0,1,2,3 ...$ and $\\omega \\propto k$. This quantisation is technically accomplished by:\n",
    "- Treating the amplitudes of the field $a_k$ as operators and not simply complex numbers\n",
    "- Applying a form of Heisenberg's uncertainty principle ([Canonical commutation relation](https://en.wikipedia.org/wiki/Canonical_commutation_relation))to the $a_k$'s, i.e.\n",
    "$$\n",
    "[a_k a_k^{\\dagger}] \\equiv a_k a_k^{\\dagger} - a_k^{\\dagger}a_k = 1\n",
    "$$\n",
    "\n",
    "The Hamiltonian for the quantised field then looks like\n",
    "\n",
    "$$\n",
    "H = \\underset{k}{\\sum} \\hbar\\omega_k\\left(a_k^{\\dagger}a_k +\\frac{1}{2}\\right)\n",
    "$$ \n",
    "\n",
    "and we can then identify the eigenvalues of the operator $a_k^{\\dagger}a_k$ as equal to $n$ (by comparing with the form of $E_{k,n}$). To understand the deeper meaning of $a_k^{\\dagger}$ and $a_k$ we must first understand how to interpret $n$."
   ]
  },
  {
   "cell_type": "markdown",
   "metadata": {},
   "source": [
    "### 3.2.3 - The meaning of $n$\n",
    "\n",
    "When we first encounter the quantum harmonic oscillator, it is usually to model a particle moving in a quadratic potential well. There, we think of $n$ as simply a label for the energy state of the particle with energy $\\left(n + \\frac{1}{2} \\right)\\hbar \\omega$. \n",
    "\n",
    "In quantum field theory, $n$ is interpreted as a particle number. As an example, take the $k=3$ mode with $n=2$. This means the field has 2 particles with energy $\\hbar \\omega_3$. These particles are what people call bosons and they have different names depending on the field being described, e.g. photons, phonons etc.\n",
    "\n",
    "The particle number interpretation suggests that a natural way to describe the states of a quantum field is by the number of bosons in each mode, i.e. $|n_{k_1}, n_{k_2}, n_{k_3}, \\cdots>$ - this is called a [Fock state](https://en.wikipedia.org/wiki/Fock_state). For simplicity, consider that there is only one mode. We can represent the different states of the field as:\n",
    "\n",
    "$$\n",
    "|0> = \\begin{bmatrix}\n",
    " 1   \\\\\n",
    " 0   \\\\\n",
    " 0   \\\\\n",
    " \\vdots\n",
    " \\end{bmatrix}, \\ \\ \\ \n",
    "|1> = \\begin{bmatrix}\n",
    " 0   \\\\\n",
    " 1   \\\\\n",
    " 0   \\\\\n",
    " \\vdots\n",
    "\\end{bmatrix}, \\ \\ \\\n",
    "|2> = \\begin{bmatrix}\n",
    " 0   \\\\\n",
    " 0   \\\\\n",
    " 1   \\\\\n",
    " \\vdots\n",
    "\\end{bmatrix}\n",
    "$$\n",
    "\n",
    "In QuTiP, we can create Fock states using the same `basis` function that we used previously to represent our two-states system. For example, to represent a field with a single mode, with a maximum capacity of 4 bosons, that currently occupied by only 2 bosons, we can write:"
   ]
  },
  {
   "cell_type": "code",
   "execution_count": 11,
   "metadata": {},
   "outputs": [
    {
     "data": {
      "text/latex": [
       "Quantum object: dims = [[5], [1]], shape = (5, 1), type = ket\\begin{equation*}\\left(\\begin{array}{*{11}c}0.0\\\\0.0\\\\1.0\\\\0.0\\\\0.0\\\\\\end{array}\\right)\\end{equation*}"
      ],
      "text/plain": [
       "Quantum object: dims = [[5], [1]], shape = (5, 1), type = ket\n",
       "Qobj data =\n",
       "[[0.]\n",
       " [0.]\n",
       " [1.]\n",
       " [0.]\n",
       " [0.]]"
      ]
     },
     "execution_count": 11,
     "metadata": {},
     "output_type": "execute_result"
    }
   ],
   "source": [
    "two = basis(5, 2)\n",
    "two"
   ]
  },
  {
   "cell_type": "markdown",
   "metadata": {},
   "source": [
    "It is now possible to identify the operator $a_k^{\\dagger}a_k$ as having eigenvalues equal to the the number of bosons in mode k and having eigenvectors equal to the fock states, e.g.\n",
    "\n",
    "$$\n",
    "a_k^{\\dagger}a_k |2> = 2 |2>\n",
    "$$\n",
    "\n",
    "We call $a_k^{\\dagger}a_k$ the number operator.\n",
    "\n",
    "But what about the individual $a_k^{\\dagger}$ and $a_k$ operators? How do we understand them? How can we construct them?"
   ]
  },
  {
   "cell_type": "markdown",
   "metadata": {},
   "source": [
    "### 3.2.4 - The meaning of $a_k^{\\dagger}$ and $a_k$\n",
    "Once we understand $a_k^{\\dagger}$ and $a_k$ we are in a position to build the Hamiltonian and start doing some simulations with QuTiP. \n",
    "\n",
    "Let's apply the number operator to a state that is not obviously one of its eigenstates. e.g. $a_k^{\\dagger}|2>$\n",
    "\n",
    "$$\n",
    "a_k^{\\dagger}a_k (a_k^{\\dagger}|2>) = a_k^{\\dagger}a_k a_k^{\\dagger} |2> \\overset{[a_k a_k^{\\dagger}]=1}{=} a_k^{\\dagger}(a_k^{\\dagger}a_k+1) |2> = a_k^{\\dagger}(2+1) |2> = 3a_k^{\\dagger}|2>\n",
    "$$\n",
    "\n",
    "So, the number of bosons in the state $a_k^{\\dagger}|2>$ is 3. In effect the $a_k^{\\dagger}$ operator has created a new boson so we call it a **creation** operator. We can perform a similar calculation with the $a_k$ operator to find it reduces the number of bosons and so we call it an **annihilation** or **destruction** operator.\n",
    "\n",
    "QuTiP allows us to construct the creation and destruction operators using the [`create` and `destroy` functions](http://qutip.org/docs/latest/apidoc/functions.html?highlight=create#qutip.operators.create)"
   ]
  },
  {
   "cell_type": "code",
   "execution_count": 17,
   "metadata": {},
   "outputs": [],
   "source": [
    "a = destroy(5)\n",
    "a_dag = create(5) # we could also use a.dag()"
   ]
  },
  {
   "cell_type": "markdown",
   "metadata": {},
   "source": [
    "Applying creation to our *two* state gives"
   ]
  },
  {
   "cell_type": "code",
   "execution_count": 32,
   "metadata": {},
   "outputs": [
    {
     "data": {
      "text/latex": [
       "Quantum object: dims = [[5], [1]], shape = (5, 1), type = ket\\begin{equation*}\\left(\\begin{array}{*{11}c}0.0\\\\0.0\\\\0.0\\\\1.732\\\\0.0\\\\\\end{array}\\right)\\end{equation*}"
      ],
      "text/plain": [
       "Quantum object: dims = [[5], [1]], shape = (5, 1), type = ket\n",
       "Qobj data =\n",
       "[[0.        ]\n",
       " [0.        ]\n",
       " [0.        ]\n",
       " [1.73205081]\n",
       " [0.        ]]"
      ]
     },
     "execution_count": 32,
     "metadata": {},
     "output_type": "execute_result"
    }
   ],
   "source": [
    "a_dag*two"
   ]
  },
  {
   "cell_type": "markdown",
   "metadata": {},
   "source": [
    "Once we normalise this state we can see immediately that $|2>$ has become state $|3>$ under the $a_k^{\\dagger}$ operator"
   ]
  },
  {
   "cell_type": "code",
   "execution_count": 33,
   "metadata": {},
   "outputs": [
    {
     "data": {
      "text/latex": [
       "Quantum object: dims = [[5], [1]], shape = (5, 1), type = ket\\begin{equation*}\\left(\\begin{array}{*{11}c}0.0\\\\0.0\\\\0.0\\\\1.0\\\\0.0\\\\\\end{array}\\right)\\end{equation*}"
      ],
      "text/plain": [
       "Quantum object: dims = [[5], [1]], shape = (5, 1), type = ket\n",
       "Qobj data =\n",
       "[[0.]\n",
       " [0.]\n",
       " [0.]\n",
       " [1.]\n",
       " [0.]]"
      ]
     },
     "execution_count": 33,
     "metadata": {},
     "output_type": "execute_result"
    }
   ],
   "source": [
    "(a_dag*two).unit()"
   ]
  },
  {
   "cell_type": "markdown",
   "metadata": {},
   "source": [
    "Similarly we can see that $|2>$ becomes $|1>$ under the $a_k$ operator"
   ]
  },
  {
   "cell_type": "code",
   "execution_count": 35,
   "metadata": {},
   "outputs": [
    {
     "data": {
      "text/latex": [
       "Quantum object: dims = [[5], [1]], shape = (5, 1), type = ket\\begin{equation*}\\left(\\begin{array}{*{11}c}0.0\\\\1.0\\\\0.0\\\\0.0\\\\0.0\\\\\\end{array}\\right)\\end{equation*}"
      ],
      "text/plain": [
       "Quantum object: dims = [[5], [1]], shape = (5, 1), type = ket\n",
       "Qobj data =\n",
       "[[0.]\n",
       " [1.]\n",
       " [0.]\n",
       " [0.]\n",
       " [0.]]"
      ]
     },
     "execution_count": 35,
     "metadata": {},
     "output_type": "execute_result"
    }
   ],
   "source": [
    "(a*two).unit()"
   ]
  },
  {
   "cell_type": "markdown",
   "metadata": {},
   "source": [
    "Ok, let's take a look at our Hamiltonian"
   ]
  },
  {
   "cell_type": "markdown",
   "metadata": {},
   "source": [
    "## 3.3 - The Hamiltonian for a quantum field"
   ]
  },
  {
   "cell_type": "markdown",
   "metadata": {},
   "source": [
    "We have seen that to describe a quantum field we need to construct a Hamiltonian of the form:\n",
    "\n",
    "$$\n",
    "H = \\underset{k}{\\sum} \\hbar\\omega_k\\left(a_k^{\\dagger}a_k +\\frac{1}{2}\\right)\n",
    "$$\n",
    "\n",
    "where the sum is over all the possible modes of the field and $a_k^{\\dagger}$ and $a_k$ operators create and destroy phonons in the k'th mode.\n",
    "\n",
    "Let's continue to consider only a single mode and let's also continue to only consider a maximum of 4 bosons in that mode. For simplicity we'll set the energy of the mode $\\hbar\\omega$ = 1."
   ]
  },
  {
   "cell_type": "code",
   "execution_count": 36,
   "metadata": {},
   "outputs": [],
   "source": [
    "E_boson = 1\n",
    "max_bosons = 4\n",
    "\n",
    "a = destroy(max_bosons+1)\n",
    "\n",
    "H = E_boson*(a.dag()*a+0.5)"
   ]
  },
  {
   "cell_type": "code",
   "execution_count": 37,
   "metadata": {},
   "outputs": [
    {
     "data": {
      "text/latex": [
       "Quantum object: dims = [[5], [5]], shape = (5, 5), type = oper, isherm = True\\begin{equation*}\\left(\\begin{array}{*{11}c}0.500 & 0.0 & 0.0 & 0.0 & 0.0\\\\0.0 & 1.500 & 0.0 & 0.0 & 0.0\\\\0.0 & 0.0 & 2.500 & 0.0 & 0.0\\\\0.0 & 0.0 & 0.0 & 3.500 & 0.0\\\\0.0 & 0.0 & 0.0 & 0.0 & 4.500\\\\\\end{array}\\right)\\end{equation*}"
      ],
      "text/plain": [
       "Quantum object: dims = [[5], [5]], shape = (5, 5), type = oper, isherm = True\n",
       "Qobj data =\n",
       "[[0.5 0.  0.  0.  0. ]\n",
       " [0.  1.5 0.  0.  0. ]\n",
       " [0.  0.  2.5 0.  0. ]\n",
       " [0.  0.  0.  3.5 0. ]\n",
       " [0.  0.  0.  0.  4.5]]"
      ]
     },
     "execution_count": 37,
     "metadata": {},
     "output_type": "execute_result"
    }
   ],
   "source": [
    "H"
   ]
  },
  {
   "cell_type": "markdown",
   "metadata": {},
   "source": [
    "Because the Hamiltonian is diagonal there is no coupling between the different number states. Without doing any further calculation we can therefore say that if we start out with e.g. 3 bosons in the mode then we'll continue to have 3 bosons in the mode indefinitely. This is the same type of behaviour that we saw in the isolated two state system (see section 1.1).\n",
    "\n",
    "We do expect that bosons can get created and destroyed as a result of interaction with another system, e.g. when the electrons in an transition between different energy levels. Let's see how we can model that."
   ]
  },
  {
   "cell_type": "markdown",
   "metadata": {},
   "source": [
    "## 3.4 - Coupling to a quantum field"
   ]
  },
  {
   "cell_type": "markdown",
   "metadata": {},
   "source": [
    "$$H =  E_0 I - A \\sigma_x + \\hbar\\omega\\left(a^{\\dagger}a +\\frac{1}{2}\\right)$$\n"
   ]
  },
  {
   "cell_type": "markdown",
   "metadata": {},
   "source": [
    "> TODO: make some comments about guage symmetry as determining the interaction term."
   ]
  },
  {
   "cell_type": "code",
   "execution_count": null,
   "metadata": {},
   "outputs": [],
   "source": []
  }
 ],
 "metadata": {
  "jupytext": {
   "formats": "ipynb,src//md"
  },
  "kernelspec": {
   "display_name": "Python 3",
   "language": "python",
   "name": "python3"
  },
  "language_info": {
   "codemirror_mode": {
    "name": "ipython",
    "version": 3
   },
   "file_extension": ".py",
   "mimetype": "text/x-python",
   "name": "python",
   "nbconvert_exporter": "python",
   "pygments_lexer": "ipython3",
   "version": "3.7.1"
  }
 },
 "nbformat": 4,
 "nbformat_minor": 4
}
